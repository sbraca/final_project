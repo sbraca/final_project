{
 "cells": [
  {
   "cell_type": "code",
   "execution_count": 1,
   "metadata": {},
   "outputs": [],
   "source": [
    "import pandas as pd\n",
    "import umap\n",
    "import numpy as np\n",
    "import matplotlib.pyplot as plt\n",
    "import seaborn as sns\n",
    "from sklearn.model_selection import train_test_split\n",
    "from sklearn.cluster import DBSCAN\n",
    "import hdbscan\n",
    "\n",
    "%matplotlib inline"
   ]
  },
  {
   "cell_type": "code",
   "execution_count": 2,
   "metadata": {},
   "outputs": [],
   "source": [
    "from sklearn.pipeline import Pipeline\n",
    "from sklearn.compose import ColumnTransformer\n",
    "from sklearn.impute import SimpleImputer\n",
    "from sklearn.preprocessing import StandardScaler\n",
    "from sklearn.preprocessing import OneHotEncoder, OrdinalEncoder"
   ]
  },
  {
   "cell_type": "code",
   "execution_count": 3,
   "metadata": {},
   "outputs": [],
   "source": [
    "from sklearn.cluster import KMeans"
   ]
  },
  {
   "cell_type": "code",
   "execution_count": 4,
   "metadata": {},
   "outputs": [],
   "source": [
    "final_df = pd.read_csv(\"../data/processed/final_df.csv\")"
   ]
  },
  {
   "cell_type": "code",
   "execution_count": 5,
   "metadata": {},
   "outputs": [],
   "source": [
    "final_df.set_index('id_student', inplace=True)"
   ]
  },
  {
   "cell_type": "code",
   "execution_count": 6,
   "metadata": {},
   "outputs": [],
   "source": [
    "def drop_col (df, list):\n",
    "    df.drop(columns=(list), inplace=True)\n",
    "    return df"
   ]
  },
  {
   "cell_type": "code",
   "execution_count": 7,
   "metadata": {},
   "outputs": [],
   "source": [
    "col_drop = [\"press_mod\", \"region\", \"gender\"]"
   ]
  },
  {
   "cell_type": "code",
   "execution_count": 8,
   "metadata": {},
   "outputs": [
    {
     "data": {
      "text/html": [
       "<div>\n",
       "<style scoped>\n",
       "    .dataframe tbody tr th:only-of-type {\n",
       "        vertical-align: middle;\n",
       "    }\n",
       "\n",
       "    .dataframe tbody tr th {\n",
       "        vertical-align: top;\n",
       "    }\n",
       "\n",
       "    .dataframe thead th {\n",
       "        text-align: right;\n",
       "    }\n",
       "</style>\n",
       "<table border=\"1\" class=\"dataframe\">\n",
       "  <thead>\n",
       "    <tr style=\"text-align: right;\">\n",
       "      <th></th>\n",
       "      <th>age_band</th>\n",
       "      <th>highest_education</th>\n",
       "      <th>n_assignments</th>\n",
       "      <th>mean_score</th>\n",
       "      <th>final_result</th>\n",
       "      <th>total_clicks</th>\n",
       "      <th>studied_credits</th>\n",
       "      <th>code_module</th>\n",
       "      <th>code_presentation</th>\n",
       "    </tr>\n",
       "    <tr>\n",
       "      <th>id_student</th>\n",
       "      <th></th>\n",
       "      <th></th>\n",
       "      <th></th>\n",
       "      <th></th>\n",
       "      <th></th>\n",
       "      <th></th>\n",
       "      <th></th>\n",
       "      <th></th>\n",
       "      <th></th>\n",
       "    </tr>\n",
       "  </thead>\n",
       "  <tbody>\n",
       "    <tr>\n",
       "      <th>11391</th>\n",
       "      <td>55&lt;=</td>\n",
       "      <td>HE Qualification</td>\n",
       "      <td>5</td>\n",
       "      <td>82.000000</td>\n",
       "      <td>Pass</td>\n",
       "      <td>934</td>\n",
       "      <td>240</td>\n",
       "      <td>AAA</td>\n",
       "      <td>2013J</td>\n",
       "    </tr>\n",
       "    <tr>\n",
       "      <th>28400</th>\n",
       "      <td>35-55</td>\n",
       "      <td>HE Qualification</td>\n",
       "      <td>5</td>\n",
       "      <td>66.400000</td>\n",
       "      <td>Pass</td>\n",
       "      <td>1435</td>\n",
       "      <td>60</td>\n",
       "      <td>AAA</td>\n",
       "      <td>2013J</td>\n",
       "    </tr>\n",
       "    <tr>\n",
       "      <th>31604</th>\n",
       "      <td>35-55</td>\n",
       "      <td>A Level or Equivalent</td>\n",
       "      <td>5</td>\n",
       "      <td>76.000000</td>\n",
       "      <td>Pass</td>\n",
       "      <td>2158</td>\n",
       "      <td>60</td>\n",
       "      <td>AAA</td>\n",
       "      <td>2013J</td>\n",
       "    </tr>\n",
       "    <tr>\n",
       "      <th>32885</th>\n",
       "      <td>0-35</td>\n",
       "      <td>Lower Than A Level</td>\n",
       "      <td>5</td>\n",
       "      <td>54.400000</td>\n",
       "      <td>Pass</td>\n",
       "      <td>1034</td>\n",
       "      <td>60</td>\n",
       "      <td>AAA</td>\n",
       "      <td>2013J</td>\n",
       "    </tr>\n",
       "    <tr>\n",
       "      <th>38053</th>\n",
       "      <td>35-55</td>\n",
       "      <td>A Level or Equivalent</td>\n",
       "      <td>5</td>\n",
       "      <td>68.000000</td>\n",
       "      <td>Pass</td>\n",
       "      <td>2445</td>\n",
       "      <td>60</td>\n",
       "      <td>AAA</td>\n",
       "      <td>2013J</td>\n",
       "    </tr>\n",
       "    <tr>\n",
       "      <th>...</th>\n",
       "      <td>...</td>\n",
       "      <td>...</td>\n",
       "      <td>...</td>\n",
       "      <td>...</td>\n",
       "      <td>...</td>\n",
       "      <td>...</td>\n",
       "      <td>...</td>\n",
       "      <td>...</td>\n",
       "      <td>...</td>\n",
       "    </tr>\n",
       "    <tr>\n",
       "      <th>2620947</th>\n",
       "      <td>0-35</td>\n",
       "      <td>A Level or Equivalent</td>\n",
       "      <td>9</td>\n",
       "      <td>88.888889</td>\n",
       "      <td>Distinction</td>\n",
       "      <td>476</td>\n",
       "      <td>30</td>\n",
       "      <td>GGG</td>\n",
       "      <td>2014J</td>\n",
       "    </tr>\n",
       "    <tr>\n",
       "      <th>2645731</th>\n",
       "      <td>35-55</td>\n",
       "      <td>Lower Than A Level</td>\n",
       "      <td>9</td>\n",
       "      <td>88.111111</td>\n",
       "      <td>Distinction</td>\n",
       "      <td>893</td>\n",
       "      <td>30</td>\n",
       "      <td>GGG</td>\n",
       "      <td>2014J</td>\n",
       "    </tr>\n",
       "    <tr>\n",
       "      <th>2648187</th>\n",
       "      <td>0-35</td>\n",
       "      <td>A Level or Equivalent</td>\n",
       "      <td>9</td>\n",
       "      <td>76.666667</td>\n",
       "      <td>Pass</td>\n",
       "      <td>312</td>\n",
       "      <td>30</td>\n",
       "      <td>GGG</td>\n",
       "      <td>2014J</td>\n",
       "    </tr>\n",
       "    <tr>\n",
       "      <th>2679821</th>\n",
       "      <td>35-55</td>\n",
       "      <td>Lower Than A Level</td>\n",
       "      <td>2</td>\n",
       "      <td>91.500000</td>\n",
       "      <td>Withdrawn</td>\n",
       "      <td>275</td>\n",
       "      <td>30</td>\n",
       "      <td>GGG</td>\n",
       "      <td>2014J</td>\n",
       "    </tr>\n",
       "    <tr>\n",
       "      <th>2684003</th>\n",
       "      <td>35-55</td>\n",
       "      <td>HE Qualification</td>\n",
       "      <td>7</td>\n",
       "      <td>82.857143</td>\n",
       "      <td>Distinction</td>\n",
       "      <td>616</td>\n",
       "      <td>30</td>\n",
       "      <td>GGG</td>\n",
       "      <td>2014J</td>\n",
       "    </tr>\n",
       "  </tbody>\n",
       "</table>\n",
       "<p>26721 rows × 9 columns</p>\n",
       "</div>"
      ],
      "text/plain": [
       "           age_band      highest_education  n_assignments  mean_score  \\\n",
       "id_student                                                              \n",
       "11391          55<=       HE Qualification              5   82.000000   \n",
       "28400         35-55       HE Qualification              5   66.400000   \n",
       "31604         35-55  A Level or Equivalent              5   76.000000   \n",
       "32885          0-35     Lower Than A Level              5   54.400000   \n",
       "38053         35-55  A Level or Equivalent              5   68.000000   \n",
       "...             ...                    ...            ...         ...   \n",
       "2620947        0-35  A Level or Equivalent              9   88.888889   \n",
       "2645731       35-55     Lower Than A Level              9   88.111111   \n",
       "2648187        0-35  A Level or Equivalent              9   76.666667   \n",
       "2679821       35-55     Lower Than A Level              2   91.500000   \n",
       "2684003       35-55       HE Qualification              7   82.857143   \n",
       "\n",
       "           final_result  total_clicks  studied_credits code_module  \\\n",
       "id_student                                                           \n",
       "11391              Pass           934              240         AAA   \n",
       "28400              Pass          1435               60         AAA   \n",
       "31604              Pass          2158               60         AAA   \n",
       "32885              Pass          1034               60         AAA   \n",
       "38053              Pass          2445               60         AAA   \n",
       "...                 ...           ...              ...         ...   \n",
       "2620947     Distinction           476               30         GGG   \n",
       "2645731     Distinction           893               30         GGG   \n",
       "2648187            Pass           312               30         GGG   \n",
       "2679821       Withdrawn           275               30         GGG   \n",
       "2684003     Distinction           616               30         GGG   \n",
       "\n",
       "           code_presentation  \n",
       "id_student                    \n",
       "11391                  2013J  \n",
       "28400                  2013J  \n",
       "31604                  2013J  \n",
       "32885                  2013J  \n",
       "38053                  2013J  \n",
       "...                      ...  \n",
       "2620947                2014J  \n",
       "2645731                2014J  \n",
       "2648187                2014J  \n",
       "2679821                2014J  \n",
       "2684003                2014J  \n",
       "\n",
       "[26721 rows x 9 columns]"
      ]
     },
     "execution_count": 8,
     "metadata": {},
     "output_type": "execute_result"
    }
   ],
   "source": [
    "drop_col(final_df, col_drop)"
   ]
  },
  {
   "cell_type": "code",
   "execution_count": 9,
   "metadata": {},
   "outputs": [],
   "source": [
    "idx=final_df.index.tolist()"
   ]
  },
  {
   "cell_type": "code",
   "execution_count": 10,
   "metadata": {},
   "outputs": [
    {
     "data": {
      "text/plain": [
       "6516"
      ]
     },
     "execution_count": 10,
     "metadata": {},
     "output_type": "execute_result"
    }
   ],
   "source": [
    "final_df.index.min()"
   ]
  },
  {
   "cell_type": "code",
   "execution_count": 11,
   "metadata": {},
   "outputs": [
    {
     "data": {
      "text/html": [
       "<div>\n",
       "<style scoped>\n",
       "    .dataframe tbody tr th:only-of-type {\n",
       "        vertical-align: middle;\n",
       "    }\n",
       "\n",
       "    .dataframe tbody tr th {\n",
       "        vertical-align: top;\n",
       "    }\n",
       "\n",
       "    .dataframe thead th {\n",
       "        text-align: right;\n",
       "    }\n",
       "</style>\n",
       "<table border=\"1\" class=\"dataframe\">\n",
       "  <thead>\n",
       "    <tr style=\"text-align: right;\">\n",
       "      <th></th>\n",
       "      <th>age_band</th>\n",
       "      <th>highest_education</th>\n",
       "      <th>n_assignments</th>\n",
       "      <th>mean_score</th>\n",
       "      <th>final_result</th>\n",
       "      <th>total_clicks</th>\n",
       "      <th>studied_credits</th>\n",
       "      <th>code_module</th>\n",
       "      <th>code_presentation</th>\n",
       "    </tr>\n",
       "    <tr>\n",
       "      <th>id_student</th>\n",
       "      <th></th>\n",
       "      <th></th>\n",
       "      <th></th>\n",
       "      <th></th>\n",
       "      <th></th>\n",
       "      <th></th>\n",
       "      <th></th>\n",
       "      <th></th>\n",
       "      <th></th>\n",
       "    </tr>\n",
       "  </thead>\n",
       "  <tbody>\n",
       "    <tr>\n",
       "      <th>11391</th>\n",
       "      <td>55&lt;=</td>\n",
       "      <td>HE Qualification</td>\n",
       "      <td>5</td>\n",
       "      <td>82.000000</td>\n",
       "      <td>Pass</td>\n",
       "      <td>934</td>\n",
       "      <td>240</td>\n",
       "      <td>AAA</td>\n",
       "      <td>2013J</td>\n",
       "    </tr>\n",
       "    <tr>\n",
       "      <th>28400</th>\n",
       "      <td>35-55</td>\n",
       "      <td>HE Qualification</td>\n",
       "      <td>5</td>\n",
       "      <td>66.400000</td>\n",
       "      <td>Pass</td>\n",
       "      <td>1435</td>\n",
       "      <td>60</td>\n",
       "      <td>AAA</td>\n",
       "      <td>2013J</td>\n",
       "    </tr>\n",
       "    <tr>\n",
       "      <th>31604</th>\n",
       "      <td>35-55</td>\n",
       "      <td>A Level or Equivalent</td>\n",
       "      <td>5</td>\n",
       "      <td>76.000000</td>\n",
       "      <td>Pass</td>\n",
       "      <td>2158</td>\n",
       "      <td>60</td>\n",
       "      <td>AAA</td>\n",
       "      <td>2013J</td>\n",
       "    </tr>\n",
       "    <tr>\n",
       "      <th>32885</th>\n",
       "      <td>0-35</td>\n",
       "      <td>Lower Than A Level</td>\n",
       "      <td>5</td>\n",
       "      <td>54.400000</td>\n",
       "      <td>Pass</td>\n",
       "      <td>1034</td>\n",
       "      <td>60</td>\n",
       "      <td>AAA</td>\n",
       "      <td>2013J</td>\n",
       "    </tr>\n",
       "    <tr>\n",
       "      <th>38053</th>\n",
       "      <td>35-55</td>\n",
       "      <td>A Level or Equivalent</td>\n",
       "      <td>5</td>\n",
       "      <td>68.000000</td>\n",
       "      <td>Pass</td>\n",
       "      <td>2445</td>\n",
       "      <td>60</td>\n",
       "      <td>AAA</td>\n",
       "      <td>2013J</td>\n",
       "    </tr>\n",
       "    <tr>\n",
       "      <th>...</th>\n",
       "      <td>...</td>\n",
       "      <td>...</td>\n",
       "      <td>...</td>\n",
       "      <td>...</td>\n",
       "      <td>...</td>\n",
       "      <td>...</td>\n",
       "      <td>...</td>\n",
       "      <td>...</td>\n",
       "      <td>...</td>\n",
       "    </tr>\n",
       "    <tr>\n",
       "      <th>2620947</th>\n",
       "      <td>0-35</td>\n",
       "      <td>A Level or Equivalent</td>\n",
       "      <td>9</td>\n",
       "      <td>88.888889</td>\n",
       "      <td>Distinction</td>\n",
       "      <td>476</td>\n",
       "      <td>30</td>\n",
       "      <td>GGG</td>\n",
       "      <td>2014J</td>\n",
       "    </tr>\n",
       "    <tr>\n",
       "      <th>2645731</th>\n",
       "      <td>35-55</td>\n",
       "      <td>Lower Than A Level</td>\n",
       "      <td>9</td>\n",
       "      <td>88.111111</td>\n",
       "      <td>Distinction</td>\n",
       "      <td>893</td>\n",
       "      <td>30</td>\n",
       "      <td>GGG</td>\n",
       "      <td>2014J</td>\n",
       "    </tr>\n",
       "    <tr>\n",
       "      <th>2648187</th>\n",
       "      <td>0-35</td>\n",
       "      <td>A Level or Equivalent</td>\n",
       "      <td>9</td>\n",
       "      <td>76.666667</td>\n",
       "      <td>Pass</td>\n",
       "      <td>312</td>\n",
       "      <td>30</td>\n",
       "      <td>GGG</td>\n",
       "      <td>2014J</td>\n",
       "    </tr>\n",
       "    <tr>\n",
       "      <th>2679821</th>\n",
       "      <td>35-55</td>\n",
       "      <td>Lower Than A Level</td>\n",
       "      <td>2</td>\n",
       "      <td>91.500000</td>\n",
       "      <td>Withdrawn</td>\n",
       "      <td>275</td>\n",
       "      <td>30</td>\n",
       "      <td>GGG</td>\n",
       "      <td>2014J</td>\n",
       "    </tr>\n",
       "    <tr>\n",
       "      <th>2684003</th>\n",
       "      <td>35-55</td>\n",
       "      <td>HE Qualification</td>\n",
       "      <td>7</td>\n",
       "      <td>82.857143</td>\n",
       "      <td>Distinction</td>\n",
       "      <td>616</td>\n",
       "      <td>30</td>\n",
       "      <td>GGG</td>\n",
       "      <td>2014J</td>\n",
       "    </tr>\n",
       "  </tbody>\n",
       "</table>\n",
       "<p>26721 rows × 9 columns</p>\n",
       "</div>"
      ],
      "text/plain": [
       "           age_band      highest_education  n_assignments  mean_score  \\\n",
       "id_student                                                              \n",
       "11391          55<=       HE Qualification              5   82.000000   \n",
       "28400         35-55       HE Qualification              5   66.400000   \n",
       "31604         35-55  A Level or Equivalent              5   76.000000   \n",
       "32885          0-35     Lower Than A Level              5   54.400000   \n",
       "38053         35-55  A Level or Equivalent              5   68.000000   \n",
       "...             ...                    ...            ...         ...   \n",
       "2620947        0-35  A Level or Equivalent              9   88.888889   \n",
       "2645731       35-55     Lower Than A Level              9   88.111111   \n",
       "2648187        0-35  A Level or Equivalent              9   76.666667   \n",
       "2679821       35-55     Lower Than A Level              2   91.500000   \n",
       "2684003       35-55       HE Qualification              7   82.857143   \n",
       "\n",
       "           final_result  total_clicks  studied_credits code_module  \\\n",
       "id_student                                                           \n",
       "11391              Pass           934              240         AAA   \n",
       "28400              Pass          1435               60         AAA   \n",
       "31604              Pass          2158               60         AAA   \n",
       "32885              Pass          1034               60         AAA   \n",
       "38053              Pass          2445               60         AAA   \n",
       "...                 ...           ...              ...         ...   \n",
       "2620947     Distinction           476               30         GGG   \n",
       "2645731     Distinction           893               30         GGG   \n",
       "2648187            Pass           312               30         GGG   \n",
       "2679821       Withdrawn           275               30         GGG   \n",
       "2684003     Distinction           616               30         GGG   \n",
       "\n",
       "           code_presentation  \n",
       "id_student                    \n",
       "11391                  2013J  \n",
       "28400                  2013J  \n",
       "31604                  2013J  \n",
       "32885                  2013J  \n",
       "38053                  2013J  \n",
       "...                      ...  \n",
       "2620947                2014J  \n",
       "2645731                2014J  \n",
       "2648187                2014J  \n",
       "2679821                2014J  \n",
       "2684003                2014J  \n",
       "\n",
       "[26721 rows x 9 columns]"
      ]
     },
     "execution_count": 11,
     "metadata": {},
     "output_type": "execute_result"
    }
   ],
   "source": [
    "final_df"
   ]
  },
  {
   "cell_type": "code",
   "execution_count": 12,
   "metadata": {},
   "outputs": [
    {
     "data": {
      "text/plain": [
       "Index(['age_band', 'highest_education', 'n_assignments', 'mean_score',\n",
       "       'final_result', 'total_clicks', 'studied_credits', 'code_module',\n",
       "       'code_presentation'],\n",
       "      dtype='object')"
      ]
     },
     "execution_count": 12,
     "metadata": {},
     "output_type": "execute_result"
    }
   ],
   "source": [
    "final_df.columns"
   ]
  },
  {
   "cell_type": "markdown",
   "metadata": {},
   "source": [
    "## Scaling NUM Feats."
   ]
  },
  {
   "cell_type": "code",
   "execution_count": 13,
   "metadata": {},
   "outputs": [],
   "source": [
    "FEATS = ['n_assignments', 'mean_score', 'total_clicks', 'studied_credits']\n"
   ]
  },
  {
   "cell_type": "code",
   "execution_count": 14,
   "metadata": {},
   "outputs": [],
   "source": [
    "transformer = \\\n",
    "Pipeline(steps=[('imputer', SimpleImputer(strategy='mean')), \n",
    "                ('scaler', StandardScaler())])\n"
   ]
  },
  {
   "cell_type": "code",
   "execution_count": 15,
   "metadata": {},
   "outputs": [],
   "source": [
    "preprocessor = \\\n",
    "ColumnTransformer(transformers=[('num', transformer,FEATS)])"
   ]
  },
  {
   "cell_type": "code",
   "execution_count": 16,
   "metadata": {},
   "outputs": [
    {
     "data": {
      "text/plain": [
       "ColumnTransformer(n_jobs=None, remainder='drop', sparse_threshold=0.3,\n",
       "                  transformer_weights=None,\n",
       "                  transformers=[('num',\n",
       "                                 Pipeline(memory=None,\n",
       "                                          steps=[('imputer',\n",
       "                                                  SimpleImputer(add_indicator=False,\n",
       "                                                                copy=True,\n",
       "                                                                fill_value=None,\n",
       "                                                                missing_values=nan,\n",
       "                                                                strategy='mean',\n",
       "                                                                verbose=0)),\n",
       "                                                 ('scaler',\n",
       "                                                  StandardScaler(copy=True,\n",
       "                                                                 with_mean=True,\n",
       "                                                                 with_std=True))],\n",
       "                                          verbose=False),\n",
       "                                 ['n_assignments', 'mean_score', 'total_clicks',\n",
       "                                  'studied_credits'])],\n",
       "                  verbose=False)"
      ]
     },
     "execution_count": 16,
     "metadata": {},
     "output_type": "execute_result"
    }
   ],
   "source": [
    "preprocessor"
   ]
  },
  {
   "cell_type": "code",
   "execution_count": 17,
   "metadata": {},
   "outputs": [],
   "source": [
    "blind_num_df = pd.DataFrame(data=preprocessor.fit_transform(final_df))"
   ]
  },
  {
   "cell_type": "code",
   "execution_count": 18,
   "metadata": {},
   "outputs": [
    {
     "data": {
      "text/html": [
       "<div>\n",
       "<style scoped>\n",
       "    .dataframe tbody tr th:only-of-type {\n",
       "        vertical-align: middle;\n",
       "    }\n",
       "\n",
       "    .dataframe tbody tr th {\n",
       "        vertical-align: top;\n",
       "    }\n",
       "\n",
       "    .dataframe thead th {\n",
       "        text-align: right;\n",
       "    }\n",
       "</style>\n",
       "<table border=\"1\" class=\"dataframe\">\n",
       "  <thead>\n",
       "    <tr style=\"text-align: right;\">\n",
       "      <th></th>\n",
       "      <th>0</th>\n",
       "      <th>1</th>\n",
       "      <th>2</th>\n",
       "      <th>3</th>\n",
       "    </tr>\n",
       "  </thead>\n",
       "  <tbody>\n",
       "    <tr>\n",
       "      <th>0</th>\n",
       "      <td>-0.604870</td>\n",
       "      <td>0.589045</td>\n",
       "      <td>-0.409888</td>\n",
       "      <td>4.156988</td>\n",
       "    </tr>\n",
       "    <tr>\n",
       "      <th>1</th>\n",
       "      <td>-0.604870</td>\n",
       "      <td>-0.413900</td>\n",
       "      <td>-0.170668</td>\n",
       "      <td>-0.455321</td>\n",
       "    </tr>\n",
       "    <tr>\n",
       "      <th>2</th>\n",
       "      <td>-0.604870</td>\n",
       "      <td>0.203296</td>\n",
       "      <td>0.174555</td>\n",
       "      <td>-0.455321</td>\n",
       "    </tr>\n",
       "    <tr>\n",
       "      <th>3</th>\n",
       "      <td>-0.604870</td>\n",
       "      <td>-1.185397</td>\n",
       "      <td>-0.362140</td>\n",
       "      <td>-0.455321</td>\n",
       "    </tr>\n",
       "    <tr>\n",
       "      <th>4</th>\n",
       "      <td>-0.604870</td>\n",
       "      <td>-0.311034</td>\n",
       "      <td>0.311593</td>\n",
       "      <td>-0.455321</td>\n",
       "    </tr>\n",
       "    <tr>\n",
       "      <th>...</th>\n",
       "      <td>...</td>\n",
       "      <td>...</td>\n",
       "      <td>...</td>\n",
       "      <td>...</td>\n",
       "    </tr>\n",
       "    <tr>\n",
       "      <th>26716</th>\n",
       "      <td>0.275801</td>\n",
       "      <td>1.031940</td>\n",
       "      <td>-0.628577</td>\n",
       "      <td>-1.224039</td>\n",
       "    </tr>\n",
       "    <tr>\n",
       "      <th>26717</th>\n",
       "      <td>0.275801</td>\n",
       "      <td>0.981936</td>\n",
       "      <td>-0.429465</td>\n",
       "      <td>-1.224039</td>\n",
       "    </tr>\n",
       "    <tr>\n",
       "      <th>26718</th>\n",
       "      <td>0.275801</td>\n",
       "      <td>0.246157</td>\n",
       "      <td>-0.706884</td>\n",
       "      <td>-1.224039</td>\n",
       "    </tr>\n",
       "    <tr>\n",
       "      <th>26719</th>\n",
       "      <td>-1.265373</td>\n",
       "      <td>1.199812</td>\n",
       "      <td>-0.724551</td>\n",
       "      <td>-1.224039</td>\n",
       "    </tr>\n",
       "    <tr>\n",
       "      <th>26720</th>\n",
       "      <td>-0.164535</td>\n",
       "      <td>0.644151</td>\n",
       "      <td>-0.561729</td>\n",
       "      <td>-1.224039</td>\n",
       "    </tr>\n",
       "  </tbody>\n",
       "</table>\n",
       "<p>26721 rows × 4 columns</p>\n",
       "</div>"
      ],
      "text/plain": [
       "              0         1         2         3\n",
       "0     -0.604870  0.589045 -0.409888  4.156988\n",
       "1     -0.604870 -0.413900 -0.170668 -0.455321\n",
       "2     -0.604870  0.203296  0.174555 -0.455321\n",
       "3     -0.604870 -1.185397 -0.362140 -0.455321\n",
       "4     -0.604870 -0.311034  0.311593 -0.455321\n",
       "...         ...       ...       ...       ...\n",
       "26716  0.275801  1.031940 -0.628577 -1.224039\n",
       "26717  0.275801  0.981936 -0.429465 -1.224039\n",
       "26718  0.275801  0.246157 -0.706884 -1.224039\n",
       "26719 -1.265373  1.199812 -0.724551 -1.224039\n",
       "26720 -0.164535  0.644151 -0.561729 -1.224039\n",
       "\n",
       "[26721 rows x 4 columns]"
      ]
     },
     "execution_count": 18,
     "metadata": {},
     "output_type": "execute_result"
    }
   ],
   "source": [
    "blind_num_df"
   ]
  },
  {
   "cell_type": "markdown",
   "metadata": {},
   "source": [
    "## Scaling CAT Feats."
   ]
  },
  {
   "cell_type": "code",
   "execution_count": 19,
   "metadata": {},
   "outputs": [
    {
     "data": {
      "text/plain": [
       "array(['Pass', 'Withdrawn', 'Fail', 'Distinction'], dtype=object)"
      ]
     },
     "execution_count": 19,
     "metadata": {},
     "output_type": "execute_result"
    }
   ],
   "source": [
    "final_df.final_result.unique()"
   ]
  },
  {
   "cell_type": "code",
   "execution_count": 20,
   "metadata": {},
   "outputs": [],
   "source": [
    "final_df['final_result'] = final_df['final_result'].apply(lambda x: str(x).replace('Distinction','4'))\n",
    "final_df['final_result'] = final_df['final_result'].apply(lambda x: str(x).replace('Pass','3'))\n",
    "final_df['final_result'] = final_df['final_result'].apply(lambda x: str(x).replace('Fail','2'))\n",
    "final_df['final_result'] = final_df['final_result'].apply(lambda x: str(x).replace('Withdrawn','1'))"
   ]
  },
  {
   "cell_type": "code",
   "execution_count": 21,
   "metadata": {},
   "outputs": [],
   "source": [
    "final_df['highest_education'] = final_df['highest_education'].apply(lambda x: str(x).replace('Post Graduate Qualification','5'))\n",
    "final_df['highest_education'] = final_df['highest_education'].apply(lambda x: str(x).replace('HE Qualification','4'))\n",
    "final_df['highest_education'] = final_df['highest_education'].apply(lambda x: str(x).replace('A Level or Equivalent','3'))\n",
    "final_df['highest_education'] = final_df['highest_education'].apply(lambda x: str(x).replace('Lower Than A Level','2'))\n",
    "final_df['highest_education'] = final_df['highest_education'].apply(lambda x: str(x).replace('No Formal quals','1'))"
   ]
  },
  {
   "cell_type": "code",
   "execution_count": 22,
   "metadata": {},
   "outputs": [],
   "source": [
    "final_df['age_band'] = final_df['age_band'].apply(lambda x: str(x).replace('55<=','3'))\n",
    "final_df['age_band'] = final_df['age_band'].apply(lambda x: str(x).replace('35-55','2'))\n",
    "final_df['age_band'] = final_df['age_band'].apply(lambda x: str(x).replace('0-35','1'))"
   ]
  },
  {
   "cell_type": "code",
   "execution_count": 23,
   "metadata": {},
   "outputs": [
    {
     "data": {
      "text/plain": [
       "array(['AAA', 'FFF', 'BBB', 'DDD', 'GGG', 'CCC', 'EEE'], dtype=object)"
      ]
     },
     "execution_count": 23,
     "metadata": {},
     "output_type": "execute_result"
    }
   ],
   "source": [
    "final_df.code_module.unique()"
   ]
  },
  {
   "cell_type": "code",
   "execution_count": 24,
   "metadata": {},
   "outputs": [],
   "source": [
    "#code_module = get dummies"
   ]
  },
  {
   "cell_type": "code",
   "execution_count": 25,
   "metadata": {},
   "outputs": [
    {
     "data": {
      "text/plain": [
       "array(['2013J', '2014J', '2014B', '2013B'], dtype=object)"
      ]
     },
     "execution_count": 25,
     "metadata": {},
     "output_type": "execute_result"
    }
   ],
   "source": [
    "final_df.code_presentation.unique()"
   ]
  },
  {
   "cell_type": "code",
   "execution_count": 26,
   "metadata": {},
   "outputs": [],
   "source": [
    "#Ordinal encoding\n",
    "final_df['code_presentation'] = final_df['code_presentation'].apply(lambda x: str(x).replace('2014J','4'))\n",
    "final_df['code_presentation'] = final_df['code_presentation'].apply(lambda x: str(x).replace('2014B','3'))\n",
    "final_df['code_presentation'] = final_df['code_presentation'].apply(lambda x: str(x).replace('2013J','2'))\n",
    "final_df['code_presentation'] = final_df['code_presentation'].apply(lambda x: str(x).replace('2013B','1'))"
   ]
  },
  {
   "cell_type": "code",
   "execution_count": null,
   "metadata": {},
   "outputs": [],
   "source": []
  },
  {
   "cell_type": "code",
   "execution_count": null,
   "metadata": {},
   "outputs": [],
   "source": []
  },
  {
   "cell_type": "code",
   "execution_count": 27,
   "metadata": {},
   "outputs": [],
   "source": [
    "#final_all_num = final_df.merge(cat_dummies, left_index=True, right_index=True)"
   ]
  },
  {
   "cell_type": "code",
   "execution_count": 28,
   "metadata": {},
   "outputs": [],
   "source": [
    "#final_all_num"
   ]
  },
  {
   "cell_type": "code",
   "execution_count": 29,
   "metadata": {},
   "outputs": [],
   "source": [
    "#Dropping Num feats and dummies on final_df\n",
    "#drop_col(final_df, FEATS)"
   ]
  },
  {
   "cell_type": "code",
   "execution_count": 30,
   "metadata": {},
   "outputs": [],
   "source": [
    "#cat_dummies\n",
    "\n",
    "#blind_num_df\n"
   ]
  },
  {
   "cell_type": "code",
   "execution_count": 31,
   "metadata": {},
   "outputs": [],
   "source": [
    "#blind_num_df.to_csv('../data/processed/blind_num_df.csv', index=False)\n",
    "#merge_final_cat.to_csv('../data/processed/cat_merge.csv', index=False)"
   ]
  },
  {
   "cell_type": "code",
   "execution_count": null,
   "metadata": {},
   "outputs": [],
   "source": []
  },
  {
   "cell_type": "code",
   "execution_count": null,
   "metadata": {},
   "outputs": [],
   "source": []
  },
  {
   "cell_type": "code",
   "execution_count": null,
   "metadata": {},
   "outputs": [],
   "source": []
  },
  {
   "cell_type": "markdown",
   "metadata": {},
   "source": [
    "# UMAP"
   ]
  },
  {
   "cell_type": "code",
   "execution_count": 32,
   "metadata": {},
   "outputs": [],
   "source": [
    "#cat_feat = merge_final_cat.to_numpy()"
   ]
  },
  {
   "cell_type": "code",
   "execution_count": 33,
   "metadata": {},
   "outputs": [],
   "source": [
    "#reducer = umap.UMAP(random_state=42)\n",
    "#reducer.fit(cat_feat.data)"
   ]
  },
  {
   "cell_type": "code",
   "execution_count": 34,
   "metadata": {},
   "outputs": [],
   "source": [
    "#embedding = reducer.transform(cat_feat.data)"
   ]
  },
  {
   "cell_type": "code",
   "execution_count": 35,
   "metadata": {},
   "outputs": [],
   "source": [
    "#plt.scatter(embedding[:, 0], embedding[:, 1], cmap='Spectral', s=5)\n",
    "#plt.gca().set_aspect('equal', 'datalim')\n",
    "#plt.colorbar(boundaries=np.arange(11)-0.5).set_ticks(np.arange(10))\n",
    "#plt.title('UMAP projection of OU Dataset', fontsize=24);"
   ]
  }
 ],
 "metadata": {
  "kernelspec": {
   "display_name": "Python [conda env:data_env]",
   "language": "python",
   "name": "conda-env-data_env-py"
  },
  "language_info": {
   "codemirror_mode": {
    "name": "ipython",
    "version": 3
   },
   "file_extension": ".py",
   "mimetype": "text/x-python",
   "name": "python",
   "nbconvert_exporter": "python",
   "pygments_lexer": "ipython3",
   "version": "3.7.6"
  }
 },
 "nbformat": 4,
 "nbformat_minor": 2
}
