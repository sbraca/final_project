{
 "cells": [
  {
   "cell_type": "code",
   "execution_count": 1,
   "metadata": {},
   "outputs": [],
   "source": [
    "import pandas as pd\n",
    "import seaborn as sns\n",
    "import matplotlib.ticker as mtick\n",
    "import matplotlib.pyplot as plt"
   ]
  },
  {
   "cell_type": "code",
   "execution_count": 2,
   "metadata": {},
   "outputs": [],
   "source": [
    "drop_final = [\"press_mod\",\"code_presentation\", \"code_module\", \"studied_credits\"]\n",
    "\n",
    "def drop_col (df, list):\n",
    "    df.drop(columns=(list), inplace=True)\n",
    "    return df\n"
   ]
  },
  {
   "cell_type": "code",
   "execution_count": 3,
   "metadata": {},
   "outputs": [],
   "source": [
    "final_df = pd.read_csv(\"../data/processed/final_df.csv\")"
   ]
  },
  {
   "cell_type": "code",
   "execution_count": 4,
   "metadata": {},
   "outputs": [
    {
     "name": "stdout",
     "output_type": "stream",
     "text": [
      "<class 'pandas.core.frame.DataFrame'>\n",
      "RangeIndex: 26721 entries, 0 to 26720\n",
      "Data columns (total 13 columns):\n",
      "id_student           26721 non-null int64\n",
      "age_band             26721 non-null object\n",
      "gender               26721 non-null object\n",
      "highest_education    26721 non-null object\n",
      "n_assignments        26721 non-null int64\n",
      "mean_score           26702 non-null float64\n",
      "final_result         26721 non-null object\n",
      "total_clicks         26721 non-null int64\n",
      "studied_credits      26721 non-null int64\n",
      "region               26721 non-null object\n",
      "code_module          26721 non-null object\n",
      "code_presentation    26721 non-null object\n",
      "press_mod            26721 non-null object\n",
      "dtypes: float64(1), int64(4), object(8)\n",
      "memory usage: 2.7+ MB\n"
     ]
    }
   ],
   "source": [
    "final_df.info()"
   ]
  },
  {
   "cell_type": "code",
   "execution_count": 48,
   "metadata": {},
   "outputs": [
    {
     "data": {
      "text/plain": [
       "count    26702.000000\n",
       "mean        72.837888\n",
       "std         15.560017\n",
       "min          0.000000\n",
       "25%         64.800000\n",
       "50%         75.727273\n",
       "75%         84.080357\n",
       "max        100.000000\n",
       "Name: mean_score, dtype: float64"
      ]
     },
     "execution_count": 48,
     "metadata": {},
     "output_type": "execute_result"
    }
   ],
   "source": [
    "#NEW COLUMN mean_score_treshold\n",
    "#0-40 = fail\n",
    "#40-60 = pass\n",
    "#60-80 = \n",
    "#80-100 = \n",
    "\n",
    "final_df.mean_score.describe()"
   ]
  },
  {
   "cell_type": "code",
   "execution_count": 5,
   "metadata": {},
   "outputs": [
    {
     "data": {
      "text/html": [
       "<div>\n",
       "<style scoped>\n",
       "    .dataframe tbody tr th:only-of-type {\n",
       "        vertical-align: middle;\n",
       "    }\n",
       "\n",
       "    .dataframe tbody tr th {\n",
       "        vertical-align: top;\n",
       "    }\n",
       "\n",
       "    .dataframe thead th {\n",
       "        text-align: right;\n",
       "    }\n",
       "</style>\n",
       "<table border=\"1\" class=\"dataframe\">\n",
       "  <thead>\n",
       "    <tr style=\"text-align: right;\">\n",
       "      <th></th>\n",
       "      <th>id_student</th>\n",
       "      <th>n_assignments</th>\n",
       "      <th>mean_score</th>\n",
       "      <th>total_clicks</th>\n",
       "      <th>studied_credits</th>\n",
       "    </tr>\n",
       "  </thead>\n",
       "  <tbody>\n",
       "    <tr>\n",
       "      <th>count</th>\n",
       "      <td>2.672100e+04</td>\n",
       "      <td>26721.000000</td>\n",
       "      <td>26702.000000</td>\n",
       "      <td>26721.000000</td>\n",
       "      <td>26721.000000</td>\n",
       "    </tr>\n",
       "    <tr>\n",
       "      <th>mean</th>\n",
       "      <td>7.085816e+05</td>\n",
       "      <td>7.747315</td>\n",
       "      <td>72.837888</td>\n",
       "      <td>1792.429812</td>\n",
       "      <td>77.769357</td>\n",
       "    </tr>\n",
       "    <tr>\n",
       "      <th>std</th>\n",
       "      <td>5.540723e+05</td>\n",
       "      <td>4.542077</td>\n",
       "      <td>15.560017</td>\n",
       "      <td>2094.342100</td>\n",
       "      <td>39.026739</td>\n",
       "    </tr>\n",
       "    <tr>\n",
       "      <th>min</th>\n",
       "      <td>6.516000e+03</td>\n",
       "      <td>0.000000</td>\n",
       "      <td>0.000000</td>\n",
       "      <td>1.000000</td>\n",
       "      <td>30.000000</td>\n",
       "    </tr>\n",
       "    <tr>\n",
       "      <th>25%</th>\n",
       "      <td>5.058780e+05</td>\n",
       "      <td>4.000000</td>\n",
       "      <td>64.800000</td>\n",
       "      <td>460.000000</td>\n",
       "      <td>60.000000</td>\n",
       "    </tr>\n",
       "    <tr>\n",
       "      <th>50%</th>\n",
       "      <td>5.893270e+05</td>\n",
       "      <td>7.000000</td>\n",
       "      <td>75.727273</td>\n",
       "      <td>1082.000000</td>\n",
       "      <td>60.000000</td>\n",
       "    </tr>\n",
       "    <tr>\n",
       "      <th>75%</th>\n",
       "      <td>6.421960e+05</td>\n",
       "      <td>11.000000</td>\n",
       "      <td>84.080357</td>\n",
       "      <td>2383.000000</td>\n",
       "      <td>90.000000</td>\n",
       "    </tr>\n",
       "    <tr>\n",
       "      <th>max</th>\n",
       "      <td>2.698588e+06</td>\n",
       "      <td>28.000000</td>\n",
       "      <td>100.000000</td>\n",
       "      <td>28615.000000</td>\n",
       "      <td>630.000000</td>\n",
       "    </tr>\n",
       "  </tbody>\n",
       "</table>\n",
       "</div>"
      ],
      "text/plain": [
       "         id_student  n_assignments    mean_score  total_clicks  \\\n",
       "count  2.672100e+04   26721.000000  26702.000000  26721.000000   \n",
       "mean   7.085816e+05       7.747315     72.837888   1792.429812   \n",
       "std    5.540723e+05       4.542077     15.560017   2094.342100   \n",
       "min    6.516000e+03       0.000000      0.000000      1.000000   \n",
       "25%    5.058780e+05       4.000000     64.800000    460.000000   \n",
       "50%    5.893270e+05       7.000000     75.727273   1082.000000   \n",
       "75%    6.421960e+05      11.000000     84.080357   2383.000000   \n",
       "max    2.698588e+06      28.000000    100.000000  28615.000000   \n",
       "\n",
       "       studied_credits  \n",
       "count     26721.000000  \n",
       "mean         77.769357  \n",
       "std          39.026739  \n",
       "min          30.000000  \n",
       "25%          60.000000  \n",
       "50%          60.000000  \n",
       "75%          90.000000  \n",
       "max         630.000000  "
      ]
     },
     "execution_count": 5,
     "metadata": {},
     "output_type": "execute_result"
    }
   ],
   "source": [
    "final_df.describe()"
   ]
  },
  {
   "cell_type": "code",
   "execution_count": 6,
   "metadata": {},
   "outputs": [
    {
     "name": "stdout",
     "output_type": "stream",
     "text": [
      "<class 'pandas.core.frame.DataFrame'>\n",
      "RangeIndex: 26721 entries, 0 to 26720\n",
      "Data columns (total 13 columns):\n",
      "id_student           26721 non-null int64\n",
      "age_band             26721 non-null object\n",
      "gender               26721 non-null object\n",
      "highest_education    26721 non-null object\n",
      "n_assignments        26721 non-null int64\n",
      "mean_score           26702 non-null float64\n",
      "final_result         26721 non-null object\n",
      "total_clicks         26721 non-null int64\n",
      "studied_credits      26721 non-null int64\n",
      "region               26721 non-null object\n",
      "code_module          26721 non-null object\n",
      "code_presentation    26721 non-null object\n",
      "press_mod            26721 non-null object\n",
      "dtypes: float64(1), int64(4), object(8)\n",
      "memory usage: 2.7+ MB\n"
     ]
    }
   ],
   "source": [
    "final_df.info()"
   ]
  },
  {
   "cell_type": "code",
   "execution_count": 7,
   "metadata": {
    "scrolled": true
   },
   "outputs": [
    {
     "data": {
      "text/html": [
       "<div>\n",
       "<style scoped>\n",
       "    .dataframe tbody tr th:only-of-type {\n",
       "        vertical-align: middle;\n",
       "    }\n",
       "\n",
       "    .dataframe tbody tr th {\n",
       "        vertical-align: top;\n",
       "    }\n",
       "\n",
       "    .dataframe thead th {\n",
       "        text-align: right;\n",
       "    }\n",
       "</style>\n",
       "<table border=\"1\" class=\"dataframe\">\n",
       "  <thead>\n",
       "    <tr style=\"text-align: right;\">\n",
       "      <th></th>\n",
       "      <th>id_student</th>\n",
       "      <th>age_band</th>\n",
       "      <th>gender</th>\n",
       "      <th>highest_education</th>\n",
       "      <th>n_assignments</th>\n",
       "      <th>mean_score</th>\n",
       "      <th>final_result</th>\n",
       "      <th>total_clicks</th>\n",
       "      <th>studied_credits</th>\n",
       "      <th>region</th>\n",
       "      <th>code_module</th>\n",
       "      <th>code_presentation</th>\n",
       "      <th>press_mod</th>\n",
       "    </tr>\n",
       "  </thead>\n",
       "  <tbody>\n",
       "    <tr>\n",
       "      <th>0</th>\n",
       "      <td>11391</td>\n",
       "      <td>55&lt;=</td>\n",
       "      <td>M</td>\n",
       "      <td>HE Qualification</td>\n",
       "      <td>5</td>\n",
       "      <td>82.0</td>\n",
       "      <td>Pass</td>\n",
       "      <td>934</td>\n",
       "      <td>240</td>\n",
       "      <td>East Anglian Region</td>\n",
       "      <td>AAA</td>\n",
       "      <td>2013J</td>\n",
       "      <td>2013J-AAA</td>\n",
       "    </tr>\n",
       "    <tr>\n",
       "      <th>1</th>\n",
       "      <td>28400</td>\n",
       "      <td>35-55</td>\n",
       "      <td>F</td>\n",
       "      <td>HE Qualification</td>\n",
       "      <td>5</td>\n",
       "      <td>66.4</td>\n",
       "      <td>Pass</td>\n",
       "      <td>1435</td>\n",
       "      <td>60</td>\n",
       "      <td>Scotland</td>\n",
       "      <td>AAA</td>\n",
       "      <td>2013J</td>\n",
       "      <td>2013J-AAA</td>\n",
       "    </tr>\n",
       "    <tr>\n",
       "      <th>2</th>\n",
       "      <td>31604</td>\n",
       "      <td>35-55</td>\n",
       "      <td>F</td>\n",
       "      <td>A Level or Equivalent</td>\n",
       "      <td>5</td>\n",
       "      <td>76.0</td>\n",
       "      <td>Pass</td>\n",
       "      <td>2158</td>\n",
       "      <td>60</td>\n",
       "      <td>South East Region</td>\n",
       "      <td>AAA</td>\n",
       "      <td>2013J</td>\n",
       "      <td>2013J-AAA</td>\n",
       "    </tr>\n",
       "    <tr>\n",
       "      <th>3</th>\n",
       "      <td>32885</td>\n",
       "      <td>0-35</td>\n",
       "      <td>F</td>\n",
       "      <td>Lower Than A Level</td>\n",
       "      <td>5</td>\n",
       "      <td>54.4</td>\n",
       "      <td>Pass</td>\n",
       "      <td>1034</td>\n",
       "      <td>60</td>\n",
       "      <td>West Midlands Region</td>\n",
       "      <td>AAA</td>\n",
       "      <td>2013J</td>\n",
       "      <td>2013J-AAA</td>\n",
       "    </tr>\n",
       "    <tr>\n",
       "      <th>4</th>\n",
       "      <td>38053</td>\n",
       "      <td>35-55</td>\n",
       "      <td>M</td>\n",
       "      <td>A Level or Equivalent</td>\n",
       "      <td>5</td>\n",
       "      <td>68.0</td>\n",
       "      <td>Pass</td>\n",
       "      <td>2445</td>\n",
       "      <td>60</td>\n",
       "      <td>Wales</td>\n",
       "      <td>AAA</td>\n",
       "      <td>2013J</td>\n",
       "      <td>2013J-AAA</td>\n",
       "    </tr>\n",
       "  </tbody>\n",
       "</table>\n",
       "</div>"
      ],
      "text/plain": [
       "   id_student age_band gender      highest_education  n_assignments  \\\n",
       "0       11391     55<=      M       HE Qualification              5   \n",
       "1       28400    35-55      F       HE Qualification              5   \n",
       "2       31604    35-55      F  A Level or Equivalent              5   \n",
       "3       32885     0-35      F     Lower Than A Level              5   \n",
       "4       38053    35-55      M  A Level or Equivalent              5   \n",
       "\n",
       "   mean_score final_result  total_clicks  studied_credits  \\\n",
       "0        82.0         Pass           934              240   \n",
       "1        66.4         Pass          1435               60   \n",
       "2        76.0         Pass          2158               60   \n",
       "3        54.4         Pass          1034               60   \n",
       "4        68.0         Pass          2445               60   \n",
       "\n",
       "                 region code_module code_presentation  press_mod  \n",
       "0   East Anglian Region         AAA             2013J  2013J-AAA  \n",
       "1              Scotland         AAA             2013J  2013J-AAA  \n",
       "2     South East Region         AAA             2013J  2013J-AAA  \n",
       "3  West Midlands Region         AAA             2013J  2013J-AAA  \n",
       "4                 Wales         AAA             2013J  2013J-AAA  "
      ]
     },
     "execution_count": 7,
     "metadata": {},
     "output_type": "execute_result"
    }
   ],
   "source": [
    "final_df.head()"
   ]
  },
  {
   "cell_type": "code",
   "execution_count": 8,
   "metadata": {},
   "outputs": [
    {
     "data": {
      "text/plain": [
       "array(['HE Qualification', 'A Level or Equivalent', 'Lower Than A Level',\n",
       "       'Post Graduate Qualification', 'No Formal quals'], dtype=object)"
      ]
     },
     "execution_count": 8,
     "metadata": {},
     "output_type": "execute_result"
    }
   ],
   "source": [
    "final_df.highest_education.unique()"
   ]
  },
  {
   "cell_type": "code",
   "execution_count": 9,
   "metadata": {},
   "outputs": [],
   "source": [
    "score_age_df = pd.DataFrame(data=final_df, columns=[\"mean_score\",\"age_band\"])"
   ]
  },
  {
   "cell_type": "code",
   "execution_count": null,
   "metadata": {},
   "outputs": [],
   "source": []
  },
  {
   "cell_type": "markdown",
   "metadata": {},
   "source": [
    "#### Meet our students"
   ]
  },
  {
   "cell_type": "code",
   "execution_count": 10,
   "metadata": {},
   "outputs": [
    {
     "data": {
      "image/png": "[encoded data removed]",
      "text/plain": [
       "<Figure size 432x288 with 1 Axes>"
      ]
     },
     "metadata": {
      "needs_background": "light"
     },
     "output_type": "display_data"
    }
   ],
   "source": [
    "final_df.groupby(['age_band','gender']).size().groupby(level=0).apply(\n",
    "    lambda x: 100 * x / x.sum()\n",
    ").unstack().plot(kind='bar')\n",
    "\n",
    "plt.gca().yaxis.set_major_formatter(mtick.PercentFormatter())\n",
    "plt.show()"
   ]
  },
  {
   "cell_type": "markdown",
   "metadata": {},
   "source": [
    "Generally speaking, males are more prone to enroll in OU.\\\n",
    "There are aprox 20% more males in the <35 age range.\\\n",
    "In the 35-55 age range there aren´t any significant gender differences.\\\n",
    "Only 10% of women 55 and older form our students DB against more than 80% of males. \n"
   ]
  },
  {
   "cell_type": "markdown",
   "metadata": {},
   "source": [
    "#### How does the educational degree affect the result?"
   ]
  },
  {
   "cell_type": "code",
   "execution_count": 11,
   "metadata": {},
   "outputs": [
    {
     "data": {
      "image/png": "[encoded data removed]",
      "text/plain": [
       "<Figure size 432x288 with 1 Axes>"
      ]
     },
     "metadata": {
      "needs_background": "light"
     },
     "output_type": "display_data"
    }
   ],
   "source": [
    "\n",
    "final_df.groupby(['highest_education', 'final_result']).size().groupby(level=0).apply(\n",
    "    lambda x: 100 * x / x.sum()\n",
    ").unstack().plot(kind='bar')\n",
    "\n",
    "plt.gca().yaxis.set_major_formatter(mtick.PercentFormatter())\n",
    "plt.show()"
   ]
  },
  {
   "cell_type": "markdown",
   "metadata": {},
   "source": [
    "People with A level degrees have the highest percentage of passing students, about 50%. Followed by people with Higher Education degrees.\\\n",
    "It´s not surprinsing that students with a post-grad degree is the group with the highest percentange of people passing with distinction. Its also noticiable that this is the group with the lowest fail/withdrawn percentage.\\\n",
    "Amongst the people with no formal qualification, less than half make it. Out of those, about 5% do it with distinction. "
   ]
  },
  {
   "cell_type": "markdown",
   "metadata": {},
   "source": [
    "#### Top five regions with more students. How did they do?"
   ]
  },
  {
   "cell_type": "code",
   "execution_count": 41,
   "metadata": {},
   "outputs": [
    {
     "data": {
      "image/png": "[encoded data removed]",
      "text/plain": [
       "<Figure size 432x288 with 1 Axes>"
      ]
     },
     "metadata": {
      "needs_background": "light"
     },
     "output_type": "display_data"
    }
   ],
   "source": [
    "\n",
    "final_df.groupby(['region','final_result']).size().unstack().plot(kind='bar',stacked=True)\n",
    "plt.show()\n",
    "\n",
    "#can I add final_result percentage?"
   ]
  },
  {
   "cell_type": "markdown",
   "metadata": {},
   "source": [
    "The top five regions where OU is more popular are:\n",
    "    Scotland\n",
    "    East Aglian Region\n",
    "    South Region\n",
    "    London Region\n",
    "    North Western Region\n"
   ]
  },
  {
   "cell_type": "code",
   "execution_count": 51,
   "metadata": {},
   "outputs": [
    {
     "ename": "SyntaxError",
     "evalue": "invalid syntax (<ipython-input-51-01b9cadd176f>, line 1)",
     "output_type": "error",
     "traceback": [
      "\u001b[0;36m  File \u001b[0;32m\"<ipython-input-51-01b9cadd176f>\"\u001b[0;36m, line \u001b[0;32m1\u001b[0m\n\u001b[0;31m    filtered_region = final_df[final_df['region'] = ['Scotland', 'East Aglian Region', 'South Region', 'London Region', 'North Western Region']\u001b[0m\n\u001b[0m                                                  ^\u001b[0m\n\u001b[0;31mSyntaxError\u001b[0m\u001b[0;31m:\u001b[0m invalid syntax\n"
     ]
    }
   ],
   "source": [
    "filtered_region = final_df[final_df['region'] = ['Scotland', 'East Aglian Region', 'South Region', 'London Region', 'North Western Region']\n",
    "\n",
    "sns.lmplot(\"age_band\", \"final_result\", data=filtered_region, hue=\"gender\", \n",
    "           fit_reg=False, col='region', col_wrap=2)\n"
   ]
  },
  {
   "cell_type": "code",
   "execution_count": 35,
   "metadata": {},
   "outputs": [
    {
     "data": {
      "image/png": "[encoded data removed]",
      "text/plain": [
       "<Figure size 432x288 with 1 Axes>"
      ]
     },
     "metadata": {
      "needs_background": "light"
     },
     "output_type": "display_data"
    }
   ],
   "source": [
    "final_df.groupby(['final_result','gender']).size().groupby(level=0).apply(\n",
    "    lambda x: 100 * x / x.sum()\n",
    ").unstack().plot(kind='bar', stacked=True)\n",
    "\n",
    "plt.gca().yaxis.set_major_formatter(mtick.PercentFormatter())\n",
    "plt.show()\n",
    "\n",
    "#If I use qty yn the Y axis, can I add % in the stackable area?"
   ]
  },
  {
   "cell_type": "code",
   "execution_count": null,
   "metadata": {},
   "outputs": [],
   "source": []
  },
  {
   "cell_type": "code",
   "execution_count": 12,
   "metadata": {},
   "outputs": [
    {
     "name": "stdout",
     "output_type": "stream",
     "text": [
      "       id_student age_band gender      highest_education  n_assignments  \\\n",
      "45         134143    35-55      F  A Level or Equivalent              5   \n",
      "85         187100    35-55      M  A Level or Equivalent              5   \n",
      "95         227499    35-55      F  A Level or Equivalent              5   \n",
      "127        279572     0-35      M     Lower Than A Level              5   \n",
      "135        291334    35-55      M  A Level or Equivalent              5   \n",
      "...           ...      ...    ...                    ...            ...   \n",
      "26705     2270562    35-55      F     Lower Than A Level              9   \n",
      "26710     2373245    35-55      M     Lower Than A Level              9   \n",
      "26716     2620947     0-35      F  A Level or Equivalent              9   \n",
      "26717     2645731    35-55      F     Lower Than A Level              9   \n",
      "26720     2684003    35-55      F       HE Qualification              7   \n",
      "\n",
      "       mean_score final_result  total_clicks  studied_credits  \\\n",
      "45      84.400000  Distinction          2732               60   \n",
      "85      89.200000  Distinction          8562               60   \n",
      "95      83.600000  Distinction          2953               60   \n",
      "127     79.200000  Distinction          1183               60   \n",
      "135     83.600000  Distinction          5231               60   \n",
      "...           ...          ...           ...              ...   \n",
      "26705   85.000000  Distinction          1926               30   \n",
      "26710   70.555556  Distinction           565               30   \n",
      "26716   88.888889  Distinction           476               30   \n",
      "26717   88.111111  Distinction           893               30   \n",
      "26720   82.857143  Distinction           616               30   \n",
      "\n",
      "                     region code_module code_presentation  press_mod  \n",
      "45        South East Region         AAA             2013J  2013J-AAA  \n",
      "85        South East Region         AAA             2013J  2013J-AAA  \n",
      "95            London Region         AAA             2013J  2013J-AAA  \n",
      "127           London Region         AAA             2013J  2013J-AAA  \n",
      "135       South East Region         AAA             2013J  2013J-AAA  \n",
      "...                     ...         ...               ...        ...  \n",
      "26705     South East Region         GGG             2014J  2014J-GGG  \n",
      "26710  East Midlands Region         GGG             2014J  2014J-GGG  \n",
      "26716              Scotland         GGG             2014J  2014J-GGG  \n",
      "26717   East Anglian Region         GGG             2014J  2014J-GGG  \n",
      "26720      Yorkshire Region         GGG             2014J  2014J-GGG  \n",
      "\n",
      "[3024 rows x 13 columns] \n",
      "\n",
      "\n",
      "       id_student age_band gender      highest_education  n_assignments  \\\n",
      "15          65002     0-35      F  A Level or Equivalent              4   \n",
      "18          74372    35-55      M  A Level or Equivalent              4   \n",
      "55         146188     0-35      F  A Level or Equivalent              5   \n",
      "56         147756     0-35      M     Lower Than A Level              9   \n",
      "77         175991     0-35      F  A Level or Equivalent              5   \n",
      "...           ...      ...    ...                    ...            ...   \n",
      "26674      696710     0-35      F  A Level or Equivalent              1   \n",
      "26686      699628    35-55      F  A Level or Equivalent              5   \n",
      "26696     1931810    35-55      F     Lower Than A Level              2   \n",
      "26711     2378591    35-55      F  A Level or Equivalent              8   \n",
      "26712     2456431     0-35      F     Lower Than A Level              6   \n",
      "\n",
      "       mean_score final_result  total_clicks  studied_credits  \\\n",
      "15      67.000000         Fail           176               60   \n",
      "18      48.500000         Fail           116              150   \n",
      "55      50.000000         Fail           597               60   \n",
      "56      68.666667         Fail          1718              120   \n",
      "77      37.600000         Fail           138              180   \n",
      "...           ...          ...           ...              ...   \n",
      "26674   60.000000         Fail             8               30   \n",
      "26686   91.000000         Fail           283               30   \n",
      "26696   80.000000         Fail           727               30   \n",
      "26711   46.250000         Fail           230               30   \n",
      "26712   81.833333         Fail          2151               30   \n",
      "\n",
      "                     region code_module code_presentation  press_mod  \n",
      "15      East Anglian Region         AAA             2014J  2014J-AAA  \n",
      "18      East Anglian Region         AAA             2013J  2013J-AAA  \n",
      "55     West Midlands Region         AAA             2013J  2013J-AAA  \n",
      "56             North Region         AAA             2013J  2013J-AAA  \n",
      "77     North Western Region         AAA             2013J  2013J-AAA  \n",
      "...                     ...         ...               ...        ...  \n",
      "26674                 Wales         GGG             2014J  2014J-GGG  \n",
      "26686                 Wales         GGG             2014J  2014J-GGG  \n",
      "26696         London Region         GGG             2014J  2014J-GGG  \n",
      "26711  West Midlands Region         GGG             2014J  2014J-GGG  \n",
      "26712          South Region         GGG             2014J  2014J-GGG  \n",
      "\n",
      "[5840 rows x 13 columns] \n",
      "\n",
      "\n",
      "       id_student age_band gender      highest_education  n_assignments  \\\n",
      "0           11391     55<=      M       HE Qualification              5   \n",
      "1           28400    35-55      F       HE Qualification              5   \n",
      "2           31604    35-55      F  A Level or Equivalent              5   \n",
      "3           32885     0-35      F     Lower Than A Level              5   \n",
      "4           38053    35-55      M  A Level or Equivalent              5   \n",
      "...           ...      ...    ...                    ...            ...   \n",
      "26707     2311714    35-55      F     Lower Than A Level              9   \n",
      "26713     2508153     0-35      F     Lower Than A Level              9   \n",
      "26714     2533195     0-35      F     Lower Than A Level              9   \n",
      "26715     2606765     0-35      F     Lower Than A Level              9   \n",
      "26718     2648187     0-35      F  A Level or Equivalent              9   \n",
      "\n",
      "       mean_score final_result  total_clicks  studied_credits  \\\n",
      "0       82.000000         Pass           934              240   \n",
      "1       66.400000         Pass          1435               60   \n",
      "2       76.000000         Pass          2158               60   \n",
      "3       54.400000         Pass          1034               60   \n",
      "4       68.000000         Pass          2445               60   \n",
      "...           ...          ...           ...              ...   \n",
      "26707   86.111111         Pass          1339               30   \n",
      "26713   90.111111         Pass           598               30   \n",
      "26714   75.555556         Pass           755               30   \n",
      "26715   78.888889         Pass           236               30   \n",
      "26718   76.666667         Pass           312               30   \n",
      "\n",
      "                     region code_module code_presentation  press_mod  \n",
      "0       East Anglian Region         AAA             2013J  2013J-AAA  \n",
      "1                  Scotland         AAA             2013J  2013J-AAA  \n",
      "2         South East Region         AAA             2013J  2013J-AAA  \n",
      "3      West Midlands Region         AAA             2013J  2013J-AAA  \n",
      "4                     Wales         AAA             2013J  2013J-AAA  \n",
      "...                     ...         ...               ...        ...  \n",
      "26707         London Region         GGG             2014J  2014J-GGG  \n",
      "26713  East Midlands Region         GGG             2014J  2014J-GGG  \n",
      "26714     South East Region         GGG             2014J  2014J-GGG  \n",
      "26715         London Region         GGG             2014J  2014J-GGG  \n",
      "26718          South Region         GGG             2014J  2014J-GGG  \n",
      "\n",
      "[12357 rows x 13 columns] \n",
      "\n",
      "\n",
      "       id_student age_band gender      highest_education  n_assignments  \\\n",
      "14          65002     0-35      F  A Level or Equivalent              4   \n",
      "22          94961    35-55      M     Lower Than A Level              6   \n",
      "30         106247    35-55      M       HE Qualification              3   \n",
      "42         129955     0-35      M  A Level or Equivalent              6   \n",
      "43         129955     0-35      M  A Level or Equivalent              6   \n",
      "...           ...      ...    ...                    ...            ...   \n",
      "26702     2203216    35-55      F  A Level or Equivalent              1   \n",
      "26703     2214722    35-55      F  A Level or Equivalent              6   \n",
      "26708     2342238     0-35      M       HE Qualification              1   \n",
      "26709     2357806    35-55      F     Lower Than A Level              2   \n",
      "26719     2679821    35-55      F     Lower Than A Level              2   \n",
      "\n",
      "       mean_score final_result  total_clicks  studied_credits  \\\n",
      "14      67.000000    Withdrawn           176               60   \n",
      "22      65.333333    Withdrawn          1240               60   \n",
      "30      60.000000    Withdrawn           465               60   \n",
      "42      81.000000    Withdrawn          1888               60   \n",
      "43      81.000000    Withdrawn          1888               60   \n",
      "...           ...          ...           ...              ...   \n",
      "26702   55.000000    Withdrawn           232               30   \n",
      "26703   92.166667    Withdrawn           410               30   \n",
      "26708   50.000000    Withdrawn           118               30   \n",
      "26709   76.500000    Withdrawn            58               30   \n",
      "26719   91.500000    Withdrawn           275               30   \n",
      "\n",
      "                     region code_module code_presentation  press_mod  \n",
      "14      East Anglian Region         AAA             2013J  2013J-AAA  \n",
      "22             South Region         AAA             2013J  2013J-AAA  \n",
      "30             South Region         AAA             2013J  2013J-AAA  \n",
      "42     West Midlands Region         AAA             2013J  2013J-AAA  \n",
      "43     West Midlands Region         AAA             2014J  2014J-AAA  \n",
      "...                     ...         ...               ...        ...  \n",
      "26702                 Wales         GGG             2014J  2014J-GGG  \n",
      "26703              Scotland         GGG             2014J  2014J-GGG  \n",
      "26708               Ireland         GGG             2014J  2014J-GGG  \n",
      "26709               Ireland         GGG             2014J  2014J-GGG  \n",
      "26719     South East Region         GGG             2014J  2014J-GGG  \n",
      "\n",
      "[5500 rows x 13 columns] \n",
      "\n",
      "\n"
     ]
    }
   ],
   "source": [
    "group_by_result = final_df.groupby(by=['final_result'])\n",
    "\n",
    "for key, item in group_by_result:\n",
    "    print(group_by_result.get_group(key), \"\\n\\n\")"
   ]
  },
  {
   "cell_type": "code",
   "execution_count": 13,
   "metadata": {},
   "outputs": [
    {
     "data": {
      "text/plain": [
       "final_result\n",
       "Distinction     3024\n",
       "Fail            5840\n",
       "Pass           12357\n",
       "Withdrawn       5500\n",
       "dtype: int64"
      ]
     },
     "execution_count": 13,
     "metadata": {},
     "output_type": "execute_result"
    }
   ],
   "source": [
    "group_by_result.size()"
   ]
  },
  {
   "cell_type": "code",
   "execution_count": null,
   "metadata": {},
   "outputs": [],
   "source": []
  },
  {
   "cell_type": "code",
   "execution_count": 14,
   "metadata": {},
   "outputs": [],
   "source": [
    "#sns.lmplot(\"equipment\", \"price\", \n",
    " #          data=filtered_class, hue=\"gears\", fit_reg=False, col='modelLine', col_wrap=2)"
   ]
  },
  {
   "cell_type": "code",
   "execution_count": 15,
   "metadata": {},
   "outputs": [
    {
     "data": {
      "text/plain": [
       "<matplotlib.axes._subplots.AxesSubplot at 0x1a1770a690>"
      ]
     },
     "execution_count": 15,
     "metadata": {},
     "output_type": "execute_result"
    },
    {
     "data": {
      "image/png": "[encoded data removed]",
      "text/plain": [
       "<Figure size 432x288 with 1 Axes>"
      ]
     },
     "metadata": {
      "needs_background": "light"
     },
     "output_type": "display_data"
    }
   ],
   "source": [
    "sns.scatterplot(x=\"final_result\", y=\"mean_score\", hue = 'gender', data=final_df)"
   ]
  },
  {
   "cell_type": "code",
   "execution_count": 16,
   "metadata": {},
   "outputs": [],
   "source": [
    "corr = final_df.corr()\n"
   ]
  },
  {
   "cell_type": "code",
   "execution_count": 17,
   "metadata": {},
   "outputs": [
    {
     "data": {
      "text/html": [
       "<div>\n",
       "<style scoped>\n",
       "    .dataframe tbody tr th:only-of-type {\n",
       "        vertical-align: middle;\n",
       "    }\n",
       "\n",
       "    .dataframe tbody tr th {\n",
       "        vertical-align: top;\n",
       "    }\n",
       "\n",
       "    .dataframe thead th {\n",
       "        text-align: right;\n",
       "    }\n",
       "</style>\n",
       "<table border=\"1\" class=\"dataframe\">\n",
       "  <thead>\n",
       "    <tr style=\"text-align: right;\">\n",
       "      <th></th>\n",
       "      <th>id_student</th>\n",
       "      <th>n_assignments</th>\n",
       "      <th>mean_score</th>\n",
       "      <th>total_clicks</th>\n",
       "      <th>studied_credits</th>\n",
       "    </tr>\n",
       "  </thead>\n",
       "  <tbody>\n",
       "    <tr>\n",
       "      <th>id_student</th>\n",
       "      <td>1.000000</td>\n",
       "      <td>-0.011636</td>\n",
       "      <td>0.025300</td>\n",
       "      <td>0.034431</td>\n",
       "      <td>-0.003123</td>\n",
       "    </tr>\n",
       "    <tr>\n",
       "      <th>n_assignments</th>\n",
       "      <td>-0.011636</td>\n",
       "      <td>1.000000</td>\n",
       "      <td>0.281878</td>\n",
       "      <td>0.507772</td>\n",
       "      <td>0.016035</td>\n",
       "    </tr>\n",
       "    <tr>\n",
       "      <th>mean_score</th>\n",
       "      <td>0.025300</td>\n",
       "      <td>0.281878</td>\n",
       "      <td>1.000000</td>\n",
       "      <td>0.272873</td>\n",
       "      <td>-0.074452</td>\n",
       "    </tr>\n",
       "    <tr>\n",
       "      <th>total_clicks</th>\n",
       "      <td>0.034431</td>\n",
       "      <td>0.507772</td>\n",
       "      <td>0.272873</td>\n",
       "      <td>1.000000</td>\n",
       "      <td>0.018198</td>\n",
       "    </tr>\n",
       "    <tr>\n",
       "      <th>studied_credits</th>\n",
       "      <td>-0.003123</td>\n",
       "      <td>0.016035</td>\n",
       "      <td>-0.074452</td>\n",
       "      <td>0.018198</td>\n",
       "      <td>1.000000</td>\n",
       "    </tr>\n",
       "  </tbody>\n",
       "</table>\n",
       "</div>"
      ],
      "text/plain": [
       "                 id_student  n_assignments  mean_score  total_clicks  \\\n",
       "id_student         1.000000      -0.011636    0.025300      0.034431   \n",
       "n_assignments     -0.011636       1.000000    0.281878      0.507772   \n",
       "mean_score         0.025300       0.281878    1.000000      0.272873   \n",
       "total_clicks       0.034431       0.507772    0.272873      1.000000   \n",
       "studied_credits   -0.003123       0.016035   -0.074452      0.018198   \n",
       "\n",
       "                 studied_credits  \n",
       "id_student             -0.003123  \n",
       "n_assignments           0.016035  \n",
       "mean_score             -0.074452  \n",
       "total_clicks            0.018198  \n",
       "studied_credits         1.000000  "
      ]
     },
     "execution_count": 17,
     "metadata": {},
     "output_type": "execute_result"
    }
   ],
   "source": [
    "corr"
   ]
  },
  {
   "cell_type": "code",
   "execution_count": 18,
   "metadata": {},
   "outputs": [
    {
     "data": {
      "text/html": [
       "<div>\n",
       "<style scoped>\n",
       "    .dataframe tbody tr th:only-of-type {\n",
       "        vertical-align: middle;\n",
       "    }\n",
       "\n",
       "    .dataframe tbody tr th {\n",
       "        vertical-align: top;\n",
       "    }\n",
       "\n",
       "    .dataframe thead th {\n",
       "        text-align: right;\n",
       "    }\n",
       "</style>\n",
       "<table border=\"1\" class=\"dataframe\">\n",
       "  <thead>\n",
       "    <tr style=\"text-align: right;\">\n",
       "      <th></th>\n",
       "      <th>id_student</th>\n",
       "      <th>age_band</th>\n",
       "      <th>gender</th>\n",
       "      <th>highest_education</th>\n",
       "      <th>n_assignments</th>\n",
       "      <th>mean_score</th>\n",
       "      <th>final_result</th>\n",
       "      <th>total_clicks</th>\n",
       "      <th>region</th>\n",
       "    </tr>\n",
       "  </thead>\n",
       "  <tbody>\n",
       "    <tr>\n",
       "      <th>0</th>\n",
       "      <td>11391</td>\n",
       "      <td>55&lt;=</td>\n",
       "      <td>M</td>\n",
       "      <td>HE Qualification</td>\n",
       "      <td>5</td>\n",
       "      <td>82.000000</td>\n",
       "      <td>Pass</td>\n",
       "      <td>934</td>\n",
       "      <td>East Anglian Region</td>\n",
       "    </tr>\n",
       "    <tr>\n",
       "      <th>1</th>\n",
       "      <td>28400</td>\n",
       "      <td>35-55</td>\n",
       "      <td>F</td>\n",
       "      <td>HE Qualification</td>\n",
       "      <td>5</td>\n",
       "      <td>66.400000</td>\n",
       "      <td>Pass</td>\n",
       "      <td>1435</td>\n",
       "      <td>Scotland</td>\n",
       "    </tr>\n",
       "    <tr>\n",
       "      <th>2</th>\n",
       "      <td>31604</td>\n",
       "      <td>35-55</td>\n",
       "      <td>F</td>\n",
       "      <td>A Level or Equivalent</td>\n",
       "      <td>5</td>\n",
       "      <td>76.000000</td>\n",
       "      <td>Pass</td>\n",
       "      <td>2158</td>\n",
       "      <td>South East Region</td>\n",
       "    </tr>\n",
       "    <tr>\n",
       "      <th>3</th>\n",
       "      <td>32885</td>\n",
       "      <td>0-35</td>\n",
       "      <td>F</td>\n",
       "      <td>Lower Than A Level</td>\n",
       "      <td>5</td>\n",
       "      <td>54.400000</td>\n",
       "      <td>Pass</td>\n",
       "      <td>1034</td>\n",
       "      <td>West Midlands Region</td>\n",
       "    </tr>\n",
       "    <tr>\n",
       "      <th>4</th>\n",
       "      <td>38053</td>\n",
       "      <td>35-55</td>\n",
       "      <td>M</td>\n",
       "      <td>A Level or Equivalent</td>\n",
       "      <td>5</td>\n",
       "      <td>68.000000</td>\n",
       "      <td>Pass</td>\n",
       "      <td>2445</td>\n",
       "      <td>Wales</td>\n",
       "    </tr>\n",
       "    <tr>\n",
       "      <th>...</th>\n",
       "      <td>...</td>\n",
       "      <td>...</td>\n",
       "      <td>...</td>\n",
       "      <td>...</td>\n",
       "      <td>...</td>\n",
       "      <td>...</td>\n",
       "      <td>...</td>\n",
       "      <td>...</td>\n",
       "      <td>...</td>\n",
       "    </tr>\n",
       "    <tr>\n",
       "      <th>26716</th>\n",
       "      <td>2620947</td>\n",
       "      <td>0-35</td>\n",
       "      <td>F</td>\n",
       "      <td>A Level or Equivalent</td>\n",
       "      <td>9</td>\n",
       "      <td>88.888889</td>\n",
       "      <td>Distinction</td>\n",
       "      <td>476</td>\n",
       "      <td>Scotland</td>\n",
       "    </tr>\n",
       "    <tr>\n",
       "      <th>26717</th>\n",
       "      <td>2645731</td>\n",
       "      <td>35-55</td>\n",
       "      <td>F</td>\n",
       "      <td>Lower Than A Level</td>\n",
       "      <td>9</td>\n",
       "      <td>88.111111</td>\n",
       "      <td>Distinction</td>\n",
       "      <td>893</td>\n",
       "      <td>East Anglian Region</td>\n",
       "    </tr>\n",
       "    <tr>\n",
       "      <th>26718</th>\n",
       "      <td>2648187</td>\n",
       "      <td>0-35</td>\n",
       "      <td>F</td>\n",
       "      <td>A Level or Equivalent</td>\n",
       "      <td>9</td>\n",
       "      <td>76.666667</td>\n",
       "      <td>Pass</td>\n",
       "      <td>312</td>\n",
       "      <td>South Region</td>\n",
       "    </tr>\n",
       "    <tr>\n",
       "      <th>26719</th>\n",
       "      <td>2679821</td>\n",
       "      <td>35-55</td>\n",
       "      <td>F</td>\n",
       "      <td>Lower Than A Level</td>\n",
       "      <td>2</td>\n",
       "      <td>91.500000</td>\n",
       "      <td>Withdrawn</td>\n",
       "      <td>275</td>\n",
       "      <td>South East Region</td>\n",
       "    </tr>\n",
       "    <tr>\n",
       "      <th>26720</th>\n",
       "      <td>2684003</td>\n",
       "      <td>35-55</td>\n",
       "      <td>F</td>\n",
       "      <td>HE Qualification</td>\n",
       "      <td>7</td>\n",
       "      <td>82.857143</td>\n",
       "      <td>Distinction</td>\n",
       "      <td>616</td>\n",
       "      <td>Yorkshire Region</td>\n",
       "    </tr>\n",
       "  </tbody>\n",
       "</table>\n",
       "<p>26721 rows × 9 columns</p>\n",
       "</div>"
      ],
      "text/plain": [
       "       id_student age_band gender      highest_education  n_assignments  \\\n",
       "0           11391     55<=      M       HE Qualification              5   \n",
       "1           28400    35-55      F       HE Qualification              5   \n",
       "2           31604    35-55      F  A Level or Equivalent              5   \n",
       "3           32885     0-35      F     Lower Than A Level              5   \n",
       "4           38053    35-55      M  A Level or Equivalent              5   \n",
       "...           ...      ...    ...                    ...            ...   \n",
       "26716     2620947     0-35      F  A Level or Equivalent              9   \n",
       "26717     2645731    35-55      F     Lower Than A Level              9   \n",
       "26718     2648187     0-35      F  A Level or Equivalent              9   \n",
       "26719     2679821    35-55      F     Lower Than A Level              2   \n",
       "26720     2684003    35-55      F       HE Qualification              7   \n",
       "\n",
       "       mean_score final_result  total_clicks                region  \n",
       "0       82.000000         Pass           934   East Anglian Region  \n",
       "1       66.400000         Pass          1435              Scotland  \n",
       "2       76.000000         Pass          2158     South East Region  \n",
       "3       54.400000         Pass          1034  West Midlands Region  \n",
       "4       68.000000         Pass          2445                 Wales  \n",
       "...           ...          ...           ...                   ...  \n",
       "26716   88.888889  Distinction           476              Scotland  \n",
       "26717   88.111111  Distinction           893   East Anglian Region  \n",
       "26718   76.666667         Pass           312          South Region  \n",
       "26719   91.500000    Withdrawn           275     South East Region  \n",
       "26720   82.857143  Distinction           616      Yorkshire Region  \n",
       "\n",
       "[26721 rows x 9 columns]"
      ]
     },
     "execution_count": 18,
     "metadata": {},
     "output_type": "execute_result"
    }
   ],
   "source": [
    "drop_col(final_df, drop_final)"
   ]
  },
  {
   "cell_type": "code",
   "execution_count": 19,
   "metadata": {},
   "outputs": [
    {
     "data": {
      "text/plain": [
       "array(['East Anglian Region', 'Scotland', 'South East Region',\n",
       "       'West Midlands Region', 'Wales', 'North Western Region',\n",
       "       'North Region', 'South Region', 'Ireland', 'South West Region',\n",
       "       'East Midlands Region', 'Yorkshire Region', 'London Region'],\n",
       "      dtype=object)"
      ]
     },
     "execution_count": 19,
     "metadata": {},
     "output_type": "execute_result"
    }
   ],
   "source": [
    "final_df.region.unique()"
   ]
  },
  {
   "cell_type": "code",
   "execution_count": 20,
   "metadata": {
    "scrolled": true
   },
   "outputs": [
    {
     "data": {
      "text/html": [
       "<div>\n",
       "<style scoped>\n",
       "    .dataframe tbody tr th:only-of-type {\n",
       "        vertical-align: middle;\n",
       "    }\n",
       "\n",
       "    .dataframe tbody tr th {\n",
       "        vertical-align: top;\n",
       "    }\n",
       "\n",
       "    .dataframe thead th {\n",
       "        text-align: right;\n",
       "    }\n",
       "</style>\n",
       "<table border=\"1\" class=\"dataframe\">\n",
       "  <thead>\n",
       "    <tr style=\"text-align: right;\">\n",
       "      <th></th>\n",
       "      <th>id_student</th>\n",
       "      <th>age_band</th>\n",
       "      <th>gender</th>\n",
       "      <th>highest_education</th>\n",
       "      <th>n_assignments</th>\n",
       "      <th>mean_score</th>\n",
       "      <th>final_result</th>\n",
       "      <th>total_clicks</th>\n",
       "      <th>region</th>\n",
       "    </tr>\n",
       "  </thead>\n",
       "  <tbody>\n",
       "    <tr>\n",
       "      <th>0</th>\n",
       "      <td>11391</td>\n",
       "      <td>55&lt;=</td>\n",
       "      <td>M</td>\n",
       "      <td>HE Qualification</td>\n",
       "      <td>5</td>\n",
       "      <td>82.000000</td>\n",
       "      <td>Pass</td>\n",
       "      <td>934</td>\n",
       "      <td>East Anglian Region</td>\n",
       "    </tr>\n",
       "    <tr>\n",
       "      <th>1</th>\n",
       "      <td>28400</td>\n",
       "      <td>35-55</td>\n",
       "      <td>F</td>\n",
       "      <td>HE Qualification</td>\n",
       "      <td>5</td>\n",
       "      <td>66.400000</td>\n",
       "      <td>Pass</td>\n",
       "      <td>1435</td>\n",
       "      <td>Scotland</td>\n",
       "    </tr>\n",
       "    <tr>\n",
       "      <th>2</th>\n",
       "      <td>31604</td>\n",
       "      <td>35-55</td>\n",
       "      <td>F</td>\n",
       "      <td>A Level or Equivalent</td>\n",
       "      <td>5</td>\n",
       "      <td>76.000000</td>\n",
       "      <td>Pass</td>\n",
       "      <td>2158</td>\n",
       "      <td>South East Region</td>\n",
       "    </tr>\n",
       "    <tr>\n",
       "      <th>3</th>\n",
       "      <td>32885</td>\n",
       "      <td>0-35</td>\n",
       "      <td>F</td>\n",
       "      <td>Lower Than A Level</td>\n",
       "      <td>5</td>\n",
       "      <td>54.400000</td>\n",
       "      <td>Pass</td>\n",
       "      <td>1034</td>\n",
       "      <td>West Midlands Region</td>\n",
       "    </tr>\n",
       "    <tr>\n",
       "      <th>4</th>\n",
       "      <td>38053</td>\n",
       "      <td>35-55</td>\n",
       "      <td>M</td>\n",
       "      <td>A Level or Equivalent</td>\n",
       "      <td>5</td>\n",
       "      <td>68.000000</td>\n",
       "      <td>Pass</td>\n",
       "      <td>2445</td>\n",
       "      <td>Wales</td>\n",
       "    </tr>\n",
       "    <tr>\n",
       "      <th>...</th>\n",
       "      <td>...</td>\n",
       "      <td>...</td>\n",
       "      <td>...</td>\n",
       "      <td>...</td>\n",
       "      <td>...</td>\n",
       "      <td>...</td>\n",
       "      <td>...</td>\n",
       "      <td>...</td>\n",
       "      <td>...</td>\n",
       "    </tr>\n",
       "    <tr>\n",
       "      <th>26716</th>\n",
       "      <td>2620947</td>\n",
       "      <td>0-35</td>\n",
       "      <td>F</td>\n",
       "      <td>A Level or Equivalent</td>\n",
       "      <td>9</td>\n",
       "      <td>88.888889</td>\n",
       "      <td>Distinction</td>\n",
       "      <td>476</td>\n",
       "      <td>Scotland</td>\n",
       "    </tr>\n",
       "    <tr>\n",
       "      <th>26717</th>\n",
       "      <td>2645731</td>\n",
       "      <td>35-55</td>\n",
       "      <td>F</td>\n",
       "      <td>Lower Than A Level</td>\n",
       "      <td>9</td>\n",
       "      <td>88.111111</td>\n",
       "      <td>Distinction</td>\n",
       "      <td>893</td>\n",
       "      <td>East Anglian Region</td>\n",
       "    </tr>\n",
       "    <tr>\n",
       "      <th>26718</th>\n",
       "      <td>2648187</td>\n",
       "      <td>0-35</td>\n",
       "      <td>F</td>\n",
       "      <td>A Level or Equivalent</td>\n",
       "      <td>9</td>\n",
       "      <td>76.666667</td>\n",
       "      <td>Pass</td>\n",
       "      <td>312</td>\n",
       "      <td>South Region</td>\n",
       "    </tr>\n",
       "    <tr>\n",
       "      <th>26719</th>\n",
       "      <td>2679821</td>\n",
       "      <td>35-55</td>\n",
       "      <td>F</td>\n",
       "      <td>Lower Than A Level</td>\n",
       "      <td>2</td>\n",
       "      <td>91.500000</td>\n",
       "      <td>Withdrawn</td>\n",
       "      <td>275</td>\n",
       "      <td>South East Region</td>\n",
       "    </tr>\n",
       "    <tr>\n",
       "      <th>26720</th>\n",
       "      <td>2684003</td>\n",
       "      <td>35-55</td>\n",
       "      <td>F</td>\n",
       "      <td>HE Qualification</td>\n",
       "      <td>7</td>\n",
       "      <td>82.857143</td>\n",
       "      <td>Distinction</td>\n",
       "      <td>616</td>\n",
       "      <td>Yorkshire Region</td>\n",
       "    </tr>\n",
       "  </tbody>\n",
       "</table>\n",
       "<p>26721 rows × 9 columns</p>\n",
       "</div>"
      ],
      "text/plain": [
       "       id_student age_band gender      highest_education  n_assignments  \\\n",
       "0           11391     55<=      M       HE Qualification              5   \n",
       "1           28400    35-55      F       HE Qualification              5   \n",
       "2           31604    35-55      F  A Level or Equivalent              5   \n",
       "3           32885     0-35      F     Lower Than A Level              5   \n",
       "4           38053    35-55      M  A Level or Equivalent              5   \n",
       "...           ...      ...    ...                    ...            ...   \n",
       "26716     2620947     0-35      F  A Level or Equivalent              9   \n",
       "26717     2645731    35-55      F     Lower Than A Level              9   \n",
       "26718     2648187     0-35      F  A Level or Equivalent              9   \n",
       "26719     2679821    35-55      F     Lower Than A Level              2   \n",
       "26720     2684003    35-55      F       HE Qualification              7   \n",
       "\n",
       "       mean_score final_result  total_clicks                region  \n",
       "0       82.000000         Pass           934   East Anglian Region  \n",
       "1       66.400000         Pass          1435              Scotland  \n",
       "2       76.000000         Pass          2158     South East Region  \n",
       "3       54.400000         Pass          1034  West Midlands Region  \n",
       "4       68.000000         Pass          2445                 Wales  \n",
       "...           ...          ...           ...                   ...  \n",
       "26716   88.888889  Distinction           476              Scotland  \n",
       "26717   88.111111  Distinction           893   East Anglian Region  \n",
       "26718   76.666667         Pass           312          South Region  \n",
       "26719   91.500000    Withdrawn           275     South East Region  \n",
       "26720   82.857143  Distinction           616      Yorkshire Region  \n",
       "\n",
       "[26721 rows x 9 columns]"
      ]
     },
     "execution_count": 20,
     "metadata": {},
     "output_type": "execute_result"
    }
   ],
   "source": [
    "final_df"
   ]
  },
  {
   "cell_type": "code",
   "execution_count": 21,
   "metadata": {},
   "outputs": [
    {
     "data": {
      "text/plain": [
       "array(['55<=', '35-55', '0-35'], dtype=object)"
      ]
     },
     "execution_count": 21,
     "metadata": {},
     "output_type": "execute_result"
    }
   ],
   "source": [
    "final_df.age_band.unique()"
   ]
  },
  {
   "cell_type": "code",
   "execution_count": 22,
   "metadata": {},
   "outputs": [],
   "source": [
    "#age_score = final_df.groupby('age_band').agg(mean_score=('score', 'mean'),n_assignments=('score', 'count'))"
   ]
  },
  {
   "cell_type": "code",
   "execution_count": null,
   "metadata": {},
   "outputs": [],
   "source": []
  },
  {
   "cell_type": "code",
   "execution_count": 23,
   "metadata": {
    "scrolled": true
   },
   "outputs": [],
   "source": [
    "#pd.get_dummies(data=final_df, columns=['age_band', 'gender', 'highest_education', 'final_result'])"
   ]
  },
  {
   "cell_type": "code",
   "execution_count": 24,
   "metadata": {
    "scrolled": true
   },
   "outputs": [
    {
     "data": {
      "text/html": [
       "<div>\n",
       "<style scoped>\n",
       "    .dataframe tbody tr th:only-of-type {\n",
       "        vertical-align: middle;\n",
       "    }\n",
       "\n",
       "    .dataframe tbody tr th {\n",
       "        vertical-align: top;\n",
       "    }\n",
       "\n",
       "    .dataframe thead th {\n",
       "        text-align: right;\n",
       "    }\n",
       "</style>\n",
       "<table border=\"1\" class=\"dataframe\">\n",
       "  <thead>\n",
       "    <tr style=\"text-align: right;\">\n",
       "      <th></th>\n",
       "      <th>id_student</th>\n",
       "      <th>n_assignments</th>\n",
       "      <th>mean_score</th>\n",
       "      <th>total_clicks</th>\n",
       "    </tr>\n",
       "  </thead>\n",
       "  <tbody>\n",
       "    <tr>\n",
       "      <th>id_student</th>\n",
       "      <td>1.000000</td>\n",
       "      <td>-0.011636</td>\n",
       "      <td>0.025300</td>\n",
       "      <td>0.034431</td>\n",
       "    </tr>\n",
       "    <tr>\n",
       "      <th>n_assignments</th>\n",
       "      <td>-0.011636</td>\n",
       "      <td>1.000000</td>\n",
       "      <td>0.281878</td>\n",
       "      <td>0.507772</td>\n",
       "    </tr>\n",
       "    <tr>\n",
       "      <th>mean_score</th>\n",
       "      <td>0.025300</td>\n",
       "      <td>0.281878</td>\n",
       "      <td>1.000000</td>\n",
       "      <td>0.272873</td>\n",
       "    </tr>\n",
       "    <tr>\n",
       "      <th>total_clicks</th>\n",
       "      <td>0.034431</td>\n",
       "      <td>0.507772</td>\n",
       "      <td>0.272873</td>\n",
       "      <td>1.000000</td>\n",
       "    </tr>\n",
       "  </tbody>\n",
       "</table>\n",
       "</div>"
      ],
      "text/plain": [
       "               id_student  n_assignments  mean_score  total_clicks\n",
       "id_student       1.000000      -0.011636    0.025300      0.034431\n",
       "n_assignments   -0.011636       1.000000    0.281878      0.507772\n",
       "mean_score       0.025300       0.281878    1.000000      0.272873\n",
       "total_clicks     0.034431       0.507772    0.272873      1.000000"
      ]
     },
     "execution_count": 24,
     "metadata": {},
     "output_type": "execute_result"
    }
   ],
   "source": [
    "final_df.corr()"
   ]
  },
  {
   "cell_type": "code",
   "execution_count": 25,
   "metadata": {
    "scrolled": true
   },
   "outputs": [
    {
     "data": {
      "image/png": "[encoded data removed]",
      "text/plain": [
       "<Figure size 432x288 with 2 Axes>"
      ]
     },
     "metadata": {
      "needs_background": "light"
     },
     "output_type": "display_data"
    }
   ],
   "source": [
    "sns.heatmap(corr, annot=True)\n",
    "plt.show()"
   ]
  },
  {
   "cell_type": "code",
   "execution_count": 26,
   "metadata": {},
   "outputs": [],
   "source": [
    "#Re-size matrix."
   ]
  },
  {
   "cell_type": "code",
   "execution_count": 27,
   "metadata": {},
   "outputs": [],
   "source": [
    "#ax_age_assmnt_avg = final_df.plot.bar(x='age_band', y='mean_score', rot=0)"
   ]
  },
  {
   "cell_type": "code",
   "execution_count": null,
   "metadata": {},
   "outputs": [],
   "source": []
  }
 ],
 "metadata": {
  "kernelspec": {
   "display_name": "Python [conda env:data_env]",
   "language": "python",
   "name": "conda-env-data_env-py"
  },
  "language_info": {
   "codemirror_mode": {
    "name": "ipython",
    "version": 3
   },
   "file_extension": ".py",
   "mimetype": "text/x-python",
   "name": "python",
   "nbconvert_exporter": "python",
   "pygments_lexer": "ipython3",
   "version": "3.7.6"
  }
 },
 "nbformat": 4,
 "nbformat_minor": 2
}
