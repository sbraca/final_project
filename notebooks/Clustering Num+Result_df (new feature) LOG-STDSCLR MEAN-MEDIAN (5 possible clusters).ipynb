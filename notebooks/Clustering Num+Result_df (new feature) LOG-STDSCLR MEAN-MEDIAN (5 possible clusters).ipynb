{
 "cells": [
  {
   "cell_type": "code",
   "execution_count": 1,
   "metadata": {},
   "outputs": [],
   "source": [
    "import pandas as pd\n",
    "import umap\n",
    "import numpy as np\n",
    "import matplotlib.pyplot as plt\n",
    "import seaborn as sns\n",
    "from sklearn.model_selection import train_test_split\n",
    "from sklearn.cluster import DBSCAN\n",
    "import hdbscan\n",
    "\n",
    "%matplotlib inline"
   ]
  },
  {
   "cell_type": "code",
   "execution_count": 2,
   "metadata": {},
   "outputs": [],
   "source": [
    "from sklearn.pipeline import Pipeline\n",
    "from sklearn.compose import ColumnTransformer\n",
    "from sklearn.impute import SimpleImputer\n",
    "from sklearn.preprocessing import StandardScaler\n",
    "from sklearn.preprocessing import OneHotEncoder, OrdinalEncoder"
   ]
  },
  {
   "cell_type": "code",
   "execution_count": 3,
   "metadata": {},
   "outputs": [],
   "source": [
    "final_df = pd.read_csv(\"../data/processed/final_df.csv\")"
   ]
  },
  {
   "cell_type": "code",
   "execution_count": 4,
   "metadata": {
    "scrolled": true
   },
   "outputs": [
    {
     "data": {
      "text/html": [
       "<div>\n",
       "<style scoped>\n",
       "    .dataframe tbody tr th:only-of-type {\n",
       "        vertical-align: middle;\n",
       "    }\n",
       "\n",
       "    .dataframe tbody tr th {\n",
       "        vertical-align: top;\n",
       "    }\n",
       "\n",
       "    .dataframe thead th {\n",
       "        text-align: right;\n",
       "    }\n",
       "</style>\n",
       "<table border=\"1\" class=\"dataframe\">\n",
       "  <thead>\n",
       "    <tr style=\"text-align: right;\">\n",
       "      <th></th>\n",
       "      <th>id_student</th>\n",
       "      <th>age_band</th>\n",
       "      <th>gender</th>\n",
       "      <th>highest_education</th>\n",
       "      <th>n_assignments</th>\n",
       "      <th>mean_score</th>\n",
       "      <th>final_result</th>\n",
       "      <th>total_clicks</th>\n",
       "      <th>studied_credits</th>\n",
       "      <th>region</th>\n",
       "      <th>code_module</th>\n",
       "      <th>code_presentation</th>\n",
       "      <th>press_mod</th>\n",
       "    </tr>\n",
       "  </thead>\n",
       "  <tbody>\n",
       "    <tr>\n",
       "      <th>0</th>\n",
       "      <td>11391</td>\n",
       "      <td>55&lt;=</td>\n",
       "      <td>M</td>\n",
       "      <td>HE Qualification</td>\n",
       "      <td>5</td>\n",
       "      <td>82.0</td>\n",
       "      <td>Pass</td>\n",
       "      <td>934</td>\n",
       "      <td>240</td>\n",
       "      <td>East Anglian Region</td>\n",
       "      <td>AAA</td>\n",
       "      <td>2013J</td>\n",
       "      <td>2013J-AAA</td>\n",
       "    </tr>\n",
       "    <tr>\n",
       "      <th>1</th>\n",
       "      <td>28400</td>\n",
       "      <td>35-55</td>\n",
       "      <td>F</td>\n",
       "      <td>HE Qualification</td>\n",
       "      <td>5</td>\n",
       "      <td>66.4</td>\n",
       "      <td>Pass</td>\n",
       "      <td>1435</td>\n",
       "      <td>60</td>\n",
       "      <td>Scotland</td>\n",
       "      <td>AAA</td>\n",
       "      <td>2013J</td>\n",
       "      <td>2013J-AAA</td>\n",
       "    </tr>\n",
       "    <tr>\n",
       "      <th>2</th>\n",
       "      <td>31604</td>\n",
       "      <td>35-55</td>\n",
       "      <td>F</td>\n",
       "      <td>A Level or Equivalent</td>\n",
       "      <td>5</td>\n",
       "      <td>76.0</td>\n",
       "      <td>Pass</td>\n",
       "      <td>2158</td>\n",
       "      <td>60</td>\n",
       "      <td>South East Region</td>\n",
       "      <td>AAA</td>\n",
       "      <td>2013J</td>\n",
       "      <td>2013J-AAA</td>\n",
       "    </tr>\n",
       "    <tr>\n",
       "      <th>3</th>\n",
       "      <td>32885</td>\n",
       "      <td>0-35</td>\n",
       "      <td>F</td>\n",
       "      <td>Lower Than A Level</td>\n",
       "      <td>5</td>\n",
       "      <td>54.4</td>\n",
       "      <td>Pass</td>\n",
       "      <td>1034</td>\n",
       "      <td>60</td>\n",
       "      <td>West Midlands Region</td>\n",
       "      <td>AAA</td>\n",
       "      <td>2013J</td>\n",
       "      <td>2013J-AAA</td>\n",
       "    </tr>\n",
       "    <tr>\n",
       "      <th>4</th>\n",
       "      <td>38053</td>\n",
       "      <td>35-55</td>\n",
       "      <td>M</td>\n",
       "      <td>A Level or Equivalent</td>\n",
       "      <td>5</td>\n",
       "      <td>68.0</td>\n",
       "      <td>Pass</td>\n",
       "      <td>2445</td>\n",
       "      <td>60</td>\n",
       "      <td>Wales</td>\n",
       "      <td>AAA</td>\n",
       "      <td>2013J</td>\n",
       "      <td>2013J-AAA</td>\n",
       "    </tr>\n",
       "  </tbody>\n",
       "</table>\n",
       "</div>"
      ],
      "text/plain": [
       "   id_student age_band gender      highest_education  n_assignments  \\\n",
       "0       11391     55<=      M       HE Qualification              5   \n",
       "1       28400    35-55      F       HE Qualification              5   \n",
       "2       31604    35-55      F  A Level or Equivalent              5   \n",
       "3       32885     0-35      F     Lower Than A Level              5   \n",
       "4       38053    35-55      M  A Level or Equivalent              5   \n",
       "\n",
       "   mean_score final_result  total_clicks  studied_credits  \\\n",
       "0        82.0         Pass           934              240   \n",
       "1        66.4         Pass          1435               60   \n",
       "2        76.0         Pass          2158               60   \n",
       "3        54.4         Pass          1034               60   \n",
       "4        68.0         Pass          2445               60   \n",
       "\n",
       "                 region code_module code_presentation  press_mod  \n",
       "0   East Anglian Region         AAA             2013J  2013J-AAA  \n",
       "1              Scotland         AAA             2013J  2013J-AAA  \n",
       "2     South East Region         AAA             2013J  2013J-AAA  \n",
       "3  West Midlands Region         AAA             2013J  2013J-AAA  \n",
       "4                 Wales         AAA             2013J  2013J-AAA  "
      ]
     },
     "execution_count": 4,
     "metadata": {},
     "output_type": "execute_result"
    }
   ],
   "source": [
    "final_df.head()"
   ]
  },
  {
   "cell_type": "code",
   "execution_count": 5,
   "metadata": {},
   "outputs": [
    {
     "data": {
      "text/plain": [
       "id_student             int64\n",
       "age_band              object\n",
       "gender                object\n",
       "highest_education     object\n",
       "n_assignments          int64\n",
       "mean_score           float64\n",
       "final_result          object\n",
       "total_clicks           int64\n",
       "studied_credits        int64\n",
       "region                object\n",
       "code_module           object\n",
       "code_presentation     object\n",
       "press_mod             object\n",
       "dtype: object"
      ]
     },
     "execution_count": 5,
     "metadata": {},
     "output_type": "execute_result"
    }
   ],
   "source": [
    "final_df.dtypes"
   ]
  },
  {
   "cell_type": "code",
   "execution_count": null,
   "metadata": {},
   "outputs": [],
   "source": []
  },
  {
   "cell_type": "code",
   "execution_count": null,
   "metadata": {},
   "outputs": [],
   "source": []
  },
  {
   "cell_type": "code",
   "execution_count": 7,
   "metadata": {},
   "outputs": [
    {
     "data": {
      "text/html": [
       "<div>\n",
       "<style scoped>\n",
       "    .dataframe tbody tr th:only-of-type {\n",
       "        vertical-align: middle;\n",
       "    }\n",
       "\n",
       "    .dataframe tbody tr th {\n",
       "        vertical-align: top;\n",
       "    }\n",
       "\n",
       "    .dataframe thead th {\n",
       "        text-align: right;\n",
       "    }\n",
       "</style>\n",
       "<table border=\"1\" class=\"dataframe\">\n",
       "  <thead>\n",
       "    <tr style=\"text-align: right;\">\n",
       "      <th></th>\n",
       "      <th>id_student</th>\n",
       "      <th>age_band</th>\n",
       "      <th>gender</th>\n",
       "      <th>highest_education</th>\n",
       "      <th>n_assignments</th>\n",
       "      <th>mean_score</th>\n",
       "      <th>final_result</th>\n",
       "      <th>total_clicks</th>\n",
       "      <th>studied_credits</th>\n",
       "      <th>region</th>\n",
       "      <th>code_module</th>\n",
       "      <th>code_presentation</th>\n",
       "      <th>press_mod</th>\n",
       "    </tr>\n",
       "  </thead>\n",
       "  <tbody>\n",
       "    <tr>\n",
       "      <th>797</th>\n",
       "      <td>186780</td>\n",
       "      <td>35-55</td>\n",
       "      <td>F</td>\n",
       "      <td>A Level or Equivalent</td>\n",
       "      <td>0</td>\n",
       "      <td>NaN</td>\n",
       "      <td>Withdrawn</td>\n",
       "      <td>30</td>\n",
       "      <td>120</td>\n",
       "      <td>North Western Region</td>\n",
       "      <td>BBB</td>\n",
       "      <td>2013B</td>\n",
       "      <td>2013B-BBB</td>\n",
       "    </tr>\n",
       "    <tr>\n",
       "      <th>1734</th>\n",
       "      <td>549713</td>\n",
       "      <td>35-55</td>\n",
       "      <td>F</td>\n",
       "      <td>Lower Than A Level</td>\n",
       "      <td>0</td>\n",
       "      <td>NaN</td>\n",
       "      <td>Withdrawn</td>\n",
       "      <td>75</td>\n",
       "      <td>60</td>\n",
       "      <td>West Midlands Region</td>\n",
       "      <td>BBB</td>\n",
       "      <td>2013B</td>\n",
       "      <td>2013B-BBB</td>\n",
       "    </tr>\n",
       "    <tr>\n",
       "      <th>1843</th>\n",
       "      <td>554393</td>\n",
       "      <td>35-55</td>\n",
       "      <td>M</td>\n",
       "      <td>A Level or Equivalent</td>\n",
       "      <td>0</td>\n",
       "      <td>NaN</td>\n",
       "      <td>Fail</td>\n",
       "      <td>21</td>\n",
       "      <td>60</td>\n",
       "      <td>West Midlands Region</td>\n",
       "      <td>BBB</td>\n",
       "      <td>2013B</td>\n",
       "      <td>2013B-BBB</td>\n",
       "    </tr>\n",
       "    <tr>\n",
       "      <th>4498</th>\n",
       "      <td>606501</td>\n",
       "      <td>0-35</td>\n",
       "      <td>F</td>\n",
       "      <td>A Level or Equivalent</td>\n",
       "      <td>0</td>\n",
       "      <td>NaN</td>\n",
       "      <td>Withdrawn</td>\n",
       "      <td>9</td>\n",
       "      <td>120</td>\n",
       "      <td>West Midlands Region</td>\n",
       "      <td>BBB</td>\n",
       "      <td>2014B</td>\n",
       "      <td>2014B-BBB</td>\n",
       "    </tr>\n",
       "    <tr>\n",
       "      <th>6171</th>\n",
       "      <td>654422</td>\n",
       "      <td>0-35</td>\n",
       "      <td>F</td>\n",
       "      <td>No Formal quals</td>\n",
       "      <td>0</td>\n",
       "      <td>NaN</td>\n",
       "      <td>Withdrawn</td>\n",
       "      <td>31</td>\n",
       "      <td>60</td>\n",
       "      <td>East Midlands Region</td>\n",
       "      <td>BBB</td>\n",
       "      <td>2014J</td>\n",
       "      <td>2014J-BBB</td>\n",
       "    </tr>\n",
       "    <tr>\n",
       "      <th>13730</th>\n",
       "      <td>555297</td>\n",
       "      <td>0-35</td>\n",
       "      <td>M</td>\n",
       "      <td>Lower Than A Level</td>\n",
       "      <td>0</td>\n",
       "      <td>NaN</td>\n",
       "      <td>Withdrawn</td>\n",
       "      <td>155</td>\n",
       "      <td>60</td>\n",
       "      <td>North Western Region</td>\n",
       "      <td>DDD</td>\n",
       "      <td>2013B</td>\n",
       "      <td>2013B-DDD</td>\n",
       "    </tr>\n",
       "    <tr>\n",
       "      <th>13768</th>\n",
       "      <td>557247</td>\n",
       "      <td>0-35</td>\n",
       "      <td>F</td>\n",
       "      <td>A Level or Equivalent</td>\n",
       "      <td>0</td>\n",
       "      <td>NaN</td>\n",
       "      <td>Withdrawn</td>\n",
       "      <td>576</td>\n",
       "      <td>60</td>\n",
       "      <td>Yorkshire Region</td>\n",
       "      <td>DDD</td>\n",
       "      <td>2013B</td>\n",
       "      <td>2013B-DDD</td>\n",
       "    </tr>\n",
       "    <tr>\n",
       "      <th>13769</th>\n",
       "      <td>557247</td>\n",
       "      <td>0-35</td>\n",
       "      <td>F</td>\n",
       "      <td>A Level or Equivalent</td>\n",
       "      <td>0</td>\n",
       "      <td>NaN</td>\n",
       "      <td>Withdrawn</td>\n",
       "      <td>576</td>\n",
       "      <td>60</td>\n",
       "      <td>Yorkshire Region</td>\n",
       "      <td>DDD</td>\n",
       "      <td>2013J</td>\n",
       "      <td>2013J-DDD</td>\n",
       "    </tr>\n",
       "    <tr>\n",
       "      <th>14355</th>\n",
       "      <td>427248</td>\n",
       "      <td>35-55</td>\n",
       "      <td>F</td>\n",
       "      <td>A Level or Equivalent</td>\n",
       "      <td>0</td>\n",
       "      <td>NaN</td>\n",
       "      <td>Withdrawn</td>\n",
       "      <td>317</td>\n",
       "      <td>120</td>\n",
       "      <td>North Western Region</td>\n",
       "      <td>DDD</td>\n",
       "      <td>2013J</td>\n",
       "      <td>2013J-DDD</td>\n",
       "    </tr>\n",
       "    <tr>\n",
       "      <th>17039</th>\n",
       "      <td>676642</td>\n",
       "      <td>0-35</td>\n",
       "      <td>M</td>\n",
       "      <td>Lower Than A Level</td>\n",
       "      <td>0</td>\n",
       "      <td>NaN</td>\n",
       "      <td>Withdrawn</td>\n",
       "      <td>62</td>\n",
       "      <td>60</td>\n",
       "      <td>South West Region</td>\n",
       "      <td>DDD</td>\n",
       "      <td>2014J</td>\n",
       "      <td>2014J-DDD</td>\n",
       "    </tr>\n",
       "    <tr>\n",
       "      <th>18729</th>\n",
       "      <td>694548</td>\n",
       "      <td>0-35</td>\n",
       "      <td>M</td>\n",
       "      <td>A Level or Equivalent</td>\n",
       "      <td>0</td>\n",
       "      <td>NaN</td>\n",
       "      <td>Withdrawn</td>\n",
       "      <td>117</td>\n",
       "      <td>90</td>\n",
       "      <td>North Region</td>\n",
       "      <td>EEE</td>\n",
       "      <td>2014J</td>\n",
       "      <td>2014J-EEE</td>\n",
       "    </tr>\n",
       "    <tr>\n",
       "      <th>18901</th>\n",
       "      <td>174436</td>\n",
       "      <td>35-55</td>\n",
       "      <td>F</td>\n",
       "      <td>Lower Than A Level</td>\n",
       "      <td>0</td>\n",
       "      <td>NaN</td>\n",
       "      <td>Fail</td>\n",
       "      <td>101</td>\n",
       "      <td>60</td>\n",
       "      <td>Wales</td>\n",
       "      <td>FFF</td>\n",
       "      <td>2013B</td>\n",
       "      <td>2013B-FFF</td>\n",
       "    </tr>\n",
       "    <tr>\n",
       "      <th>19779</th>\n",
       "      <td>545791</td>\n",
       "      <td>35-55</td>\n",
       "      <td>M</td>\n",
       "      <td>Lower Than A Level</td>\n",
       "      <td>0</td>\n",
       "      <td>NaN</td>\n",
       "      <td>Withdrawn</td>\n",
       "      <td>20</td>\n",
       "      <td>120</td>\n",
       "      <td>West Midlands Region</td>\n",
       "      <td>FFF</td>\n",
       "      <td>2013B</td>\n",
       "      <td>2013B-FFF</td>\n",
       "    </tr>\n",
       "    <tr>\n",
       "      <th>19787</th>\n",
       "      <td>546164</td>\n",
       "      <td>35-55</td>\n",
       "      <td>M</td>\n",
       "      <td>Lower Than A Level</td>\n",
       "      <td>0</td>\n",
       "      <td>NaN</td>\n",
       "      <td>Withdrawn</td>\n",
       "      <td>381</td>\n",
       "      <td>60</td>\n",
       "      <td>South Region</td>\n",
       "      <td>FFF</td>\n",
       "      <td>2013B</td>\n",
       "      <td>2013B-FFF</td>\n",
       "    </tr>\n",
       "    <tr>\n",
       "      <th>20333</th>\n",
       "      <td>126074</td>\n",
       "      <td>35-55</td>\n",
       "      <td>M</td>\n",
       "      <td>Lower Than A Level</td>\n",
       "      <td>0</td>\n",
       "      <td>NaN</td>\n",
       "      <td>Withdrawn</td>\n",
       "      <td>209</td>\n",
       "      <td>120</td>\n",
       "      <td>West Midlands Region</td>\n",
       "      <td>FFF</td>\n",
       "      <td>2013J</td>\n",
       "      <td>2013J-FFF</td>\n",
       "    </tr>\n",
       "    <tr>\n",
       "      <th>21635</th>\n",
       "      <td>599994</td>\n",
       "      <td>0-35</td>\n",
       "      <td>M</td>\n",
       "      <td>A Level or Equivalent</td>\n",
       "      <td>0</td>\n",
       "      <td>NaN</td>\n",
       "      <td>Withdrawn</td>\n",
       "      <td>147</td>\n",
       "      <td>60</td>\n",
       "      <td>North Region</td>\n",
       "      <td>FFF</td>\n",
       "      <td>2013J</td>\n",
       "      <td>2013J-FFF</td>\n",
       "    </tr>\n",
       "    <tr>\n",
       "      <th>25375</th>\n",
       "      <td>610738</td>\n",
       "      <td>35-55</td>\n",
       "      <td>F</td>\n",
       "      <td>Lower Than A Level</td>\n",
       "      <td>0</td>\n",
       "      <td>NaN</td>\n",
       "      <td>Fail</td>\n",
       "      <td>157</td>\n",
       "      <td>30</td>\n",
       "      <td>London Region</td>\n",
       "      <td>GGG</td>\n",
       "      <td>2013J</td>\n",
       "      <td>2013J-GGG</td>\n",
       "    </tr>\n",
       "    <tr>\n",
       "      <th>26180</th>\n",
       "      <td>480914</td>\n",
       "      <td>0-35</td>\n",
       "      <td>F</td>\n",
       "      <td>No Formal quals</td>\n",
       "      <td>0</td>\n",
       "      <td>NaN</td>\n",
       "      <td>Withdrawn</td>\n",
       "      <td>8</td>\n",
       "      <td>30</td>\n",
       "      <td>East Anglian Region</td>\n",
       "      <td>GGG</td>\n",
       "      <td>2014J</td>\n",
       "      <td>2014J-GGG</td>\n",
       "    </tr>\n",
       "    <tr>\n",
       "      <th>26392</th>\n",
       "      <td>648110</td>\n",
       "      <td>0-35</td>\n",
       "      <td>F</td>\n",
       "      <td>Lower Than A Level</td>\n",
       "      <td>0</td>\n",
       "      <td>NaN</td>\n",
       "      <td>Withdrawn</td>\n",
       "      <td>87</td>\n",
       "      <td>60</td>\n",
       "      <td>London Region</td>\n",
       "      <td>GGG</td>\n",
       "      <td>2014J</td>\n",
       "      <td>2014J-GGG</td>\n",
       "    </tr>\n",
       "  </tbody>\n",
       "</table>\n",
       "</div>"
      ],
      "text/plain": [
       "       id_student age_band gender      highest_education  n_assignments  \\\n",
       "797        186780    35-55      F  A Level or Equivalent              0   \n",
       "1734       549713    35-55      F     Lower Than A Level              0   \n",
       "1843       554393    35-55      M  A Level or Equivalent              0   \n",
       "4498       606501     0-35      F  A Level or Equivalent              0   \n",
       "6171       654422     0-35      F        No Formal quals              0   \n",
       "13730      555297     0-35      M     Lower Than A Level              0   \n",
       "13768      557247     0-35      F  A Level or Equivalent              0   \n",
       "13769      557247     0-35      F  A Level or Equivalent              0   \n",
       "14355      427248    35-55      F  A Level or Equivalent              0   \n",
       "17039      676642     0-35      M     Lower Than A Level              0   \n",
       "18729      694548     0-35      M  A Level or Equivalent              0   \n",
       "18901      174436    35-55      F     Lower Than A Level              0   \n",
       "19779      545791    35-55      M     Lower Than A Level              0   \n",
       "19787      546164    35-55      M     Lower Than A Level              0   \n",
       "20333      126074    35-55      M     Lower Than A Level              0   \n",
       "21635      599994     0-35      M  A Level or Equivalent              0   \n",
       "25375      610738    35-55      F     Lower Than A Level              0   \n",
       "26180      480914     0-35      F        No Formal quals              0   \n",
       "26392      648110     0-35      F     Lower Than A Level              0   \n",
       "\n",
       "       mean_score final_result  total_clicks  studied_credits  \\\n",
       "797           NaN    Withdrawn            30              120   \n",
       "1734          NaN    Withdrawn            75               60   \n",
       "1843          NaN         Fail            21               60   \n",
       "4498          NaN    Withdrawn             9              120   \n",
       "6171          NaN    Withdrawn            31               60   \n",
       "13730         NaN    Withdrawn           155               60   \n",
       "13768         NaN    Withdrawn           576               60   \n",
       "13769         NaN    Withdrawn           576               60   \n",
       "14355         NaN    Withdrawn           317              120   \n",
       "17039         NaN    Withdrawn            62               60   \n",
       "18729         NaN    Withdrawn           117               90   \n",
       "18901         NaN         Fail           101               60   \n",
       "19779         NaN    Withdrawn            20              120   \n",
       "19787         NaN    Withdrawn           381               60   \n",
       "20333         NaN    Withdrawn           209              120   \n",
       "21635         NaN    Withdrawn           147               60   \n",
       "25375         NaN         Fail           157               30   \n",
       "26180         NaN    Withdrawn             8               30   \n",
       "26392         NaN    Withdrawn            87               60   \n",
       "\n",
       "                     region code_module code_presentation  press_mod  \n",
       "797    North Western Region         BBB             2013B  2013B-BBB  \n",
       "1734   West Midlands Region         BBB             2013B  2013B-BBB  \n",
       "1843   West Midlands Region         BBB             2013B  2013B-BBB  \n",
       "4498   West Midlands Region         BBB             2014B  2014B-BBB  \n",
       "6171   East Midlands Region         BBB             2014J  2014J-BBB  \n",
       "13730  North Western Region         DDD             2013B  2013B-DDD  \n",
       "13768      Yorkshire Region         DDD             2013B  2013B-DDD  \n",
       "13769      Yorkshire Region         DDD             2013J  2013J-DDD  \n",
       "14355  North Western Region         DDD             2013J  2013J-DDD  \n",
       "17039     South West Region         DDD             2014J  2014J-DDD  \n",
       "18729          North Region         EEE             2014J  2014J-EEE  \n",
       "18901                 Wales         FFF             2013B  2013B-FFF  \n",
       "19779  West Midlands Region         FFF             2013B  2013B-FFF  \n",
       "19787          South Region         FFF             2013B  2013B-FFF  \n",
       "20333  West Midlands Region         FFF             2013J  2013J-FFF  \n",
       "21635          North Region         FFF             2013J  2013J-FFF  \n",
       "25375         London Region         GGG             2013J  2013J-GGG  \n",
       "26180   East Anglian Region         GGG             2014J  2014J-GGG  \n",
       "26392         London Region         GGG             2014J  2014J-GGG  "
      ]
     },
     "execution_count": 7,
     "metadata": {},
     "output_type": "execute_result"
    }
   ],
   "source": [
    "#find null values\n",
    "final_df[final_df.isnull().any(axis=1)]"
   ]
  },
  {
   "cell_type": "code",
   "execution_count": 8,
   "metadata": {},
   "outputs": [
    {
     "data": {
      "text/plain": [
       "id_student            0\n",
       "age_band              0\n",
       "gender                0\n",
       "highest_education     0\n",
       "n_assignments         0\n",
       "mean_score           19\n",
       "final_result          0\n",
       "total_clicks          0\n",
       "studied_credits       0\n",
       "region                0\n",
       "code_module           0\n",
       "code_presentation     0\n",
       "press_mod             0\n",
       "dtype: int64"
      ]
     },
     "execution_count": 8,
     "metadata": {},
     "output_type": "execute_result"
    }
   ],
   "source": [
    "final_df.isnull().sum()"
   ]
  },
  {
   "cell_type": "code",
   "execution_count": 9,
   "metadata": {},
   "outputs": [],
   "source": [
    "#replace nan with mean value\n",
    "final_df[\"mean_score\"].fillna(72.83, inplace = True)"
   ]
  },
  {
   "cell_type": "code",
   "execution_count": 10,
   "metadata": {},
   "outputs": [
    {
     "data": {
      "text/html": [
       "<div>\n",
       "<style scoped>\n",
       "    .dataframe tbody tr th:only-of-type {\n",
       "        vertical-align: middle;\n",
       "    }\n",
       "\n",
       "    .dataframe tbody tr th {\n",
       "        vertical-align: top;\n",
       "    }\n",
       "\n",
       "    .dataframe thead th {\n",
       "        text-align: right;\n",
       "    }\n",
       "</style>\n",
       "<table border=\"1\" class=\"dataframe\">\n",
       "  <thead>\n",
       "    <tr style=\"text-align: right;\">\n",
       "      <th></th>\n",
       "      <th>id_student</th>\n",
       "      <th>n_assignments</th>\n",
       "      <th>mean_score</th>\n",
       "      <th>total_clicks</th>\n",
       "      <th>studied_credits</th>\n",
       "    </tr>\n",
       "  </thead>\n",
       "  <tbody>\n",
       "    <tr>\n",
       "      <th>count</th>\n",
       "      <td>2.672100e+04</td>\n",
       "      <td>26721.000000</td>\n",
       "      <td>26721.000000</td>\n",
       "      <td>26721.000000</td>\n",
       "      <td>26721.000000</td>\n",
       "    </tr>\n",
       "    <tr>\n",
       "      <th>mean</th>\n",
       "      <td>7.085816e+05</td>\n",
       "      <td>7.747315</td>\n",
       "      <td>72.837882</td>\n",
       "      <td>1792.429812</td>\n",
       "      <td>77.769357</td>\n",
       "    </tr>\n",
       "    <tr>\n",
       "      <th>std</th>\n",
       "      <td>5.540723e+05</td>\n",
       "      <td>4.542077</td>\n",
       "      <td>15.554484</td>\n",
       "      <td>2094.342100</td>\n",
       "      <td>39.026739</td>\n",
       "    </tr>\n",
       "    <tr>\n",
       "      <th>min</th>\n",
       "      <td>6.516000e+03</td>\n",
       "      <td>0.000000</td>\n",
       "      <td>0.000000</td>\n",
       "      <td>1.000000</td>\n",
       "      <td>30.000000</td>\n",
       "    </tr>\n",
       "    <tr>\n",
       "      <th>25%</th>\n",
       "      <td>5.058780e+05</td>\n",
       "      <td>4.000000</td>\n",
       "      <td>64.800000</td>\n",
       "      <td>460.000000</td>\n",
       "      <td>60.000000</td>\n",
       "    </tr>\n",
       "    <tr>\n",
       "      <th>50%</th>\n",
       "      <td>5.893270e+05</td>\n",
       "      <td>7.000000</td>\n",
       "      <td>75.714286</td>\n",
       "      <td>1082.000000</td>\n",
       "      <td>60.000000</td>\n",
       "    </tr>\n",
       "    <tr>\n",
       "      <th>75%</th>\n",
       "      <td>6.421960e+05</td>\n",
       "      <td>11.000000</td>\n",
       "      <td>84.047619</td>\n",
       "      <td>2383.000000</td>\n",
       "      <td>90.000000</td>\n",
       "    </tr>\n",
       "    <tr>\n",
       "      <th>max</th>\n",
       "      <td>2.698588e+06</td>\n",
       "      <td>28.000000</td>\n",
       "      <td>100.000000</td>\n",
       "      <td>28615.000000</td>\n",
       "      <td>630.000000</td>\n",
       "    </tr>\n",
       "  </tbody>\n",
       "</table>\n",
       "</div>"
      ],
      "text/plain": [
       "         id_student  n_assignments    mean_score  total_clicks  \\\n",
       "count  2.672100e+04   26721.000000  26721.000000  26721.000000   \n",
       "mean   7.085816e+05       7.747315     72.837882   1792.429812   \n",
       "std    5.540723e+05       4.542077     15.554484   2094.342100   \n",
       "min    6.516000e+03       0.000000      0.000000      1.000000   \n",
       "25%    5.058780e+05       4.000000     64.800000    460.000000   \n",
       "50%    5.893270e+05       7.000000     75.714286   1082.000000   \n",
       "75%    6.421960e+05      11.000000     84.047619   2383.000000   \n",
       "max    2.698588e+06      28.000000    100.000000  28615.000000   \n",
       "\n",
       "       studied_credits  \n",
       "count     26721.000000  \n",
       "mean         77.769357  \n",
       "std          39.026739  \n",
       "min          30.000000  \n",
       "25%          60.000000  \n",
       "50%          60.000000  \n",
       "75%          90.000000  \n",
       "max         630.000000  "
      ]
     },
     "execution_count": 10,
     "metadata": {},
     "output_type": "execute_result"
    }
   ],
   "source": [
    "final_df.describe()"
   ]
  },
  {
   "cell_type": "code",
   "execution_count": 11,
   "metadata": {},
   "outputs": [],
   "source": [
    "#replace \"0s\" with mean\n",
    "final_df['n_assignments'] = np.where((final_df.n_assignments == 0), 7, final_df.n_assignments)\n"
   ]
  },
  {
   "cell_type": "code",
   "execution_count": 12,
   "metadata": {},
   "outputs": [],
   "source": [
    "final_df['mean_score'] = np.where((final_df.mean_score == 0.0), 72.83, final_df.mean_score)"
   ]
  },
  {
   "cell_type": "code",
   "execution_count": 13,
   "metadata": {},
   "outputs": [],
   "source": [
    "final_df['clicks_per_asmt'] = final_df['total_clicks']/final_df['n_assignments']"
   ]
  },
  {
   "cell_type": "code",
   "execution_count": 14,
   "metadata": {},
   "outputs": [],
   "source": [
    "num_res_df = pd.DataFrame(data=final_df, columns=[\"n_assignments\", \"mean_score\", \"clicks_per_asmt\", \"studied_credits\",\"id_student\", \"final_result\"])\n",
    "\n"
   ]
  },
  {
   "cell_type": "code",
   "execution_count": 15,
   "metadata": {},
   "outputs": [
    {
     "data": {
      "text/plain": [
       "id_student           0\n",
       "age_band             0\n",
       "gender               0\n",
       "highest_education    0\n",
       "n_assignments        0\n",
       "mean_score           0\n",
       "final_result         0\n",
       "total_clicks         0\n",
       "studied_credits      0\n",
       "region               0\n",
       "code_module          0\n",
       "code_presentation    0\n",
       "press_mod            0\n",
       "clicks_per_asmt      0\n",
       "dtype: int64"
      ]
     },
     "execution_count": 15,
     "metadata": {},
     "output_type": "execute_result"
    }
   ],
   "source": [
    "final_df.isnull().sum()"
   ]
  },
  {
   "cell_type": "code",
   "execution_count": 16,
   "metadata": {},
   "outputs": [
    {
     "data": {
      "text/html": [
       "<div>\n",
       "<style scoped>\n",
       "    .dataframe tbody tr th:only-of-type {\n",
       "        vertical-align: middle;\n",
       "    }\n",
       "\n",
       "    .dataframe tbody tr th {\n",
       "        vertical-align: top;\n",
       "    }\n",
       "\n",
       "    .dataframe thead th {\n",
       "        text-align: right;\n",
       "    }\n",
       "</style>\n",
       "<table border=\"1\" class=\"dataframe\">\n",
       "  <thead>\n",
       "    <tr style=\"text-align: right;\">\n",
       "      <th></th>\n",
       "      <th>n_assignments</th>\n",
       "      <th>mean_score</th>\n",
       "      <th>clicks_per_asmt</th>\n",
       "      <th>studied_credits</th>\n",
       "      <th>id_student</th>\n",
       "      <th>final_result</th>\n",
       "    </tr>\n",
       "  </thead>\n",
       "  <tbody>\n",
       "    <tr>\n",
       "      <th>0</th>\n",
       "      <td>5</td>\n",
       "      <td>82.000000</td>\n",
       "      <td>186.800000</td>\n",
       "      <td>240</td>\n",
       "      <td>11391</td>\n",
       "      <td>Pass</td>\n",
       "    </tr>\n",
       "    <tr>\n",
       "      <th>1</th>\n",
       "      <td>5</td>\n",
       "      <td>66.400000</td>\n",
       "      <td>287.000000</td>\n",
       "      <td>60</td>\n",
       "      <td>28400</td>\n",
       "      <td>Pass</td>\n",
       "    </tr>\n",
       "    <tr>\n",
       "      <th>2</th>\n",
       "      <td>5</td>\n",
       "      <td>76.000000</td>\n",
       "      <td>431.600000</td>\n",
       "      <td>60</td>\n",
       "      <td>31604</td>\n",
       "      <td>Pass</td>\n",
       "    </tr>\n",
       "    <tr>\n",
       "      <th>3</th>\n",
       "      <td>5</td>\n",
       "      <td>54.400000</td>\n",
       "      <td>206.800000</td>\n",
       "      <td>60</td>\n",
       "      <td>32885</td>\n",
       "      <td>Pass</td>\n",
       "    </tr>\n",
       "    <tr>\n",
       "      <th>4</th>\n",
       "      <td>5</td>\n",
       "      <td>68.000000</td>\n",
       "      <td>489.000000</td>\n",
       "      <td>60</td>\n",
       "      <td>38053</td>\n",
       "      <td>Pass</td>\n",
       "    </tr>\n",
       "    <tr>\n",
       "      <th>...</th>\n",
       "      <td>...</td>\n",
       "      <td>...</td>\n",
       "      <td>...</td>\n",
       "      <td>...</td>\n",
       "      <td>...</td>\n",
       "      <td>...</td>\n",
       "    </tr>\n",
       "    <tr>\n",
       "      <th>26716</th>\n",
       "      <td>9</td>\n",
       "      <td>88.888889</td>\n",
       "      <td>52.888889</td>\n",
       "      <td>30</td>\n",
       "      <td>2620947</td>\n",
       "      <td>Distinction</td>\n",
       "    </tr>\n",
       "    <tr>\n",
       "      <th>26717</th>\n",
       "      <td>9</td>\n",
       "      <td>88.111111</td>\n",
       "      <td>99.222222</td>\n",
       "      <td>30</td>\n",
       "      <td>2645731</td>\n",
       "      <td>Distinction</td>\n",
       "    </tr>\n",
       "    <tr>\n",
       "      <th>26718</th>\n",
       "      <td>9</td>\n",
       "      <td>76.666667</td>\n",
       "      <td>34.666667</td>\n",
       "      <td>30</td>\n",
       "      <td>2648187</td>\n",
       "      <td>Pass</td>\n",
       "    </tr>\n",
       "    <tr>\n",
       "      <th>26719</th>\n",
       "      <td>2</td>\n",
       "      <td>91.500000</td>\n",
       "      <td>137.500000</td>\n",
       "      <td>30</td>\n",
       "      <td>2679821</td>\n",
       "      <td>Withdrawn</td>\n",
       "    </tr>\n",
       "    <tr>\n",
       "      <th>26720</th>\n",
       "      <td>7</td>\n",
       "      <td>82.857143</td>\n",
       "      <td>88.000000</td>\n",
       "      <td>30</td>\n",
       "      <td>2684003</td>\n",
       "      <td>Distinction</td>\n",
       "    </tr>\n",
       "  </tbody>\n",
       "</table>\n",
       "<p>26721 rows × 6 columns</p>\n",
       "</div>"
      ],
      "text/plain": [
       "       n_assignments  mean_score  clicks_per_asmt  studied_credits  \\\n",
       "0                  5   82.000000       186.800000              240   \n",
       "1                  5   66.400000       287.000000               60   \n",
       "2                  5   76.000000       431.600000               60   \n",
       "3                  5   54.400000       206.800000               60   \n",
       "4                  5   68.000000       489.000000               60   \n",
       "...              ...         ...              ...              ...   \n",
       "26716              9   88.888889        52.888889               30   \n",
       "26717              9   88.111111        99.222222               30   \n",
       "26718              9   76.666667        34.666667               30   \n",
       "26719              2   91.500000       137.500000               30   \n",
       "26720              7   82.857143        88.000000               30   \n",
       "\n",
       "       id_student final_result  \n",
       "0           11391         Pass  \n",
       "1           28400         Pass  \n",
       "2           31604         Pass  \n",
       "3           32885         Pass  \n",
       "4           38053         Pass  \n",
       "...           ...          ...  \n",
       "26716     2620947  Distinction  \n",
       "26717     2645731  Distinction  \n",
       "26718     2648187         Pass  \n",
       "26719     2679821    Withdrawn  \n",
       "26720     2684003  Distinction  \n",
       "\n",
       "[26721 rows x 6 columns]"
      ]
     },
     "execution_count": 16,
     "metadata": {},
     "output_type": "execute_result"
    }
   ],
   "source": [
    "num_res_df"
   ]
  },
  {
   "cell_type": "code",
   "execution_count": 17,
   "metadata": {},
   "outputs": [],
   "source": [
    "num_res_df['final_result'] = num_res_df['final_result'].apply(lambda x: str(x).replace('Distinction','4'))\n",
    "num_res_df['final_result'] = num_res_df['final_result'].apply(lambda x: str(x).replace('Pass','3'))\n",
    "num_res_df['final_result'] = num_res_df['final_result'].apply(lambda x: str(x).replace('Fail','2'))\n",
    "num_res_df['final_result'] = num_res_df['final_result'].apply(lambda x: str(x).replace('Withdrawn','1'))"
   ]
  },
  {
   "cell_type": "code",
   "execution_count": null,
   "metadata": {},
   "outputs": [],
   "source": [
    "num_res_df"
   ]
  },
  {
   "cell_type": "code",
   "execution_count": 18,
   "metadata": {},
   "outputs": [],
   "source": [
    "num_res_df.set_index(['id_student'], inplace=True)"
   ]
  },
  {
   "cell_type": "code",
   "execution_count": 19,
   "metadata": {},
   "outputs": [
    {
     "data": {
      "text/plain": [
       "n_assignments        int64\n",
       "mean_score         float64\n",
       "clicks_per_asmt    float64\n",
       "studied_credits      int64\n",
       "final_result        object\n",
       "dtype: object"
      ]
     },
     "execution_count": 19,
     "metadata": {},
     "output_type": "execute_result"
    }
   ],
   "source": [
    "num_res_df.dtypes"
   ]
  },
  {
   "cell_type": "code",
   "execution_count": null,
   "metadata": {},
   "outputs": [],
   "source": []
  },
  {
   "cell_type": "code",
   "execution_count": 20,
   "metadata": {},
   "outputs": [],
   "source": [
    "num_res_df=num_res_df.astype(int)"
   ]
  },
  {
   "cell_type": "code",
   "execution_count": 24,
   "metadata": {},
   "outputs": [
    {
     "data": {
      "text/plain": [
       "n_assignments      int64\n",
       "mean_score         int64\n",
       "clicks_per_asmt    int64\n",
       "studied_credits    int64\n",
       "final_result       int64\n",
       "dtype: object"
      ]
     },
     "execution_count": 24,
     "metadata": {},
     "output_type": "execute_result"
    }
   ],
   "source": [
    "num_res_df.dtypes"
   ]
  },
  {
   "cell_type": "code",
   "execution_count": null,
   "metadata": {},
   "outputs": [],
   "source": [
    "#num_res_df.to_csv('../data/processed/numeric_results_df.csv', index=False)"
   ]
  },
  {
   "cell_type": "code",
   "execution_count": 33,
   "metadata": {},
   "outputs": [
    {
     "data": {
      "text/plain": [
       "array([ 186,  287,  431, ..., 1290, 1196,  826])"
      ]
     },
     "execution_count": 33,
     "metadata": {},
     "output_type": "execute_result"
    }
   ],
   "source": [
    "num_res_df.clicks_per_asmt.unique()"
   ]
  },
  {
   "cell_type": "code",
   "execution_count": 25,
   "metadata": {},
   "outputs": [
    {
     "name": "stderr",
     "output_type": "stream",
     "text": [
      "/Users/stefaniabraca/miniconda3/envs/data_env/lib/python3.7/site-packages/ipykernel_launcher.py:1: RuntimeWarning: divide by zero encountered in log\n",
      "  \"\"\"Entry point for launching an IPython kernel.\n"
     ]
    }
   ],
   "source": [
    "num_res_log = np.log(num_res_df)"
   ]
  },
  {
   "cell_type": "code",
   "execution_count": null,
   "metadata": {},
   "outputs": [],
   "source": []
  },
  {
   "cell_type": "code",
   "execution_count": null,
   "metadata": {},
   "outputs": [],
   "source": [
    "#to numpy"
   ]
  },
  {
   "cell_type": "code",
   "execution_count": 28,
   "metadata": {},
   "outputs": [],
   "source": [
    "np_num_log = num_res_log.to_numpy()"
   ]
  },
  {
   "cell_type": "markdown",
   "metadata": {},
   "source": [
    "# UMAP LOG"
   ]
  },
  {
   "cell_type": "code",
   "execution_count": 29,
   "metadata": {},
   "outputs": [
    {
     "ename": "ValueError",
     "evalue": "Input contains NaN, infinity or a value too large for dtype('float32').",
     "output_type": "error",
     "traceback": [
      "\u001b[0;31m---------------------------------------------------------------------------\u001b[0m",
      "\u001b[0;31mValueError\u001b[0m                                Traceback (most recent call last)",
      "\u001b[0;32m<ipython-input-29-9a74484f02d3>\u001b[0m in \u001b[0;36m<module>\u001b[0;34m\u001b[0m\n\u001b[1;32m      1\u001b[0m \u001b[0mreducer\u001b[0m \u001b[0;34m=\u001b[0m \u001b[0mumap\u001b[0m\u001b[0;34m.\u001b[0m\u001b[0mUMAP\u001b[0m\u001b[0;34m(\u001b[0m\u001b[0mrandom_state\u001b[0m\u001b[0;34m=\u001b[0m\u001b[0;36m42\u001b[0m\u001b[0;34m)\u001b[0m\u001b[0;34m\u001b[0m\u001b[0;34m\u001b[0m\u001b[0m\n\u001b[0;32m----> 2\u001b[0;31m \u001b[0mreducer\u001b[0m\u001b[0;34m.\u001b[0m\u001b[0mfit\u001b[0m\u001b[0;34m(\u001b[0m\u001b[0mnp_num_log\u001b[0m\u001b[0;34m.\u001b[0m\u001b[0mdata\u001b[0m\u001b[0;34m)\u001b[0m\u001b[0;34m\u001b[0m\u001b[0;34m\u001b[0m\u001b[0m\n\u001b[0m",
      "\u001b[0;32m~/miniconda3/envs/data_env/lib/python3.7/site-packages/umap/umap_.py\u001b[0m in \u001b[0;36mfit\u001b[0;34m(self, X, y)\u001b[0m\n\u001b[1;32m   1606\u001b[0m         \"\"\"\n\u001b[1;32m   1607\u001b[0m \u001b[0;34m\u001b[0m\u001b[0m\n\u001b[0;32m-> 1608\u001b[0;31m         \u001b[0mX\u001b[0m \u001b[0;34m=\u001b[0m \u001b[0mcheck_array\u001b[0m\u001b[0;34m(\u001b[0m\u001b[0mX\u001b[0m\u001b[0;34m,\u001b[0m \u001b[0mdtype\u001b[0m\u001b[0;34m=\u001b[0m\u001b[0mnp\u001b[0m\u001b[0;34m.\u001b[0m\u001b[0mfloat32\u001b[0m\u001b[0;34m,\u001b[0m \u001b[0maccept_sparse\u001b[0m\u001b[0;34m=\u001b[0m\u001b[0;34m\"csr\"\u001b[0m\u001b[0;34m,\u001b[0m \u001b[0morder\u001b[0m\u001b[0;34m=\u001b[0m\u001b[0;34m\"C\"\u001b[0m\u001b[0;34m)\u001b[0m\u001b[0;34m\u001b[0m\u001b[0;34m\u001b[0m\u001b[0m\n\u001b[0m\u001b[1;32m   1609\u001b[0m         \u001b[0mself\u001b[0m\u001b[0;34m.\u001b[0m\u001b[0m_raw_data\u001b[0m \u001b[0;34m=\u001b[0m \u001b[0mX\u001b[0m\u001b[0;34m\u001b[0m\u001b[0;34m\u001b[0m\u001b[0m\n\u001b[1;32m   1610\u001b[0m \u001b[0;34m\u001b[0m\u001b[0m\n",
      "\u001b[0;32m~/miniconda3/envs/data_env/lib/python3.7/site-packages/sklearn/utils/validation.py\u001b[0m in \u001b[0;36mcheck_array\u001b[0;34m(array, accept_sparse, accept_large_sparse, dtype, order, copy, force_all_finite, ensure_2d, allow_nd, ensure_min_samples, ensure_min_features, warn_on_dtype, estimator)\u001b[0m\n\u001b[1;32m    576\u001b[0m         \u001b[0;32mif\u001b[0m \u001b[0mforce_all_finite\u001b[0m\u001b[0;34m:\u001b[0m\u001b[0;34m\u001b[0m\u001b[0;34m\u001b[0m\u001b[0m\n\u001b[1;32m    577\u001b[0m             _assert_all_finite(array,\n\u001b[0;32m--> 578\u001b[0;31m                                allow_nan=force_all_finite == 'allow-nan')\n\u001b[0m\u001b[1;32m    579\u001b[0m \u001b[0;34m\u001b[0m\u001b[0m\n\u001b[1;32m    580\u001b[0m     \u001b[0;32mif\u001b[0m \u001b[0mensure_min_samples\u001b[0m \u001b[0;34m>\u001b[0m \u001b[0;36m0\u001b[0m\u001b[0;34m:\u001b[0m\u001b[0;34m\u001b[0m\u001b[0;34m\u001b[0m\u001b[0m\n",
      "\u001b[0;32m~/miniconda3/envs/data_env/lib/python3.7/site-packages/sklearn/utils/validation.py\u001b[0m in \u001b[0;36m_assert_all_finite\u001b[0;34m(X, allow_nan, msg_dtype)\u001b[0m\n\u001b[1;32m     58\u001b[0m                     \u001b[0mmsg_err\u001b[0m\u001b[0;34m.\u001b[0m\u001b[0mformat\u001b[0m\u001b[0;34m\u001b[0m\u001b[0;34m\u001b[0m\u001b[0m\n\u001b[1;32m     59\u001b[0m                     (type_err,\n\u001b[0;32m---> 60\u001b[0;31m                      msg_dtype if msg_dtype is not None else X.dtype)\n\u001b[0m\u001b[1;32m     61\u001b[0m             )\n\u001b[1;32m     62\u001b[0m     \u001b[0;31m# for object dtype data, we only check for NaNs (GH-13254)\u001b[0m\u001b[0;34m\u001b[0m\u001b[0;34m\u001b[0m\u001b[0;34m\u001b[0m\u001b[0m\n",
      "\u001b[0;31mValueError\u001b[0m: Input contains NaN, infinity or a value too large for dtype('float32')."
     ]
    }
   ],
   "source": [
    "reducer = umap.UMAP(random_state=42)\n",
    "reducer.fit(np_num_log.data)"
   ]
  },
  {
   "cell_type": "code",
   "execution_count": null,
   "metadata": {},
   "outputs": [],
   "source": [
    "embedding = reducer.transform(np_num_log.data)\n"
   ]
  },
  {
   "cell_type": "code",
   "execution_count": null,
   "metadata": {},
   "outputs": [],
   "source": [
    "plt.scatter(embedding[:, 0], embedding[:, 1], cmap='Spectral', s=5)\n",
    "plt.gca().set_aspect('equal', 'datalim')\n",
    "plt.colorbar(boundaries=np.arange(11)-0.5).set_ticks(np.arange(10))\n",
    "plt.title('UMAP projection of the numeric dataset', fontsize=24);"
   ]
  },
  {
   "cell_type": "markdown",
   "metadata": {},
   "source": [
    "# UMAP StandardScaler Mean"
   ]
  },
  {
   "cell_type": "code",
   "execution_count": null,
   "metadata": {},
   "outputs": [],
   "source": [
    "transformer = \\\n",
    "Pipeline(steps=[('imputer', SimpleImputer(strategy='mean')), \n",
    "                ('scaler', StandardScaler())])\n"
   ]
  },
  {
   "cell_type": "code",
   "execution_count": null,
   "metadata": {},
   "outputs": [],
   "source": [
    "FEATS = ['n_assignments', 'mean_score','final_result', 'clicks_per_asmt', 'studied_credits']\n",
    "preprocessor = \\\n",
    "ColumnTransformer(transformers=[('num', transformer, FEATS)])"
   ]
  },
  {
   "cell_type": "code",
   "execution_count": null,
   "metadata": {},
   "outputs": [],
   "source": [
    "preprocessor"
   ]
  },
  {
   "cell_type": "code",
   "execution_count": null,
   "metadata": {},
   "outputs": [],
   "source": [
    "blind = pd.DataFrame(data=preprocessor.fit_transform(num_res_df))"
   ]
  },
  {
   "cell_type": "code",
   "execution_count": null,
   "metadata": {},
   "outputs": [],
   "source": [
    "blind"
   ]
  },
  {
   "cell_type": "code",
   "execution_count": null,
   "metadata": {},
   "outputs": [],
   "source": [
    "blind_np = blind.to_numpy()"
   ]
  },
  {
   "cell_type": "code",
   "execution_count": null,
   "metadata": {},
   "outputs": [],
   "source": [
    "reducer_sclr = umap.UMAP(random_state=42)\n",
    "reducer_sclr.fit(blind_np.data)"
   ]
  },
  {
   "cell_type": "code",
   "execution_count": null,
   "metadata": {},
   "outputs": [],
   "source": [
    "embedding_sclr = reducer_sclr.transform(blind_np.data)\n"
   ]
  },
  {
   "cell_type": "code",
   "execution_count": null,
   "metadata": {},
   "outputs": [],
   "source": [
    "plt.scatter(embedding_sclr[:, 0], embedding_sclr[:, 1], cmap='Spectral', s=5)\n",
    "plt.gca().set_aspect('equal', 'datalim')\n",
    "plt.colorbar(boundaries=np.arange(11)-0.5).set_ticks(np.arange(10))\n",
    "plt.title('UMAP projection of the numeric dataset', fontsize=24);"
   ]
  },
  {
   "cell_type": "markdown",
   "metadata": {},
   "source": [
    "# UMAP StandardScaler Median"
   ]
  },
  {
   "cell_type": "code",
   "execution_count": null,
   "metadata": {},
   "outputs": [],
   "source": []
  },
  {
   "cell_type": "code",
   "execution_count": null,
   "metadata": {},
   "outputs": [],
   "source": [
    "transformer_med = \\\n",
    "Pipeline(steps=[('imputer', SimpleImputer(strategy='median')), \n",
    "                ('scaler', StandardScaler())])\n"
   ]
  },
  {
   "cell_type": "code",
   "execution_count": null,
   "metadata": {},
   "outputs": [],
   "source": [
    "preprocessor_med = \\\n",
    "ColumnTransformer(transformers=[('num', transformer, FEATS)])"
   ]
  },
  {
   "cell_type": "code",
   "execution_count": null,
   "metadata": {},
   "outputs": [],
   "source": [
    "preprocessor_med"
   ]
  },
  {
   "cell_type": "code",
   "execution_count": null,
   "metadata": {},
   "outputs": [],
   "source": [
    "blind_med = pd.DataFrame(data=preprocessor_med.fit_transform(num_res_df))"
   ]
  },
  {
   "cell_type": "code",
   "execution_count": null,
   "metadata": {},
   "outputs": [],
   "source": [
    "blind_med_np = blind_med.to_numpy()"
   ]
  },
  {
   "cell_type": "code",
   "execution_count": null,
   "metadata": {},
   "outputs": [],
   "source": [
    "reducer_med = umap.UMAP(random_state=42)\n",
    "reducer_med.fit(blind_med_np.data)"
   ]
  },
  {
   "cell_type": "code",
   "execution_count": null,
   "metadata": {},
   "outputs": [],
   "source": [
    "embedding_med = reducer_med.transform(blind_med_np.data)\n"
   ]
  },
  {
   "cell_type": "code",
   "execution_count": null,
   "metadata": {},
   "outputs": [],
   "source": [
    "plt.scatter(embedding_med[:, 0], embedding_med[:, 1], cmap='Spectral', s=5)\n",
    "plt.gca().set_aspect('equal', 'datalim')\n",
    "plt.colorbar(boundaries=np.arange(11)-0.5).set_ticks(np.arange(10))\n",
    "plt.title('UMAP projection of the numeric dataset', fontsize=24);"
   ]
  }
 ],
 "metadata": {
  "kernelspec": {
   "display_name": "Python [conda env:data_env]",
   "language": "python",
   "name": "conda-env-data_env-py"
  },
  "language_info": {
   "codemirror_mode": {
    "name": "ipython",
    "version": 3
   },
   "file_extension": ".py",
   "mimetype": "text/x-python",
   "name": "python",
   "nbconvert_exporter": "python",
   "pygments_lexer": "ipython3",
   "version": "3.7.6"
  }
 },
 "nbformat": 4,
 "nbformat_minor": 2
}
