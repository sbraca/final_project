{
 "cells": [
  {
   "cell_type": "code",
   "execution_count": 1,
   "metadata": {},
   "outputs": [],
   "source": [
    "import pandas as pd\n",
    "import umap\n",
    "import numpy as np\n",
    "import matplotlib.pyplot as plt\n",
    "import seaborn as sns\n",
    "from sklearn.model_selection import train_test_split\n",
    "from sklearn.cluster import DBSCAN\n",
    "import hdbscan\n",
    "\n",
    "%matplotlib inline"
   ]
  },
  {
   "cell_type": "code",
   "execution_count": 4,
   "metadata": {},
   "outputs": [],
   "source": [
    "from sklearn.pipeline import Pipeline\n",
    "from sklearn.compose import ColumnTransformer\n",
    "from sklearn.impute import SimpleImputer\n",
    "from sklearn.preprocessing import StandardScaler\n",
    "from sklearn.preprocessing import OneHotEncoder, OrdinalEncoder"
   ]
  },
  {
   "cell_type": "code",
   "execution_count": 5,
   "metadata": {},
   "outputs": [],
   "source": [
    "final_df = pd.read_csv(\"../data/processed/final_df.csv\")"
   ]
  },
  {
   "cell_type": "code",
   "execution_count": 6,
   "metadata": {},
   "outputs": [],
   "source": [
    "num_df = pd.DataFrame(data=final_df, columns=[\"n_assignments\", \"mean_score\", \"total_clicks\", \"studied_credits\",])\n",
    "\n",
    "cat_df = pd.DataFrame(data=final_df, columns=[\"age_band\", \"gender\", \"highest_education\", \"final_result\", \"region\"])"
   ]
  },
  {
   "cell_type": "code",
   "execution_count": null,
   "metadata": {},
   "outputs": [],
   "source": [
    "#No primary key "
   ]
  },
  {
   "cell_type": "code",
   "execution_count": 7,
   "metadata": {},
   "outputs": [
    {
     "data": {
      "text/html": [
       "<div>\n",
       "<style scoped>\n",
       "    .dataframe tbody tr th:only-of-type {\n",
       "        vertical-align: middle;\n",
       "    }\n",
       "\n",
       "    .dataframe tbody tr th {\n",
       "        vertical-align: top;\n",
       "    }\n",
       "\n",
       "    .dataframe thead th {\n",
       "        text-align: right;\n",
       "    }\n",
       "</style>\n",
       "<table border=\"1\" class=\"dataframe\">\n",
       "  <thead>\n",
       "    <tr style=\"text-align: right;\">\n",
       "      <th></th>\n",
       "      <th>age_band</th>\n",
       "      <th>gender</th>\n",
       "      <th>highest_education</th>\n",
       "      <th>final_result</th>\n",
       "      <th>region</th>\n",
       "    </tr>\n",
       "  </thead>\n",
       "  <tbody>\n",
       "    <tr>\n",
       "      <th>0</th>\n",
       "      <td>55&lt;=</td>\n",
       "      <td>M</td>\n",
       "      <td>HE Qualification</td>\n",
       "      <td>Pass</td>\n",
       "      <td>East Anglian Region</td>\n",
       "    </tr>\n",
       "    <tr>\n",
       "      <th>1</th>\n",
       "      <td>35-55</td>\n",
       "      <td>F</td>\n",
       "      <td>HE Qualification</td>\n",
       "      <td>Pass</td>\n",
       "      <td>Scotland</td>\n",
       "    </tr>\n",
       "    <tr>\n",
       "      <th>2</th>\n",
       "      <td>35-55</td>\n",
       "      <td>F</td>\n",
       "      <td>A Level or Equivalent</td>\n",
       "      <td>Pass</td>\n",
       "      <td>South East Region</td>\n",
       "    </tr>\n",
       "    <tr>\n",
       "      <th>3</th>\n",
       "      <td>0-35</td>\n",
       "      <td>F</td>\n",
       "      <td>Lower Than A Level</td>\n",
       "      <td>Pass</td>\n",
       "      <td>West Midlands Region</td>\n",
       "    </tr>\n",
       "    <tr>\n",
       "      <th>4</th>\n",
       "      <td>35-55</td>\n",
       "      <td>M</td>\n",
       "      <td>A Level or Equivalent</td>\n",
       "      <td>Pass</td>\n",
       "      <td>Wales</td>\n",
       "    </tr>\n",
       "    <tr>\n",
       "      <th>...</th>\n",
       "      <td>...</td>\n",
       "      <td>...</td>\n",
       "      <td>...</td>\n",
       "      <td>...</td>\n",
       "      <td>...</td>\n",
       "    </tr>\n",
       "    <tr>\n",
       "      <th>26716</th>\n",
       "      <td>0-35</td>\n",
       "      <td>F</td>\n",
       "      <td>A Level or Equivalent</td>\n",
       "      <td>Distinction</td>\n",
       "      <td>Scotland</td>\n",
       "    </tr>\n",
       "    <tr>\n",
       "      <th>26717</th>\n",
       "      <td>35-55</td>\n",
       "      <td>F</td>\n",
       "      <td>Lower Than A Level</td>\n",
       "      <td>Distinction</td>\n",
       "      <td>East Anglian Region</td>\n",
       "    </tr>\n",
       "    <tr>\n",
       "      <th>26718</th>\n",
       "      <td>0-35</td>\n",
       "      <td>F</td>\n",
       "      <td>A Level or Equivalent</td>\n",
       "      <td>Pass</td>\n",
       "      <td>South Region</td>\n",
       "    </tr>\n",
       "    <tr>\n",
       "      <th>26719</th>\n",
       "      <td>35-55</td>\n",
       "      <td>F</td>\n",
       "      <td>Lower Than A Level</td>\n",
       "      <td>Withdrawn</td>\n",
       "      <td>South East Region</td>\n",
       "    </tr>\n",
       "    <tr>\n",
       "      <th>26720</th>\n",
       "      <td>35-55</td>\n",
       "      <td>F</td>\n",
       "      <td>HE Qualification</td>\n",
       "      <td>Distinction</td>\n",
       "      <td>Yorkshire Region</td>\n",
       "    </tr>\n",
       "  </tbody>\n",
       "</table>\n",
       "<p>26721 rows × 5 columns</p>\n",
       "</div>"
      ],
      "text/plain": [
       "      age_band gender      highest_education final_result  \\\n",
       "0         55<=      M       HE Qualification         Pass   \n",
       "1        35-55      F       HE Qualification         Pass   \n",
       "2        35-55      F  A Level or Equivalent         Pass   \n",
       "3         0-35      F     Lower Than A Level         Pass   \n",
       "4        35-55      M  A Level or Equivalent         Pass   \n",
       "...        ...    ...                    ...          ...   \n",
       "26716     0-35      F  A Level or Equivalent  Distinction   \n",
       "26717    35-55      F     Lower Than A Level  Distinction   \n",
       "26718     0-35      F  A Level or Equivalent         Pass   \n",
       "26719    35-55      F     Lower Than A Level    Withdrawn   \n",
       "26720    35-55      F       HE Qualification  Distinction   \n",
       "\n",
       "                     region  \n",
       "0       East Anglian Region  \n",
       "1                  Scotland  \n",
       "2         South East Region  \n",
       "3      West Midlands Region  \n",
       "4                     Wales  \n",
       "...                     ...  \n",
       "26716              Scotland  \n",
       "26717   East Anglian Region  \n",
       "26718          South Region  \n",
       "26719     South East Region  \n",
       "26720      Yorkshire Region  \n",
       "\n",
       "[26721 rows x 5 columns]"
      ]
     },
     "execution_count": 7,
     "metadata": {},
     "output_type": "execute_result"
    }
   ],
   "source": [
    "cat_df"
   ]
  },
  {
   "cell_type": "code",
   "execution_count": 8,
   "metadata": {},
   "outputs": [
    {
     "data": {
      "text/plain": [
       "array(['Pass', 'Withdrawn', 'Fail', 'Distinction'], dtype=object)"
      ]
     },
     "execution_count": 8,
     "metadata": {},
     "output_type": "execute_result"
    }
   ],
   "source": [
    "cat_df.final_result.unique()"
   ]
  },
  {
   "cell_type": "code",
   "execution_count": null,
   "metadata": {},
   "outputs": [],
   "source": [
    "#make a dictionary key:final_result, value:ordinal number"
   ]
  },
  {
   "cell_type": "markdown",
   "metadata": {},
   "source": [
    "### Treat cat variable to numeric:\n",
    "#### final_result => order 0-3"
   ]
  },
  {
   "cell_type": "code",
   "execution_count": 9,
   "metadata": {},
   "outputs": [],
   "source": [
    "cat_df['final_result'] = cat_df['final_result'].apply(lambda x: str(x).replace('Distinction','3'))\n",
    "cat_df['final_result'] = cat_df['final_result'].apply(lambda x: str(x).replace('Pass','2'))\n",
    "cat_df['final_result'] = cat_df['final_result'].apply(lambda x: str(x).replace('Fail','1'))\n",
    "cat_df['final_result'] = cat_df['final_result'].apply(lambda x: str(x).replace('Withdrawn','0'))"
   ]
  },
  {
   "cell_type": "code",
   "execution_count": 10,
   "metadata": {},
   "outputs": [
    {
     "data": {
      "text/plain": [
       "array(['2', '0', '1', '3'], dtype=object)"
      ]
     },
     "execution_count": 10,
     "metadata": {},
     "output_type": "execute_result"
    }
   ],
   "source": [
    "cat_df.final_result.unique()"
   ]
  },
  {
   "cell_type": "markdown",
   "metadata": {},
   "source": [
    "#### highest_education => order 0-4"
   ]
  },
  {
   "cell_type": "code",
   "execution_count": 11,
   "metadata": {},
   "outputs": [
    {
     "data": {
      "text/plain": [
       "array(['HE Qualification', 'A Level or Equivalent', 'Lower Than A Level',\n",
       "       'Post Graduate Qualification', 'No Formal quals'], dtype=object)"
      ]
     },
     "execution_count": 11,
     "metadata": {},
     "output_type": "execute_result"
    }
   ],
   "source": [
    "cat_df.highest_education.unique()"
   ]
  },
  {
   "cell_type": "code",
   "execution_count": 12,
   "metadata": {},
   "outputs": [],
   "source": [
    "cat_df['highest_education'] = cat_df['highest_education'].apply(lambda x: str(x).replace('Post Graduate Qualification','4'))\n",
    "cat_df['highest_education'] = cat_df['highest_education'].apply(lambda x: str(x).replace('HE Qualification','3'))\n",
    "cat_df['highest_education'] = cat_df['highest_education'].apply(lambda x: str(x).replace('A Level or Equivalent','2'))\n",
    "cat_df['highest_education'] = cat_df['highest_education'].apply(lambda x: str(x).replace('Lower Than A Level','1'))\n",
    "cat_df['highest_education'] = cat_df['highest_education'].apply(lambda x: str(x).replace('No Formal quals','0'))"
   ]
  },
  {
   "cell_type": "code",
   "execution_count": 13,
   "metadata": {},
   "outputs": [
    {
     "data": {
      "text/plain": [
       "array(['3', '2', '1', '4', '0'], dtype=object)"
      ]
     },
     "execution_count": 13,
     "metadata": {},
     "output_type": "execute_result"
    }
   ],
   "source": [
    "cat_df.highest_education.unique()"
   ]
  },
  {
   "cell_type": "markdown",
   "metadata": {},
   "source": [
    "#### age_band => order 1-3"
   ]
  },
  {
   "cell_type": "code",
   "execution_count": 14,
   "metadata": {},
   "outputs": [
    {
     "data": {
      "text/plain": [
       "array(['55<=', '35-55', '0-35'], dtype=object)"
      ]
     },
     "execution_count": 14,
     "metadata": {},
     "output_type": "execute_result"
    }
   ],
   "source": [
    "cat_df.age_band.unique()"
   ]
  },
  {
   "cell_type": "code",
   "execution_count": 15,
   "metadata": {},
   "outputs": [],
   "source": [
    "cat_df['age_band'] = cat_df['age_band'].apply(lambda x: str(x).replace('55<=','3'))\n",
    "cat_df['age_band'] = cat_df['age_band'].apply(lambda x: str(x).replace('35-55','2'))\n",
    "cat_df['age_band'] = cat_df['age_band'].apply(lambda x: str(x).replace('0-35','1'))"
   ]
  },
  {
   "cell_type": "code",
   "execution_count": 16,
   "metadata": {},
   "outputs": [
    {
     "data": {
      "text/plain": [
       "array(['3', '2', '1'], dtype=object)"
      ]
     },
     "execution_count": 16,
     "metadata": {},
     "output_type": "execute_result"
    }
   ],
   "source": [
    "cat_df.age_band.unique()"
   ]
  },
  {
   "cell_type": "markdown",
   "metadata": {},
   "source": [
    "#### get dummies => 'gender' and 'region'"
   ]
  },
  {
   "cell_type": "code",
   "execution_count": 17,
   "metadata": {},
   "outputs": [],
   "source": [
    "cat_df = pd.get_dummies(data=cat_df, columns=['gender', 'region'])"
   ]
  },
  {
   "cell_type": "code",
   "execution_count": 18,
   "metadata": {},
   "outputs": [
    {
     "data": {
      "text/plain": [
       "age_band                       object\n",
       "highest_education              object\n",
       "final_result                   object\n",
       "gender_F                        uint8\n",
       "gender_M                        uint8\n",
       "region_East Anglian Region      uint8\n",
       "region_East Midlands Region     uint8\n",
       "region_Ireland                  uint8\n",
       "region_London Region            uint8\n",
       "region_North Region             uint8\n",
       "region_North Western Region     uint8\n",
       "region_Scotland                 uint8\n",
       "region_South East Region        uint8\n",
       "region_South Region             uint8\n",
       "region_South West Region        uint8\n",
       "region_Wales                    uint8\n",
       "region_West Midlands Region     uint8\n",
       "region_Yorkshire Region         uint8\n",
       "dtype: object"
      ]
     },
     "execution_count": 18,
     "metadata": {},
     "output_type": "execute_result"
    }
   ],
   "source": [
    "cat_df.dtypes"
   ]
  },
  {
   "cell_type": "code",
   "execution_count": 19,
   "metadata": {},
   "outputs": [
    {
     "data": {
      "text/html": [
       "<div>\n",
       "<style scoped>\n",
       "    .dataframe tbody tr th:only-of-type {\n",
       "        vertical-align: middle;\n",
       "    }\n",
       "\n",
       "    .dataframe tbody tr th {\n",
       "        vertical-align: top;\n",
       "    }\n",
       "\n",
       "    .dataframe thead th {\n",
       "        text-align: right;\n",
       "    }\n",
       "</style>\n",
       "<table border=\"1\" class=\"dataframe\">\n",
       "  <thead>\n",
       "    <tr style=\"text-align: right;\">\n",
       "      <th></th>\n",
       "      <th>age_band</th>\n",
       "      <th>highest_education</th>\n",
       "      <th>final_result</th>\n",
       "      <th>gender_F</th>\n",
       "      <th>gender_M</th>\n",
       "      <th>region_East Anglian Region</th>\n",
       "      <th>region_East Midlands Region</th>\n",
       "      <th>region_Ireland</th>\n",
       "      <th>region_London Region</th>\n",
       "      <th>region_North Region</th>\n",
       "      <th>region_North Western Region</th>\n",
       "      <th>region_Scotland</th>\n",
       "      <th>region_South East Region</th>\n",
       "      <th>region_South Region</th>\n",
       "      <th>region_South West Region</th>\n",
       "      <th>region_Wales</th>\n",
       "      <th>region_West Midlands Region</th>\n",
       "      <th>region_Yorkshire Region</th>\n",
       "    </tr>\n",
       "  </thead>\n",
       "  <tbody>\n",
       "    <tr>\n",
       "      <th>0</th>\n",
       "      <td>3</td>\n",
       "      <td>3</td>\n",
       "      <td>2</td>\n",
       "      <td>0</td>\n",
       "      <td>1</td>\n",
       "      <td>1</td>\n",
       "      <td>0</td>\n",
       "      <td>0</td>\n",
       "      <td>0</td>\n",
       "      <td>0</td>\n",
       "      <td>0</td>\n",
       "      <td>0</td>\n",
       "      <td>0</td>\n",
       "      <td>0</td>\n",
       "      <td>0</td>\n",
       "      <td>0</td>\n",
       "      <td>0</td>\n",
       "      <td>0</td>\n",
       "    </tr>\n",
       "    <tr>\n",
       "      <th>1</th>\n",
       "      <td>2</td>\n",
       "      <td>3</td>\n",
       "      <td>2</td>\n",
       "      <td>1</td>\n",
       "      <td>0</td>\n",
       "      <td>0</td>\n",
       "      <td>0</td>\n",
       "      <td>0</td>\n",
       "      <td>0</td>\n",
       "      <td>0</td>\n",
       "      <td>0</td>\n",
       "      <td>1</td>\n",
       "      <td>0</td>\n",
       "      <td>0</td>\n",
       "      <td>0</td>\n",
       "      <td>0</td>\n",
       "      <td>0</td>\n",
       "      <td>0</td>\n",
       "    </tr>\n",
       "    <tr>\n",
       "      <th>2</th>\n",
       "      <td>2</td>\n",
       "      <td>2</td>\n",
       "      <td>2</td>\n",
       "      <td>1</td>\n",
       "      <td>0</td>\n",
       "      <td>0</td>\n",
       "      <td>0</td>\n",
       "      <td>0</td>\n",
       "      <td>0</td>\n",
       "      <td>0</td>\n",
       "      <td>0</td>\n",
       "      <td>0</td>\n",
       "      <td>1</td>\n",
       "      <td>0</td>\n",
       "      <td>0</td>\n",
       "      <td>0</td>\n",
       "      <td>0</td>\n",
       "      <td>0</td>\n",
       "    </tr>\n",
       "    <tr>\n",
       "      <th>3</th>\n",
       "      <td>1</td>\n",
       "      <td>1</td>\n",
       "      <td>2</td>\n",
       "      <td>1</td>\n",
       "      <td>0</td>\n",
       "      <td>0</td>\n",
       "      <td>0</td>\n",
       "      <td>0</td>\n",
       "      <td>0</td>\n",
       "      <td>0</td>\n",
       "      <td>0</td>\n",
       "      <td>0</td>\n",
       "      <td>0</td>\n",
       "      <td>0</td>\n",
       "      <td>0</td>\n",
       "      <td>0</td>\n",
       "      <td>1</td>\n",
       "      <td>0</td>\n",
       "    </tr>\n",
       "    <tr>\n",
       "      <th>4</th>\n",
       "      <td>2</td>\n",
       "      <td>2</td>\n",
       "      <td>2</td>\n",
       "      <td>0</td>\n",
       "      <td>1</td>\n",
       "      <td>0</td>\n",
       "      <td>0</td>\n",
       "      <td>0</td>\n",
       "      <td>0</td>\n",
       "      <td>0</td>\n",
       "      <td>0</td>\n",
       "      <td>0</td>\n",
       "      <td>0</td>\n",
       "      <td>0</td>\n",
       "      <td>0</td>\n",
       "      <td>1</td>\n",
       "      <td>0</td>\n",
       "      <td>0</td>\n",
       "    </tr>\n",
       "  </tbody>\n",
       "</table>\n",
       "</div>"
      ],
      "text/plain": [
       "  age_band highest_education final_result  gender_F  gender_M  \\\n",
       "0        3                 3            2         0         1   \n",
       "1        2                 3            2         1         0   \n",
       "2        2                 2            2         1         0   \n",
       "3        1                 1            2         1         0   \n",
       "4        2                 2            2         0         1   \n",
       "\n",
       "   region_East Anglian Region  region_East Midlands Region  region_Ireland  \\\n",
       "0                           1                            0               0   \n",
       "1                           0                            0               0   \n",
       "2                           0                            0               0   \n",
       "3                           0                            0               0   \n",
       "4                           0                            0               0   \n",
       "\n",
       "   region_London Region  region_North Region  region_North Western Region  \\\n",
       "0                     0                    0                            0   \n",
       "1                     0                    0                            0   \n",
       "2                     0                    0                            0   \n",
       "3                     0                    0                            0   \n",
       "4                     0                    0                            0   \n",
       "\n",
       "   region_Scotland  region_South East Region  region_South Region  \\\n",
       "0                0                         0                    0   \n",
       "1                1                         0                    0   \n",
       "2                0                         1                    0   \n",
       "3                0                         0                    0   \n",
       "4                0                         0                    0   \n",
       "\n",
       "   region_South West Region  region_Wales  region_West Midlands Region  \\\n",
       "0                         0             0                            0   \n",
       "1                         0             0                            0   \n",
       "2                         0             0                            0   \n",
       "3                         0             0                            1   \n",
       "4                         0             1                            0   \n",
       "\n",
       "   region_Yorkshire Region  \n",
       "0                        0  \n",
       "1                        0  \n",
       "2                        0  \n",
       "3                        0  \n",
       "4                        0  "
      ]
     },
     "execution_count": 19,
     "metadata": {},
     "output_type": "execute_result"
    }
   ],
   "source": [
    "cat_df.head()"
   ]
  },
  {
   "cell_type": "code",
   "execution_count": null,
   "metadata": {},
   "outputs": [],
   "source": []
  },
  {
   "cell_type": "markdown",
   "metadata": {},
   "source": [
    "## UMAP"
   ]
  },
  {
   "cell_type": "code",
   "execution_count": 21,
   "metadata": {},
   "outputs": [],
   "source": [
    "#cat_df to numpy\n",
    "\n",
    "cat_df = cat_df.to_numpy()"
   ]
  },
  {
   "cell_type": "code",
   "execution_count": 22,
   "metadata": {
    "scrolled": true
   },
   "outputs": [
    {
     "data": {
      "text/plain": [
       "UMAP(a=None, angular_rp_forest=False, b=None,\n",
       "     force_approximation_algorithm=False, init='spectral', learning_rate=1.0,\n",
       "     local_connectivity=1.0, low_memory=False, metric='euclidean',\n",
       "     metric_kwds=None, min_dist=0.1, n_components=2, n_epochs=None,\n",
       "     n_neighbors=15, negative_sample_rate=5, output_metric='euclidean',\n",
       "     output_metric_kwds=None, random_state=42, repulsion_strength=1.0,\n",
       "     set_op_mix_ratio=1.0, spread=1.0, target_metric='categorical',\n",
       "     target_metric_kwds=None, target_n_neighbors=-1, target_weight=0.5,\n",
       "     transform_queue_size=4.0, transform_seed=42, unique=False, verbose=False)"
      ]
     },
     "execution_count": 22,
     "metadata": {},
     "output_type": "execute_result"
    }
   ],
   "source": [
    "reducer = umap.UMAP(random_state=42)\n",
    "reducer.fit(cat_df.data)"
   ]
  },
  {
   "cell_type": "code",
   "execution_count": 23,
   "metadata": {},
   "outputs": [],
   "source": [
    "embedding = reducer.transform(cat_df.data)\n"
   ]
  },
  {
   "cell_type": "code",
   "execution_count": 24,
   "metadata": {},
   "outputs": [
    {
     "data": {
      "image/png": "[encoded data removed]",
      "text/plain": [
       "<Figure size 432x288 with 2 Axes>"
      ]
     },
     "metadata": {
      "needs_background": "light"
     },
     "output_type": "display_data"
    }
   ],
   "source": [
    "plt.scatter(embedding[:, 0], embedding[:, 1], cmap='Spectral', s=5)\n",
    "plt.gca().set_aspect('equal', 'datalim')\n",
    "plt.colorbar(boundaries=np.arange(11)-0.5).set_ticks(np.arange(10))\n",
    "plt.title('UMAP projection of the categoric dataset', fontsize=24);"
   ]
  },
  {
   "cell_type": "code",
   "execution_count": null,
   "metadata": {},
   "outputs": [],
   "source": []
  },
  {
   "cell_type": "code",
   "execution_count": null,
   "metadata": {},
   "outputs": [],
   "source": []
  },
  {
   "cell_type": "code",
   "execution_count": null,
   "metadata": {},
   "outputs": [],
   "source": []
  },
  {
   "cell_type": "code",
   "execution_count": null,
   "metadata": {},
   "outputs": [],
   "source": []
  },
  {
   "cell_type": "code",
   "execution_count": null,
   "metadata": {},
   "outputs": [],
   "source": []
  },
  {
   "cell_type": "code",
   "execution_count": null,
   "metadata": {},
   "outputs": [],
   "source": []
  }
 ],
 "metadata": {
  "kernelspec": {
   "display_name": "Python [conda env:data_env]",
   "language": "python",
   "name": "conda-env-data_env-py"
  },
  "language_info": {
   "codemirror_mode": {
    "name": "ipython",
    "version": 3
   },
   "file_extension": ".py",
   "mimetype": "text/x-python",
   "name": "python",
   "nbconvert_exporter": "python",
   "pygments_lexer": "ipython3",
   "version": "3.7.6"
  }
 },
 "nbformat": 4,
 "nbformat_minor": 2
}
