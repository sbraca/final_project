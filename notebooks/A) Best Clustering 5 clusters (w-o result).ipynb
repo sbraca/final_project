{
 "cells": [
  {
   "cell_type": "code",
   "execution_count": 1,
   "metadata": {},
   "outputs": [],
   "source": [
    "import pandas as pd\n",
    "import umap\n",
    "import numpy as np\n",
    "import matplotlib.pyplot as plt\n",
    "import seaborn as sns\n",
    "from sklearn.cluster import DBSCAN\n",
    "import hdbscan\n",
    "\n",
    "%matplotlib inline"
   ]
  },
  {
   "cell_type": "code",
   "execution_count": 2,
   "metadata": {},
   "outputs": [],
   "source": [
    "from sklearn.pipeline import Pipeline\n",
    "from sklearn.compose import ColumnTransformer\n",
    "from sklearn.impute import SimpleImputer\n",
    "from sklearn.preprocessing import StandardScaler\n",
    "from sklearn.preprocessing import OneHotEncoder"
   ]
  },
  {
   "cell_type": "code",
   "execution_count": 3,
   "metadata": {},
   "outputs": [],
   "source": [
    "final_df = pd.read_csv(\"../data/processed/final_df.csv\")"
   ]
  },
  {
   "cell_type": "code",
   "execution_count": 4,
   "metadata": {},
   "outputs": [
    {
     "data": {
      "text/html": [
       "<div>\n",
       "<style scoped>\n",
       "    .dataframe tbody tr th:only-of-type {\n",
       "        vertical-align: middle;\n",
       "    }\n",
       "\n",
       "    .dataframe tbody tr th {\n",
       "        vertical-align: top;\n",
       "    }\n",
       "\n",
       "    .dataframe thead th {\n",
       "        text-align: right;\n",
       "    }\n",
       "</style>\n",
       "<table border=\"1\" class=\"dataframe\">\n",
       "  <thead>\n",
       "    <tr style=\"text-align: right;\">\n",
       "      <th></th>\n",
       "      <th>id_student</th>\n",
       "      <th>age_band</th>\n",
       "      <th>gender</th>\n",
       "      <th>highest_education</th>\n",
       "      <th>n_assignments</th>\n",
       "      <th>mean_score</th>\n",
       "      <th>final_result</th>\n",
       "      <th>total_clicks</th>\n",
       "      <th>studied_credits</th>\n",
       "      <th>region</th>\n",
       "      <th>code_module</th>\n",
       "      <th>code_presentation</th>\n",
       "      <th>press_mod</th>\n",
       "    </tr>\n",
       "  </thead>\n",
       "  <tbody>\n",
       "    <tr>\n",
       "      <th>0</th>\n",
       "      <td>11391</td>\n",
       "      <td>55&lt;=</td>\n",
       "      <td>M</td>\n",
       "      <td>HE Qualification</td>\n",
       "      <td>5</td>\n",
       "      <td>82.0</td>\n",
       "      <td>Pass</td>\n",
       "      <td>934</td>\n",
       "      <td>240</td>\n",
       "      <td>East Anglian Region</td>\n",
       "      <td>AAA</td>\n",
       "      <td>2013J</td>\n",
       "      <td>2013J-AAA</td>\n",
       "    </tr>\n",
       "    <tr>\n",
       "      <th>1</th>\n",
       "      <td>28400</td>\n",
       "      <td>35-55</td>\n",
       "      <td>F</td>\n",
       "      <td>HE Qualification</td>\n",
       "      <td>5</td>\n",
       "      <td>66.4</td>\n",
       "      <td>Pass</td>\n",
       "      <td>1435</td>\n",
       "      <td>60</td>\n",
       "      <td>Scotland</td>\n",
       "      <td>AAA</td>\n",
       "      <td>2013J</td>\n",
       "      <td>2013J-AAA</td>\n",
       "    </tr>\n",
       "    <tr>\n",
       "      <th>2</th>\n",
       "      <td>31604</td>\n",
       "      <td>35-55</td>\n",
       "      <td>F</td>\n",
       "      <td>A Level or Equivalent</td>\n",
       "      <td>5</td>\n",
       "      <td>76.0</td>\n",
       "      <td>Pass</td>\n",
       "      <td>2158</td>\n",
       "      <td>60</td>\n",
       "      <td>South East Region</td>\n",
       "      <td>AAA</td>\n",
       "      <td>2013J</td>\n",
       "      <td>2013J-AAA</td>\n",
       "    </tr>\n",
       "    <tr>\n",
       "      <th>3</th>\n",
       "      <td>32885</td>\n",
       "      <td>0-35</td>\n",
       "      <td>F</td>\n",
       "      <td>Lower Than A Level</td>\n",
       "      <td>5</td>\n",
       "      <td>54.4</td>\n",
       "      <td>Pass</td>\n",
       "      <td>1034</td>\n",
       "      <td>60</td>\n",
       "      <td>West Midlands Region</td>\n",
       "      <td>AAA</td>\n",
       "      <td>2013J</td>\n",
       "      <td>2013J-AAA</td>\n",
       "    </tr>\n",
       "    <tr>\n",
       "      <th>4</th>\n",
       "      <td>38053</td>\n",
       "      <td>35-55</td>\n",
       "      <td>M</td>\n",
       "      <td>A Level or Equivalent</td>\n",
       "      <td>5</td>\n",
       "      <td>68.0</td>\n",
       "      <td>Pass</td>\n",
       "      <td>2445</td>\n",
       "      <td>60</td>\n",
       "      <td>Wales</td>\n",
       "      <td>AAA</td>\n",
       "      <td>2013J</td>\n",
       "      <td>2013J-AAA</td>\n",
       "    </tr>\n",
       "  </tbody>\n",
       "</table>\n",
       "</div>"
      ],
      "text/plain": [
       "   id_student age_band gender      highest_education  n_assignments  \\\n",
       "0       11391     55<=      M       HE Qualification              5   \n",
       "1       28400    35-55      F       HE Qualification              5   \n",
       "2       31604    35-55      F  A Level or Equivalent              5   \n",
       "3       32885     0-35      F     Lower Than A Level              5   \n",
       "4       38053    35-55      M  A Level or Equivalent              5   \n",
       "\n",
       "   mean_score final_result  total_clicks  studied_credits  \\\n",
       "0        82.0         Pass           934              240   \n",
       "1        66.4         Pass          1435               60   \n",
       "2        76.0         Pass          2158               60   \n",
       "3        54.4         Pass          1034               60   \n",
       "4        68.0         Pass          2445               60   \n",
       "\n",
       "                 region code_module code_presentation  press_mod  \n",
       "0   East Anglian Region         AAA             2013J  2013J-AAA  \n",
       "1              Scotland         AAA             2013J  2013J-AAA  \n",
       "2     South East Region         AAA             2013J  2013J-AAA  \n",
       "3  West Midlands Region         AAA             2013J  2013J-AAA  \n",
       "4                 Wales         AAA             2013J  2013J-AAA  "
      ]
     },
     "execution_count": 4,
     "metadata": {},
     "output_type": "execute_result"
    }
   ],
   "source": [
    "final_df.head()"
   ]
  },
  {
   "cell_type": "code",
   "execution_count": 5,
   "metadata": {},
   "outputs": [],
   "source": [
    "#find null values\n",
    "#final_df[final_df.isnull().any(axis=1)]"
   ]
  },
  {
   "cell_type": "code",
   "execution_count": 6,
   "metadata": {},
   "outputs": [],
   "source": [
    "#final_df.describe()"
   ]
  },
  {
   "cell_type": "code",
   "execution_count": 7,
   "metadata": {},
   "outputs": [],
   "source": [
    "#replace nan with mean value\n",
    "final_df[\"mean_score\"].fillna(72.83, inplace = True)"
   ]
  },
  {
   "cell_type": "code",
   "execution_count": 8,
   "metadata": {},
   "outputs": [],
   "source": [
    "#replace \"0s\" with mean\n",
    "final_df['n_assignments'] = np.where((final_df.n_assignments == 0), 7, final_df.n_assignments)"
   ]
  },
  {
   "cell_type": "code",
   "execution_count": 9,
   "metadata": {},
   "outputs": [],
   "source": [
    "final_df['clicks_per_asmt'] = final_df['total_clicks']/final_df['n_assignments']"
   ]
  },
  {
   "cell_type": "code",
   "execution_count": 10,
   "metadata": {},
   "outputs": [
    {
     "data": {
      "text/html": [
       "<div>\n",
       "<style scoped>\n",
       "    .dataframe tbody tr th:only-of-type {\n",
       "        vertical-align: middle;\n",
       "    }\n",
       "\n",
       "    .dataframe tbody tr th {\n",
       "        vertical-align: top;\n",
       "    }\n",
       "\n",
       "    .dataframe thead th {\n",
       "        text-align: right;\n",
       "    }\n",
       "</style>\n",
       "<table border=\"1\" class=\"dataframe\">\n",
       "  <thead>\n",
       "    <tr style=\"text-align: right;\">\n",
       "      <th></th>\n",
       "      <th>id_student</th>\n",
       "      <th>age_band</th>\n",
       "      <th>gender</th>\n",
       "      <th>highest_education</th>\n",
       "      <th>n_assignments</th>\n",
       "      <th>mean_score</th>\n",
       "      <th>final_result</th>\n",
       "      <th>total_clicks</th>\n",
       "      <th>studied_credits</th>\n",
       "      <th>region</th>\n",
       "      <th>code_module</th>\n",
       "      <th>code_presentation</th>\n",
       "      <th>press_mod</th>\n",
       "      <th>clicks_per_asmt</th>\n",
       "    </tr>\n",
       "  </thead>\n",
       "  <tbody>\n",
       "    <tr>\n",
       "      <th>0</th>\n",
       "      <td>11391</td>\n",
       "      <td>55&lt;=</td>\n",
       "      <td>M</td>\n",
       "      <td>HE Qualification</td>\n",
       "      <td>5</td>\n",
       "      <td>82.000000</td>\n",
       "      <td>Pass</td>\n",
       "      <td>934</td>\n",
       "      <td>240</td>\n",
       "      <td>East Anglian Region</td>\n",
       "      <td>AAA</td>\n",
       "      <td>2013J</td>\n",
       "      <td>2013J-AAA</td>\n",
       "      <td>186.800000</td>\n",
       "    </tr>\n",
       "    <tr>\n",
       "      <th>1</th>\n",
       "      <td>28400</td>\n",
       "      <td>35-55</td>\n",
       "      <td>F</td>\n",
       "      <td>HE Qualification</td>\n",
       "      <td>5</td>\n",
       "      <td>66.400000</td>\n",
       "      <td>Pass</td>\n",
       "      <td>1435</td>\n",
       "      <td>60</td>\n",
       "      <td>Scotland</td>\n",
       "      <td>AAA</td>\n",
       "      <td>2013J</td>\n",
       "      <td>2013J-AAA</td>\n",
       "      <td>287.000000</td>\n",
       "    </tr>\n",
       "    <tr>\n",
       "      <th>2</th>\n",
       "      <td>31604</td>\n",
       "      <td>35-55</td>\n",
       "      <td>F</td>\n",
       "      <td>A Level or Equivalent</td>\n",
       "      <td>5</td>\n",
       "      <td>76.000000</td>\n",
       "      <td>Pass</td>\n",
       "      <td>2158</td>\n",
       "      <td>60</td>\n",
       "      <td>South East Region</td>\n",
       "      <td>AAA</td>\n",
       "      <td>2013J</td>\n",
       "      <td>2013J-AAA</td>\n",
       "      <td>431.600000</td>\n",
       "    </tr>\n",
       "    <tr>\n",
       "      <th>3</th>\n",
       "      <td>32885</td>\n",
       "      <td>0-35</td>\n",
       "      <td>F</td>\n",
       "      <td>Lower Than A Level</td>\n",
       "      <td>5</td>\n",
       "      <td>54.400000</td>\n",
       "      <td>Pass</td>\n",
       "      <td>1034</td>\n",
       "      <td>60</td>\n",
       "      <td>West Midlands Region</td>\n",
       "      <td>AAA</td>\n",
       "      <td>2013J</td>\n",
       "      <td>2013J-AAA</td>\n",
       "      <td>206.800000</td>\n",
       "    </tr>\n",
       "    <tr>\n",
       "      <th>4</th>\n",
       "      <td>38053</td>\n",
       "      <td>35-55</td>\n",
       "      <td>M</td>\n",
       "      <td>A Level or Equivalent</td>\n",
       "      <td>5</td>\n",
       "      <td>68.000000</td>\n",
       "      <td>Pass</td>\n",
       "      <td>2445</td>\n",
       "      <td>60</td>\n",
       "      <td>Wales</td>\n",
       "      <td>AAA</td>\n",
       "      <td>2013J</td>\n",
       "      <td>2013J-AAA</td>\n",
       "      <td>489.000000</td>\n",
       "    </tr>\n",
       "    <tr>\n",
       "      <th>...</th>\n",
       "      <td>...</td>\n",
       "      <td>...</td>\n",
       "      <td>...</td>\n",
       "      <td>...</td>\n",
       "      <td>...</td>\n",
       "      <td>...</td>\n",
       "      <td>...</td>\n",
       "      <td>...</td>\n",
       "      <td>...</td>\n",
       "      <td>...</td>\n",
       "      <td>...</td>\n",
       "      <td>...</td>\n",
       "      <td>...</td>\n",
       "      <td>...</td>\n",
       "    </tr>\n",
       "    <tr>\n",
       "      <th>26716</th>\n",
       "      <td>2620947</td>\n",
       "      <td>0-35</td>\n",
       "      <td>F</td>\n",
       "      <td>A Level or Equivalent</td>\n",
       "      <td>9</td>\n",
       "      <td>88.888889</td>\n",
       "      <td>Distinction</td>\n",
       "      <td>476</td>\n",
       "      <td>30</td>\n",
       "      <td>Scotland</td>\n",
       "      <td>GGG</td>\n",
       "      <td>2014J</td>\n",
       "      <td>2014J-GGG</td>\n",
       "      <td>52.888889</td>\n",
       "    </tr>\n",
       "    <tr>\n",
       "      <th>26717</th>\n",
       "      <td>2645731</td>\n",
       "      <td>35-55</td>\n",
       "      <td>F</td>\n",
       "      <td>Lower Than A Level</td>\n",
       "      <td>9</td>\n",
       "      <td>88.111111</td>\n",
       "      <td>Distinction</td>\n",
       "      <td>893</td>\n",
       "      <td>30</td>\n",
       "      <td>East Anglian Region</td>\n",
       "      <td>GGG</td>\n",
       "      <td>2014J</td>\n",
       "      <td>2014J-GGG</td>\n",
       "      <td>99.222222</td>\n",
       "    </tr>\n",
       "    <tr>\n",
       "      <th>26718</th>\n",
       "      <td>2648187</td>\n",
       "      <td>0-35</td>\n",
       "      <td>F</td>\n",
       "      <td>A Level or Equivalent</td>\n",
       "      <td>9</td>\n",
       "      <td>76.666667</td>\n",
       "      <td>Pass</td>\n",
       "      <td>312</td>\n",
       "      <td>30</td>\n",
       "      <td>South Region</td>\n",
       "      <td>GGG</td>\n",
       "      <td>2014J</td>\n",
       "      <td>2014J-GGG</td>\n",
       "      <td>34.666667</td>\n",
       "    </tr>\n",
       "    <tr>\n",
       "      <th>26719</th>\n",
       "      <td>2679821</td>\n",
       "      <td>35-55</td>\n",
       "      <td>F</td>\n",
       "      <td>Lower Than A Level</td>\n",
       "      <td>2</td>\n",
       "      <td>91.500000</td>\n",
       "      <td>Withdrawn</td>\n",
       "      <td>275</td>\n",
       "      <td>30</td>\n",
       "      <td>South East Region</td>\n",
       "      <td>GGG</td>\n",
       "      <td>2014J</td>\n",
       "      <td>2014J-GGG</td>\n",
       "      <td>137.500000</td>\n",
       "    </tr>\n",
       "    <tr>\n",
       "      <th>26720</th>\n",
       "      <td>2684003</td>\n",
       "      <td>35-55</td>\n",
       "      <td>F</td>\n",
       "      <td>HE Qualification</td>\n",
       "      <td>7</td>\n",
       "      <td>82.857143</td>\n",
       "      <td>Distinction</td>\n",
       "      <td>616</td>\n",
       "      <td>30</td>\n",
       "      <td>Yorkshire Region</td>\n",
       "      <td>GGG</td>\n",
       "      <td>2014J</td>\n",
       "      <td>2014J-GGG</td>\n",
       "      <td>88.000000</td>\n",
       "    </tr>\n",
       "  </tbody>\n",
       "</table>\n",
       "<p>26721 rows × 14 columns</p>\n",
       "</div>"
      ],
      "text/plain": [
       "       id_student age_band gender      highest_education  n_assignments  \\\n",
       "0           11391     55<=      M       HE Qualification              5   \n",
       "1           28400    35-55      F       HE Qualification              5   \n",
       "2           31604    35-55      F  A Level or Equivalent              5   \n",
       "3           32885     0-35      F     Lower Than A Level              5   \n",
       "4           38053    35-55      M  A Level or Equivalent              5   \n",
       "...           ...      ...    ...                    ...            ...   \n",
       "26716     2620947     0-35      F  A Level or Equivalent              9   \n",
       "26717     2645731    35-55      F     Lower Than A Level              9   \n",
       "26718     2648187     0-35      F  A Level or Equivalent              9   \n",
       "26719     2679821    35-55      F     Lower Than A Level              2   \n",
       "26720     2684003    35-55      F       HE Qualification              7   \n",
       "\n",
       "       mean_score final_result  total_clicks  studied_credits  \\\n",
       "0       82.000000         Pass           934              240   \n",
       "1       66.400000         Pass          1435               60   \n",
       "2       76.000000         Pass          2158               60   \n",
       "3       54.400000         Pass          1034               60   \n",
       "4       68.000000         Pass          2445               60   \n",
       "...           ...          ...           ...              ...   \n",
       "26716   88.888889  Distinction           476               30   \n",
       "26717   88.111111  Distinction           893               30   \n",
       "26718   76.666667         Pass           312               30   \n",
       "26719   91.500000    Withdrawn           275               30   \n",
       "26720   82.857143  Distinction           616               30   \n",
       "\n",
       "                     region code_module code_presentation  press_mod  \\\n",
       "0       East Anglian Region         AAA             2013J  2013J-AAA   \n",
       "1                  Scotland         AAA             2013J  2013J-AAA   \n",
       "2         South East Region         AAA             2013J  2013J-AAA   \n",
       "3      West Midlands Region         AAA             2013J  2013J-AAA   \n",
       "4                     Wales         AAA             2013J  2013J-AAA   \n",
       "...                     ...         ...               ...        ...   \n",
       "26716              Scotland         GGG             2014J  2014J-GGG   \n",
       "26717   East Anglian Region         GGG             2014J  2014J-GGG   \n",
       "26718          South Region         GGG             2014J  2014J-GGG   \n",
       "26719     South East Region         GGG             2014J  2014J-GGG   \n",
       "26720      Yorkshire Region         GGG             2014J  2014J-GGG   \n",
       "\n",
       "       clicks_per_asmt  \n",
       "0           186.800000  \n",
       "1           287.000000  \n",
       "2           431.600000  \n",
       "3           206.800000  \n",
       "4           489.000000  \n",
       "...                ...  \n",
       "26716        52.888889  \n",
       "26717        99.222222  \n",
       "26718        34.666667  \n",
       "26719       137.500000  \n",
       "26720        88.000000  \n",
       "\n",
       "[26721 rows x 14 columns]"
      ]
     },
     "execution_count": 10,
     "metadata": {},
     "output_type": "execute_result"
    }
   ],
   "source": [
    "final_df"
   ]
  },
  {
   "cell_type": "code",
   "execution_count": 11,
   "metadata": {},
   "outputs": [],
   "source": [
    "#final_df.columns"
   ]
  },
  {
   "cell_type": "code",
   "execution_count": 12,
   "metadata": {},
   "outputs": [],
   "source": [
    "final_df.set_index(['id_student'], inplace=True)"
   ]
  },
  {
   "cell_type": "code",
   "execution_count": 13,
   "metadata": {},
   "outputs": [],
   "source": [
    "def drop_col (df, list):\n",
    "    df.drop(columns=(list), inplace=True)\n",
    "    return df"
   ]
  },
  {
   "cell_type": "code",
   "execution_count": 14,
   "metadata": {},
   "outputs": [],
   "source": [
    "col_drop = [\"press_mod\", \"code_presentation\",]"
   ]
  },
  {
   "cell_type": "code",
   "execution_count": 15,
   "metadata": {},
   "outputs": [
    {
     "data": {
      "text/html": [
       "<div>\n",
       "<style scoped>\n",
       "    .dataframe tbody tr th:only-of-type {\n",
       "        vertical-align: middle;\n",
       "    }\n",
       "\n",
       "    .dataframe tbody tr th {\n",
       "        vertical-align: top;\n",
       "    }\n",
       "\n",
       "    .dataframe thead th {\n",
       "        text-align: right;\n",
       "    }\n",
       "</style>\n",
       "<table border=\"1\" class=\"dataframe\">\n",
       "  <thead>\n",
       "    <tr style=\"text-align: right;\">\n",
       "      <th></th>\n",
       "      <th>age_band</th>\n",
       "      <th>gender</th>\n",
       "      <th>highest_education</th>\n",
       "      <th>n_assignments</th>\n",
       "      <th>mean_score</th>\n",
       "      <th>final_result</th>\n",
       "      <th>total_clicks</th>\n",
       "      <th>studied_credits</th>\n",
       "      <th>region</th>\n",
       "      <th>code_module</th>\n",
       "      <th>clicks_per_asmt</th>\n",
       "    </tr>\n",
       "    <tr>\n",
       "      <th>id_student</th>\n",
       "      <th></th>\n",
       "      <th></th>\n",
       "      <th></th>\n",
       "      <th></th>\n",
       "      <th></th>\n",
       "      <th></th>\n",
       "      <th></th>\n",
       "      <th></th>\n",
       "      <th></th>\n",
       "      <th></th>\n",
       "      <th></th>\n",
       "    </tr>\n",
       "  </thead>\n",
       "  <tbody>\n",
       "    <tr>\n",
       "      <th>11391</th>\n",
       "      <td>55&lt;=</td>\n",
       "      <td>M</td>\n",
       "      <td>HE Qualification</td>\n",
       "      <td>5</td>\n",
       "      <td>82.000000</td>\n",
       "      <td>Pass</td>\n",
       "      <td>934</td>\n",
       "      <td>240</td>\n",
       "      <td>East Anglian Region</td>\n",
       "      <td>AAA</td>\n",
       "      <td>186.800000</td>\n",
       "    </tr>\n",
       "    <tr>\n",
       "      <th>28400</th>\n",
       "      <td>35-55</td>\n",
       "      <td>F</td>\n",
       "      <td>HE Qualification</td>\n",
       "      <td>5</td>\n",
       "      <td>66.400000</td>\n",
       "      <td>Pass</td>\n",
       "      <td>1435</td>\n",
       "      <td>60</td>\n",
       "      <td>Scotland</td>\n",
       "      <td>AAA</td>\n",
       "      <td>287.000000</td>\n",
       "    </tr>\n",
       "    <tr>\n",
       "      <th>31604</th>\n",
       "      <td>35-55</td>\n",
       "      <td>F</td>\n",
       "      <td>A Level or Equivalent</td>\n",
       "      <td>5</td>\n",
       "      <td>76.000000</td>\n",
       "      <td>Pass</td>\n",
       "      <td>2158</td>\n",
       "      <td>60</td>\n",
       "      <td>South East Region</td>\n",
       "      <td>AAA</td>\n",
       "      <td>431.600000</td>\n",
       "    </tr>\n",
       "    <tr>\n",
       "      <th>32885</th>\n",
       "      <td>0-35</td>\n",
       "      <td>F</td>\n",
       "      <td>Lower Than A Level</td>\n",
       "      <td>5</td>\n",
       "      <td>54.400000</td>\n",
       "      <td>Pass</td>\n",
       "      <td>1034</td>\n",
       "      <td>60</td>\n",
       "      <td>West Midlands Region</td>\n",
       "      <td>AAA</td>\n",
       "      <td>206.800000</td>\n",
       "    </tr>\n",
       "    <tr>\n",
       "      <th>38053</th>\n",
       "      <td>35-55</td>\n",
       "      <td>M</td>\n",
       "      <td>A Level or Equivalent</td>\n",
       "      <td>5</td>\n",
       "      <td>68.000000</td>\n",
       "      <td>Pass</td>\n",
       "      <td>2445</td>\n",
       "      <td>60</td>\n",
       "      <td>Wales</td>\n",
       "      <td>AAA</td>\n",
       "      <td>489.000000</td>\n",
       "    </tr>\n",
       "    <tr>\n",
       "      <th>...</th>\n",
       "      <td>...</td>\n",
       "      <td>...</td>\n",
       "      <td>...</td>\n",
       "      <td>...</td>\n",
       "      <td>...</td>\n",
       "      <td>...</td>\n",
       "      <td>...</td>\n",
       "      <td>...</td>\n",
       "      <td>...</td>\n",
       "      <td>...</td>\n",
       "      <td>...</td>\n",
       "    </tr>\n",
       "    <tr>\n",
       "      <th>2620947</th>\n",
       "      <td>0-35</td>\n",
       "      <td>F</td>\n",
       "      <td>A Level or Equivalent</td>\n",
       "      <td>9</td>\n",
       "      <td>88.888889</td>\n",
       "      <td>Distinction</td>\n",
       "      <td>476</td>\n",
       "      <td>30</td>\n",
       "      <td>Scotland</td>\n",
       "      <td>GGG</td>\n",
       "      <td>52.888889</td>\n",
       "    </tr>\n",
       "    <tr>\n",
       "      <th>2645731</th>\n",
       "      <td>35-55</td>\n",
       "      <td>F</td>\n",
       "      <td>Lower Than A Level</td>\n",
       "      <td>9</td>\n",
       "      <td>88.111111</td>\n",
       "      <td>Distinction</td>\n",
       "      <td>893</td>\n",
       "      <td>30</td>\n",
       "      <td>East Anglian Region</td>\n",
       "      <td>GGG</td>\n",
       "      <td>99.222222</td>\n",
       "    </tr>\n",
       "    <tr>\n",
       "      <th>2648187</th>\n",
       "      <td>0-35</td>\n",
       "      <td>F</td>\n",
       "      <td>A Level or Equivalent</td>\n",
       "      <td>9</td>\n",
       "      <td>76.666667</td>\n",
       "      <td>Pass</td>\n",
       "      <td>312</td>\n",
       "      <td>30</td>\n",
       "      <td>South Region</td>\n",
       "      <td>GGG</td>\n",
       "      <td>34.666667</td>\n",
       "    </tr>\n",
       "    <tr>\n",
       "      <th>2679821</th>\n",
       "      <td>35-55</td>\n",
       "      <td>F</td>\n",
       "      <td>Lower Than A Level</td>\n",
       "      <td>2</td>\n",
       "      <td>91.500000</td>\n",
       "      <td>Withdrawn</td>\n",
       "      <td>275</td>\n",
       "      <td>30</td>\n",
       "      <td>South East Region</td>\n",
       "      <td>GGG</td>\n",
       "      <td>137.500000</td>\n",
       "    </tr>\n",
       "    <tr>\n",
       "      <th>2684003</th>\n",
       "      <td>35-55</td>\n",
       "      <td>F</td>\n",
       "      <td>HE Qualification</td>\n",
       "      <td>7</td>\n",
       "      <td>82.857143</td>\n",
       "      <td>Distinction</td>\n",
       "      <td>616</td>\n",
       "      <td>30</td>\n",
       "      <td>Yorkshire Region</td>\n",
       "      <td>GGG</td>\n",
       "      <td>88.000000</td>\n",
       "    </tr>\n",
       "  </tbody>\n",
       "</table>\n",
       "<p>26721 rows × 11 columns</p>\n",
       "</div>"
      ],
      "text/plain": [
       "           age_band gender      highest_education  n_assignments  mean_score  \\\n",
       "id_student                                                                     \n",
       "11391          55<=      M       HE Qualification              5   82.000000   \n",
       "28400         35-55      F       HE Qualification              5   66.400000   \n",
       "31604         35-55      F  A Level or Equivalent              5   76.000000   \n",
       "32885          0-35      F     Lower Than A Level              5   54.400000   \n",
       "38053         35-55      M  A Level or Equivalent              5   68.000000   \n",
       "...             ...    ...                    ...            ...         ...   \n",
       "2620947        0-35      F  A Level or Equivalent              9   88.888889   \n",
       "2645731       35-55      F     Lower Than A Level              9   88.111111   \n",
       "2648187        0-35      F  A Level or Equivalent              9   76.666667   \n",
       "2679821       35-55      F     Lower Than A Level              2   91.500000   \n",
       "2684003       35-55      F       HE Qualification              7   82.857143   \n",
       "\n",
       "           final_result  total_clicks  studied_credits                region  \\\n",
       "id_student                                                                     \n",
       "11391              Pass           934              240   East Anglian Region   \n",
       "28400              Pass          1435               60              Scotland   \n",
       "31604              Pass          2158               60     South East Region   \n",
       "32885              Pass          1034               60  West Midlands Region   \n",
       "38053              Pass          2445               60                 Wales   \n",
       "...                 ...           ...              ...                   ...   \n",
       "2620947     Distinction           476               30              Scotland   \n",
       "2645731     Distinction           893               30   East Anglian Region   \n",
       "2648187            Pass           312               30          South Region   \n",
       "2679821       Withdrawn           275               30     South East Region   \n",
       "2684003     Distinction           616               30      Yorkshire Region   \n",
       "\n",
       "           code_module  clicks_per_asmt  \n",
       "id_student                               \n",
       "11391              AAA       186.800000  \n",
       "28400              AAA       287.000000  \n",
       "31604              AAA       431.600000  \n",
       "32885              AAA       206.800000  \n",
       "38053              AAA       489.000000  \n",
       "...                ...              ...  \n",
       "2620947            GGG        52.888889  \n",
       "2645731            GGG        99.222222  \n",
       "2648187            GGG        34.666667  \n",
       "2679821            GGG       137.500000  \n",
       "2684003            GGG        88.000000  \n",
       "\n",
       "[26721 rows x 11 columns]"
      ]
     },
     "execution_count": 15,
     "metadata": {},
     "output_type": "execute_result"
    }
   ],
   "source": [
    "drop_col (final_df, col_drop)"
   ]
  },
  {
   "cell_type": "code",
   "execution_count": 16,
   "metadata": {},
   "outputs": [],
   "source": [
    "clustering_df = pd.DataFrame(data=final_df, columns=[\"n_assignments\",\"mean_score\", \"clicks_per_asmt\",\"studied_credits\" ])"
   ]
  },
  {
   "cell_type": "markdown",
   "metadata": {},
   "source": [
    "## Scaling num feat + result"
   ]
  },
  {
   "cell_type": "code",
   "execution_count": 17,
   "metadata": {},
   "outputs": [],
   "source": [
    "\n",
    "FEATS = ['n_assignments', 'mean_score', 'clicks_per_asmt', 'studied_credits']"
   ]
  },
  {
   "cell_type": "code",
   "execution_count": null,
   "metadata": {},
   "outputs": [],
   "source": []
  },
  {
   "cell_type": "code",
   "execution_count": 18,
   "metadata": {},
   "outputs": [],
   "source": [
    "transformer = Pipeline(steps=[('imputer', SimpleImputer(strategy='mean')), \n",
    "                ('scaler', StandardScaler())])"
   ]
  },
  {
   "cell_type": "code",
   "execution_count": 19,
   "metadata": {},
   "outputs": [],
   "source": [
    "preprocessor = \\\n",
    "ColumnTransformer(transformers=[('num', transformer, FEATS)])"
   ]
  },
  {
   "cell_type": "code",
   "execution_count": 20,
   "metadata": {},
   "outputs": [
    {
     "data": {
      "text/plain": [
       "ColumnTransformer(n_jobs=None, remainder='drop', sparse_threshold=0.3,\n",
       "                  transformer_weights=None,\n",
       "                  transformers=[('num',\n",
       "                                 Pipeline(memory=None,\n",
       "                                          steps=[('imputer',\n",
       "                                                  SimpleImputer(add_indicator=False,\n",
       "                                                                copy=True,\n",
       "                                                                fill_value=None,\n",
       "                                                                missing_values=nan,\n",
       "                                                                strategy='mean',\n",
       "                                                                verbose=0)),\n",
       "                                                 ('scaler',\n",
       "                                                  StandardScaler(copy=True,\n",
       "                                                                 with_mean=True,\n",
       "                                                                 with_std=True))],\n",
       "                                          verbose=False),\n",
       "                                 ['n_assignments', 'mean_score',\n",
       "                                  'clicks_per_asmt', 'studied_credits'])],\n",
       "                  verbose=False)"
      ]
     },
     "execution_count": 20,
     "metadata": {},
     "output_type": "execute_result"
    }
   ],
   "source": [
    "preprocessor"
   ]
  },
  {
   "cell_type": "code",
   "execution_count": 21,
   "metadata": {},
   "outputs": [],
   "source": [
    "clustering_1 = pd.DataFrame(data=preprocessor.fit_transform(final_df))"
   ]
  },
  {
   "cell_type": "markdown",
   "metadata": {},
   "source": [
    "# UMAP 1 (Standard Scaler)"
   ]
  },
  {
   "cell_type": "code",
   "execution_count": 22,
   "metadata": {},
   "outputs": [],
   "source": [
    "clustering_1 = clustering_1.to_numpy()"
   ]
  },
  {
   "cell_type": "code",
   "execution_count": 23,
   "metadata": {},
   "outputs": [
    {
     "data": {
      "text/plain": [
       "UMAP(a=None, angular_rp_forest=False, b=None,\n",
       "     force_approximation_algorithm=False, init='spectral', learning_rate=1.0,\n",
       "     local_connectivity=1.0, low_memory=False, metric='euclidean',\n",
       "     metric_kwds=None, min_dist=0.1, n_components=2, n_epochs=None,\n",
       "     n_neighbors=15, negative_sample_rate=5, output_metric='euclidean',\n",
       "     output_metric_kwds=None, random_state=42, repulsion_strength=1.0,\n",
       "     set_op_mix_ratio=1.0, spread=1.0, target_metric='categorical',\n",
       "     target_metric_kwds=None, target_n_neighbors=-1, target_weight=0.5,\n",
       "     transform_queue_size=4.0, transform_seed=42, unique=False, verbose=False)"
      ]
     },
     "execution_count": 23,
     "metadata": {},
     "output_type": "execute_result"
    }
   ],
   "source": [
    "reducer_1 = umap.UMAP(random_state=42)\n",
    "reducer_1.fit(clustering_1.data)"
   ]
  },
  {
   "cell_type": "code",
   "execution_count": 24,
   "metadata": {},
   "outputs": [],
   "source": [
    "embedding_1 = reducer_1.transform(clustering_1.data)"
   ]
  },
  {
   "cell_type": "code",
   "execution_count": 25,
   "metadata": {},
   "outputs": [
    {
     "data": {
      "image/png": "[encoded data removed]",
      "text/plain": [
       "<Figure size 432x288 with 2 Axes>"
      ]
     },
     "metadata": {
      "needs_background": "light"
     },
     "output_type": "display_data"
    }
   ],
   "source": [
    "plt.scatter(embedding_1[:, 0], embedding_1[:, 1], cmap='Spectral', s=5)\n",
    "plt.gca().set_aspect('equal', 'datalim')\n",
    "plt.colorbar(boundaries=np.arange(11)-0.5).set_ticks(np.arange(11))\n",
    "plt.title('UMAP 1 OU Dataset', fontsize=24);"
   ]
  },
  {
   "cell_type": "markdown",
   "metadata": {},
   "source": [
    "# DBSCAN 1"
   ]
  },
  {
   "cell_type": "code",
   "execution_count": null,
   "metadata": {},
   "outputs": [],
   "source": []
  },
  {
   "cell_type": "code",
   "execution_count": 26,
   "metadata": {},
   "outputs": [
    {
     "data": {
      "text/plain": [
       "DBSCAN(algorithm='auto', eps=0.75, leaf_size=30, metric='euclidean',\n",
       "       metric_params=None, min_samples=100, n_jobs=None, p=None)"
      ]
     },
     "execution_count": 26,
     "metadata": {},
     "output_type": "execute_result"
    }
   ],
   "source": [
    "clustering_db = DBSCAN(min_samples=100, eps=0.75, metric='euclidean' ).fit(embedding_1)\n",
    "\n",
    "clustering_db"
   ]
  },
  {
   "cell_type": "code",
   "execution_count": 27,
   "metadata": {},
   "outputs": [
    {
     "data": {
      "image/png": "[encoded data removed]",
      "text/plain": [
       "<Figure size 432x288 with 2 Axes>"
      ]
     },
     "metadata": {
      "needs_background": "light"
     },
     "output_type": "display_data"
    }
   ],
   "source": [
    "plt.scatter(embedding_1[:, 0], embedding_1[:, 1], c=clustering_db.labels_, cmap='Spectral', s=5)\n",
    "plt.gca().set_aspect('equal', 'datalim')\n",
    "plt.colorbar(boundaries=np.arange(len(np.unique(clustering_db.labels_)))-0.5).set_ticks(np.arange(len(np.unique(clustering_db.labels_))))\n",
    "plt.title('DBSCAN 1 OU Dataset', fontsize=24);"
   ]
  },
  {
   "cell_type": "code",
   "execution_count": 28,
   "metadata": {},
   "outputs": [
    {
     "data": {
      "text/plain": [
       "HDBSCAN(algorithm='best', allow_single_cluster=False, alpha=1.0,\n",
       "        approx_min_span_tree=True, cluster_selection_epsilon=0.0,\n",
       "        cluster_selection_method='eom', core_dist_n_jobs=4,\n",
       "        gen_min_span_tree=False, leaf_size=40,\n",
       "        match_reference_implementation=False, memory=Memory(location=None),\n",
       "        metric='euclidean', min_cluster_size=600, min_samples=6, p=None,\n",
       "        prediction_data=False)"
      ]
     },
     "execution_count": 28,
     "metadata": {},
     "output_type": "execute_result"
    }
   ],
   "source": [
    "clustering_1 = hdbscan.HDBSCAN(min_cluster_size=600, min_samples=6)\n",
    "\n",
    "clustering_1.fit(embedding_1)\n",
    "\n",
    "clustering_1"
   ]
  },
  {
   "cell_type": "code",
   "execution_count": 36,
   "metadata": {},
   "outputs": [
    {
     "data": {
      "image/png": "[encoded data removed]",
      "text/plain": [
       "<Figure size 432x288 with 2 Axes>"
      ]
     },
     "metadata": {
      "needs_background": "light"
     },
     "output_type": "display_data"
    }
   ],
   "source": [
    "plt.scatter(embedding_1[:, 0], embedding_1[:, 1], c=clustering_1.labels_, cmap='Spectral', s=5)\n",
    "plt.gca().set_aspect('equal', 'datalim')\n",
    "plt.colorbar(boundaries=np.arange(len(np.unique(clustering_1.labels_)))-0.5).set_ticks(np.arange(len(np.unique(clustering_1.labels_))))\n",
    "plt.title('HDBSCAN OU Dataset/ Euclidean, no_result', fontsize=24);"
   ]
  },
  {
   "cell_type": "code",
   "execution_count": 30,
   "metadata": {},
   "outputs": [],
   "source": [
    "import sklearn"
   ]
  },
  {
   "cell_type": "code",
   "execution_count": 31,
   "metadata": {},
   "outputs": [],
   "source": [
    "from sklearn.metrics  import silhouette_score"
   ]
  },
  {
   "cell_type": "code",
   "execution_count": 32,
   "metadata": {},
   "outputs": [
    {
     "data": {
      "text/plain": [
       "0.25785002"
      ]
     },
     "execution_count": 32,
     "metadata": {},
     "output_type": "execute_result"
    }
   ],
   "source": [
    "sklearn.metrics.silhouette_score(embedding_1, clustering_1.labels_, metric='euclidean', sample_size=None, random_state=None)"
   ]
  },
  {
   "cell_type": "code",
   "execution_count": 33,
   "metadata": {},
   "outputs": [],
   "source": [
    "final_df['cluster_result']=clustering_1.labels_"
   ]
  },
  {
   "cell_type": "code",
   "execution_count": 34,
   "metadata": {},
   "outputs": [
    {
     "data": {
      "text/plain": [
       " 5    8474\n",
       " 4    6320\n",
       " 3    5484\n",
       " 1    2804\n",
       " 2    2521\n",
       " 0     923\n",
       "-1     195\n",
       "Name: cluster_result, dtype: int64"
      ]
     },
     "execution_count": 34,
     "metadata": {},
     "output_type": "execute_result"
    }
   ],
   "source": [
    "final_df.cluster_result.value_counts()"
   ]
  },
  {
   "cell_type": "code",
   "execution_count": 35,
   "metadata": {},
   "outputs": [],
   "source": [
    "final_df.to_csv(\"../data/results/0.25_seven_clusters_df.csv\")"
   ]
  }
 ],
 "metadata": {
  "kernelspec": {
   "display_name": "Python [conda env:data_env]",
   "language": "python",
   "name": "conda-env-data_env-py"
  },
  "language_info": {
   "codemirror_mode": {
    "name": "ipython",
    "version": 3
   },
   "file_extension": ".py",
   "mimetype": "text/x-python",
   "name": "python",
   "nbconvert_exporter": "python",
   "pygments_lexer": "ipython3",
   "version": "3.7.6"
  }
 },
 "nbformat": 4,
 "nbformat_minor": 2
}
